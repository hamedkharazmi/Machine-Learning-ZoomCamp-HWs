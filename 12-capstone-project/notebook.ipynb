{
 "cells": [
  {
   "cell_type": "markdown",
   "id": "7c47c972",
   "metadata": {
    "id": "7c47c972"
   },
   "source": [
    "## Bank-Marketing-System\n",
    "\n",
    "Dataset: http://archive.ics.uci.edu/ml/datasets/Bank+Marketing"
   ]
  },
  {
   "cell_type": "code",
   "execution_count": 1,
   "id": "73894f84",
   "metadata": {
    "executionInfo": {
     "elapsed": 450,
     "status": "ok",
     "timestamp": 1639482196849,
     "user": {
      "displayName": "mohammad",
      "photoUrl": "https://lh3.googleusercontent.com/a/default-user=s64",
      "userId": "17476461995469440125"
     },
     "user_tz": -210
    },
    "id": "73894f84"
   },
   "outputs": [],
   "source": [
    "import pandas as pd\n",
    "import numpy as np\n",
    "\n",
    "import matplotlib.pyplot as plt\n",
    "import seaborn as sns\n",
    "\n",
    "from sklearn.model_selection import train_test_split, GridSearchCV\n ",
    "from sklearn.feature_extraction import DictVectorizer\n",
    "from sklearn.linear_model import LogisticRegression\n",
    "from sklearn.tree import DecisionTreeClassifier\n",
    "from sklearn.ensemble import RandomForestClassifier\n",
    "from sklearn.metrics import roc_auc_score, precision_score, recall_score, confusion_matrix\n",
    "from sklearn.tree import plot_tree\n",
    "from sklearn.metrics import classification_report, ConfusionMatrixDisplay, mutual_info_score\n",
    "import xgboost as xgb\n",
    "\n",
    "import warnings\n",
    "warnings.filterwarnings('ignore')"
   ]
  },
  {
   "cell_type": "markdown",
   "id": "71f170b7",
   "metadata": {},
   "source": [
    "### Read Dataset"
   ]
  },
  {
   "cell_type": "code",
   "execution_count": 2,
   "id": "194a843c",
   "metadata": {
    "executionInfo": {
     "elapsed": 1437,
     "status": "ok",
     "timestamp": 1639482231743,
     "user": {
      "displayName": "mohammad",
      "photoUrl": "https://lh3.googleusercontent.com/a/default-user=s64",
      "userId": "17476461995469440125"
     },
     "user_tz": -210
    },
    "id": "194a843c"
   },
   "outputs": [],
   "source": [
    "df = pd.read_csv('bank-additional-full.csv', sep=';')"
   ]
  },
  {
   "cell_type": "code",
   "execution_count": 3,
   "id": "246292b6",
   "metadata": {
    "executionInfo": {
     "elapsed": 18,
     "status": "ok",
     "timestamp": 1639482231745,
     "user": {
      "displayName": "mohammad",
      "photoUrl": "https://lh3.googleusercontent.com/a/default-user=s64",
      "userId": "17476461995469440125"
     },
     "user_tz": -210
    },
    "id": "246292b6"
   },
   "outputs": [],
   "source": [
    "df.columns = df.columns.str.lower().str.replace(' ', '_')"
   ]
  },
  {
   "cell_type": "code",
   "execution_count": 4,
   "id": "8f6a960a",
   "metadata": {
    "colab": {
     "base_uri": "https://localhost:8080/",
     "height": 226
    },
    "executionInfo": {
     "elapsed": 20,
     "status": "ok",
     "timestamp": 1639482231749,
     "user": {
      "displayName": "mohammad",
      "photoUrl": "https://lh3.googleusercontent.com/a/default-user=s64",
      "userId": "17476461995469440125"
     },
     "user_tz": -210
    },
    "id": "8f6a960a",
    "outputId": "c76fa49f-7e23-46e6-9b0c-c31b96c89e0f"
   },
   "outputs": [
    {
     "data": {
      "text/html": [
       "<div>\n",
       "<style scoped>\n",
       "    .dataframe tbody tr th:only-of-type {\n",
       "        vertical-align: middle;\n",
       "    }\n",
       "\n",
       "    .dataframe tbody tr th {\n",
       "        vertical-align: top;\n",
       "    }\n",
       "\n",
       "    .dataframe thead th {\n",
       "        text-align: right;\n",
       "    }\n",
       "</style>\n",
       "<table border=\"1\" class=\"dataframe\">\n",
       "  <thead>\n",
       "    <tr style=\"text-align: right;\">\n",
       "      <th></th>\n",
       "      <th>age</th>\n",
       "      <th>job</th>\n",
       "      <th>marital</th>\n",
       "      <th>education</th>\n",
       "      <th>default</th>\n",
       "      <th>housing</th>\n",
       "      <th>loan</th>\n",
       "      <th>contact</th>\n",
       "      <th>month</th>\n",
       "      <th>day_of_week</th>\n",
       "      <th>...</th>\n",
       "      <th>campaign</th>\n",
       "      <th>pdays</th>\n",
       "      <th>previous</th>\n",
       "      <th>poutcome</th>\n",
       "      <th>emp.var.rate</th>\n",
       "      <th>cons.price.idx</th>\n",
       "      <th>cons.conf.idx</th>\n",
       "      <th>euribor3m</th>\n",
       "      <th>nr.employed</th>\n",
       "      <th>y</th>\n",
       "    </tr>\n",
       "  </thead>\n",
       "  <tbody>\n",
       "    <tr>\n",
       "      <th>0</th>\n",
       "      <td>56</td>\n",
       "      <td>housemaid</td>\n",
       "      <td>married</td>\n",
       "      <td>basic.4y</td>\n",
       "      <td>no</td>\n",
       "      <td>no</td>\n",
       "      <td>no</td>\n",
       "      <td>telephone</td>\n",
       "      <td>may</td>\n",
       "      <td>mon</td>\n",
       "      <td>...</td>\n",
       "      <td>1</td>\n",
       "      <td>999</td>\n",
       "      <td>0</td>\n",
       "      <td>nonexistent</td>\n",
       "      <td>1.1</td>\n",
       "      <td>93.994</td>\n",
       "      <td>-36.4</td>\n",
       "      <td>4.857</td>\n",
       "      <td>5191.0</td>\n",
       "      <td>no</td>\n",
       "    </tr>\n",
       "    <tr>\n",
       "      <th>1</th>\n",
       "      <td>57</td>\n",
       "      <td>services</td>\n",
       "      <td>married</td>\n",
       "      <td>high.school</td>\n",
       "      <td>unknown</td>\n",
       "      <td>no</td>\n",
       "      <td>no</td>\n",
       "      <td>telephone</td>\n",
       "      <td>may</td>\n",
       "      <td>mon</td>\n",
       "      <td>...</td>\n",
       "      <td>1</td>\n",
       "      <td>999</td>\n",
       "      <td>0</td>\n",
       "      <td>nonexistent</td>\n",
       "      <td>1.1</td>\n",
       "      <td>93.994</td>\n",
       "      <td>-36.4</td>\n",
       "      <td>4.857</td>\n",
       "      <td>5191.0</td>\n",
       "      <td>no</td>\n",
       "    </tr>\n",
       "    <tr>\n",
       "      <th>2</th>\n",
       "      <td>37</td>\n",
       "      <td>services</td>\n",
       "      <td>married</td>\n",
       "      <td>high.school</td>\n",
       "      <td>no</td>\n",
       "      <td>yes</td>\n",
       "      <td>no</td>\n",
       "      <td>telephone</td>\n",
       "      <td>may</td>\n",
       "      <td>mon</td>\n",
       "      <td>...</td>\n",
       "      <td>1</td>\n",
       "      <td>999</td>\n",
       "      <td>0</td>\n",
       "      <td>nonexistent</td>\n",
       "      <td>1.1</td>\n",
       "      <td>93.994</td>\n",
       "      <td>-36.4</td>\n",
       "      <td>4.857</td>\n",
       "      <td>5191.0</td>\n",
       "      <td>no</td>\n",
       "    </tr>\n",
       "    <tr>\n",
       "      <th>3</th>\n",
       "      <td>40</td>\n",
       "      <td>admin.</td>\n",
       "      <td>married</td>\n",
       "      <td>basic.6y</td>\n",
       "      <td>no</td>\n",
       "      <td>no</td>\n",
       "      <td>no</td>\n",
       "      <td>telephone</td>\n",
       "      <td>may</td>\n",
       "      <td>mon</td>\n",
       "      <td>...</td>\n",
       "      <td>1</td>\n",
       "      <td>999</td>\n",
       "      <td>0</td>\n",
       "      <td>nonexistent</td>\n",
       "      <td>1.1</td>\n",
       "      <td>93.994</td>\n",
       "      <td>-36.4</td>\n",
       "      <td>4.857</td>\n",
       "      <td>5191.0</td>\n",
       "      <td>no</td>\n",
       "    </tr>\n",
       "    <tr>\n",
       "      <th>4</th>\n",
       "      <td>56</td>\n",
       "      <td>services</td>\n",
       "      <td>married</td>\n",
       "      <td>high.school</td>\n",
       "      <td>no</td>\n",
       "      <td>no</td>\n",
       "      <td>yes</td>\n",
       "      <td>telephone</td>\n",
       "      <td>may</td>\n",
       "      <td>mon</td>\n",
       "      <td>...</td>\n",
       "      <td>1</td>\n",
       "      <td>999</td>\n",
       "      <td>0</td>\n",
       "      <td>nonexistent</td>\n",
       "      <td>1.1</td>\n",
       "      <td>93.994</td>\n",
       "      <td>-36.4</td>\n",
       "      <td>4.857</td>\n",
       "      <td>5191.0</td>\n",
       "      <td>no</td>\n",
       "    </tr>\n",
       "  </tbody>\n",
       "</table>\n",
       "<p>5 rows × 21 columns</p>\n",
       "</div>"
      ],
      "text/plain": [
       "   age        job  marital    education  default housing loan    contact  \\\n",
       "0   56  housemaid  married     basic.4y       no      no   no  telephone   \n",
       "1   57   services  married  high.school  unknown      no   no  telephone   \n",
       "2   37   services  married  high.school       no     yes   no  telephone   \n",
       "3   40     admin.  married     basic.6y       no      no   no  telephone   \n",
       "4   56   services  married  high.school       no      no  yes  telephone   \n",
       "\n",
       "  month day_of_week  ...  campaign  pdays  previous     poutcome emp.var.rate  \\\n",
       "0   may         mon  ...         1    999         0  nonexistent          1.1   \n",
       "1   may         mon  ...         1    999         0  nonexistent          1.1   \n",
       "2   may         mon  ...         1    999         0  nonexistent          1.1   \n",
       "3   may         mon  ...         1    999         0  nonexistent          1.1   \n",
       "4   may         mon  ...         1    999         0  nonexistent          1.1   \n",
       "\n",
       "   cons.price.idx  cons.conf.idx  euribor3m  nr.employed   y  \n",
       "0          93.994          -36.4      4.857       5191.0  no  \n",
       "1          93.994          -36.4      4.857       5191.0  no  \n",
       "2          93.994          -36.4      4.857       5191.0  no  \n",
       "3          93.994          -36.4      4.857       5191.0  no  \n",
       "4          93.994          -36.4      4.857       5191.0  no  \n",
       "\n",
       "[5 rows x 21 columns]"
      ]
     },
     "execution_count": 4,
     "metadata": {},
     "output_type": "execute_result"
    }
   ],
   "source": [
    "df.head()"
   ]
  },
  {
   "cell_type": "markdown",
   "id": "3138dc7c",
   "metadata": {
    "id": "3138dc7c"
   },
   "source": [
    "### Exploratory Data Analysis"
   ]
  },
  {
   "cell_type": "code",
   "execution_count": 5,
   "id": "c7171b0d",
   "metadata": {
    "colab": {
     "base_uri": "https://localhost:8080/"
    },
    "executionInfo": {
     "elapsed": 642,
     "status": "ok",
     "timestamp": 1639482251125,
     "user": {
      "displayName": "mohammad",
      "photoUrl": "https://lh3.googleusercontent.com/a/default-user=s64",
      "userId": "17476461995469440125"
     },
     "user_tz": -210
    },
    "id": "c7171b0d",
    "outputId": "6114fd6c-38fb-4fdf-eb6a-d4da523859eb"
   },
   "outputs": [
    {
     "name": "stdout",
     "output_type": "stream",
     "text": [
      "<class 'pandas.core.frame.DataFrame'>\n",
      "RangeIndex: 41188 entries, 0 to 41187\n",
      "Data columns (total 21 columns):\n",
      " #   Column          Non-Null Count  Dtype  \n",
      "---  ------          --------------  -----  \n",
      " 0   age             41188 non-null  int64  \n",
      " 1   job             41188 non-null  object \n",
      " 2   marital         41188 non-null  object \n",
      " 3   education       41188 non-null  object \n",
      " 4   default         41188 non-null  object \n",
      " 5   housing         41188 non-null  object \n",
      " 6   loan            41188 non-null  object \n",
      " 7   contact         41188 non-null  object \n",
      " 8   month           41188 non-null  object \n",
      " 9   day_of_week     41188 non-null  object \n",
      " 10  duration        41188 non-null  int64  \n",
      " 11  campaign        41188 non-null  int64  \n",
      " 12  pdays           41188 non-null  int64  \n",
      " 13  previous        41188 non-null  int64  \n",
      " 14  poutcome        41188 non-null  object \n",
      " 15  emp.var.rate    41188 non-null  float64\n",
      " 16  cons.price.idx  41188 non-null  float64\n",
      " 17  cons.conf.idx   41188 non-null  float64\n",
      " 18  euribor3m       41188 non-null  float64\n",
      " 19  nr.employed     41188 non-null  float64\n",
      " 20  y               41188 non-null  object \n",
      "dtypes: float64(5), int64(5), object(11)\n",
      "memory usage: 6.6+ MB\n"
     ]
    }
   ],
   "source": [
    "df.info()"
   ]
  },
  {
   "cell_type": "code",
   "execution_count": 6,
   "id": "7bbc0d63",
   "metadata": {
    "executionInfo": {
     "elapsed": 8,
     "status": "ok",
     "timestamp": 1639482251128,
     "user": {
      "displayName": "mohammad",
      "photoUrl": "https://lh3.googleusercontent.com/a/default-user=s64",
      "userId": "17476461995469440125"
     },
     "user_tz": -210
    },
    "id": "7bbc0d63"
   },
   "outputs": [],
   "source": [
    "numerical = ['age', 'duration', 'campaign', 'pdays', 'previous', 'emp.var.rate', 'cons.price.idx', 'cons.conf.idx', 'euribor3m', 'nr.employed']"
   ]
  },
  {
   "cell_type": "code",
   "execution_count": 7,
   "id": "13d70998",
   "metadata": {},
   "outputs": [],
   "source": [
    "categorical = ['job', 'marital', 'education', 'default', 'housing', 'loan', 'contact', 'month', 'day_of_week', 'poutcome', 'y']"
   ]
  },
  {
   "cell_type": "code",
   "execution_count": 8,
   "id": "d1a0b9ba",
   "metadata": {
    "executionInfo": {
     "elapsed": 488,
     "status": "ok",
     "timestamp": 1639482254102,
     "user": {
      "displayName": "mohammad",
      "photoUrl": "https://lh3.googleusercontent.com/a/default-user=s64",
      "userId": "17476461995469440125"
     },
     "user_tz": -210
    },
    "id": "d1a0b9ba"
   },
   "outputs": [],
   "source": [
    "binary_values = {\n",
    "    'no': 0,\n",
    "    'yes': 1\n",
    "}\n",
    "df[\"y\"] = df[\"y\"].map(binary_values)"
   ]
  },
  {
   "cell_type": "code",
   "execution_count": 9,
   "id": "9f7977f4",
   "metadata": {
    "colab": {
     "base_uri": "https://localhost:8080/",
     "height": 708
    },
    "executionInfo": {
     "elapsed": 11,
     "status": "ok",
     "timestamp": 1639482254917,
     "user": {
      "displayName": "mohammad",
      "photoUrl": "https://lh3.googleusercontent.com/a/default-user=s64",
      "userId": "17476461995469440125"
     },
     "user_tz": -210
    },
    "id": "9f7977f4",
    "outputId": "f30a37d9-e2ea-4c1b-8f96-54b1d2d324fd",
    "scrolled": true
   },
   "outputs": [
    {
     "data": {
      "text/html": [
       "<div>\n",
       "<style scoped>\n",
       "    .dataframe tbody tr th:only-of-type {\n",
       "        vertical-align: middle;\n",
       "    }\n",
       "\n",
       "    .dataframe tbody tr th {\n",
       "        vertical-align: top;\n",
       "    }\n",
       "\n",
       "    .dataframe thead th {\n",
       "        text-align: right;\n",
       "    }\n",
       "</style>\n",
       "<table border=\"1\" class=\"dataframe\">\n",
       "  <thead>\n",
       "    <tr style=\"text-align: right;\">\n",
       "      <th></th>\n",
       "      <th>0</th>\n",
       "      <th>1</th>\n",
       "      <th>2</th>\n",
       "      <th>3</th>\n",
       "      <th>4</th>\n",
       "    </tr>\n",
       "  </thead>\n",
       "  <tbody>\n",
       "    <tr>\n",
       "      <th>age</th>\n",
       "      <td>56</td>\n",
       "      <td>57</td>\n",
       "      <td>37</td>\n",
       "      <td>40</td>\n",
       "      <td>56</td>\n",
       "    </tr>\n",
       "    <tr>\n",
       "      <th>job</th>\n",
       "      <td>housemaid</td>\n",
       "      <td>services</td>\n",
       "      <td>services</td>\n",
       "      <td>admin.</td>\n",
       "      <td>services</td>\n",
       "    </tr>\n",
       "    <tr>\n",
       "      <th>marital</th>\n",
       "      <td>married</td>\n",
       "      <td>married</td>\n",
       "      <td>married</td>\n",
       "      <td>married</td>\n",
       "      <td>married</td>\n",
       "    </tr>\n",
       "    <tr>\n",
       "      <th>education</th>\n",
       "      <td>basic.4y</td>\n",
       "      <td>high.school</td>\n",
       "      <td>high.school</td>\n",
       "      <td>basic.6y</td>\n",
       "      <td>high.school</td>\n",
       "    </tr>\n",
       "    <tr>\n",
       "      <th>default</th>\n",
       "      <td>no</td>\n",
       "      <td>unknown</td>\n",
       "      <td>no</td>\n",
       "      <td>no</td>\n",
       "      <td>no</td>\n",
       "    </tr>\n",
       "    <tr>\n",
       "      <th>housing</th>\n",
       "      <td>no</td>\n",
       "      <td>no</td>\n",
       "      <td>yes</td>\n",
       "      <td>no</td>\n",
       "      <td>no</td>\n",
       "    </tr>\n",
       "    <tr>\n",
       "      <th>loan</th>\n",
       "      <td>no</td>\n",
       "      <td>no</td>\n",
       "      <td>no</td>\n",
       "      <td>no</td>\n",
       "      <td>yes</td>\n",
       "    </tr>\n",
       "    <tr>\n",
       "      <th>contact</th>\n",
       "      <td>telephone</td>\n",
       "      <td>telephone</td>\n",
       "      <td>telephone</td>\n",
       "      <td>telephone</td>\n",
       "      <td>telephone</td>\n",
       "    </tr>\n",
       "    <tr>\n",
       "      <th>month</th>\n",
       "      <td>may</td>\n",
       "      <td>may</td>\n",
       "      <td>may</td>\n",
       "      <td>may</td>\n",
       "      <td>may</td>\n",
       "    </tr>\n",
       "    <tr>\n",
       "      <th>day_of_week</th>\n",
       "      <td>mon</td>\n",
       "      <td>mon</td>\n",
       "      <td>mon</td>\n",
       "      <td>mon</td>\n",
       "      <td>mon</td>\n",
       "    </tr>\n",
       "    <tr>\n",
       "      <th>duration</th>\n",
       "      <td>261</td>\n",
       "      <td>149</td>\n",
       "      <td>226</td>\n",
       "      <td>151</td>\n",
       "      <td>307</td>\n",
       "    </tr>\n",
       "    <tr>\n",
       "      <th>campaign</th>\n",
       "      <td>1</td>\n",
       "      <td>1</td>\n",
       "      <td>1</td>\n",
       "      <td>1</td>\n",
       "      <td>1</td>\n",
       "    </tr>\n",
       "    <tr>\n",
       "      <th>pdays</th>\n",
       "      <td>999</td>\n",
       "      <td>999</td>\n",
       "      <td>999</td>\n",
       "      <td>999</td>\n",
       "      <td>999</td>\n",
       "    </tr>\n",
       "    <tr>\n",
       "      <th>previous</th>\n",
       "      <td>0</td>\n",
       "      <td>0</td>\n",
       "      <td>0</td>\n",
       "      <td>0</td>\n",
       "      <td>0</td>\n",
       "    </tr>\n",
       "    <tr>\n",
       "      <th>poutcome</th>\n",
       "      <td>nonexistent</td>\n",
       "      <td>nonexistent</td>\n",
       "      <td>nonexistent</td>\n",
       "      <td>nonexistent</td>\n",
       "      <td>nonexistent</td>\n",
       "    </tr>\n",
       "    <tr>\n",
       "      <th>emp.var.rate</th>\n",
       "      <td>1.1</td>\n",
       "      <td>1.1</td>\n",
       "      <td>1.1</td>\n",
       "      <td>1.1</td>\n",
       "      <td>1.1</td>\n",
       "    </tr>\n",
       "    <tr>\n",
       "      <th>cons.price.idx</th>\n",
       "      <td>93.994</td>\n",
       "      <td>93.994</td>\n",
       "      <td>93.994</td>\n",
       "      <td>93.994</td>\n",
       "      <td>93.994</td>\n",
       "    </tr>\n",
       "    <tr>\n",
       "      <th>cons.conf.idx</th>\n",
       "      <td>-36.4</td>\n",
       "      <td>-36.4</td>\n",
       "      <td>-36.4</td>\n",
       "      <td>-36.4</td>\n",
       "      <td>-36.4</td>\n",
       "    </tr>\n",
       "    <tr>\n",
       "      <th>euribor3m</th>\n",
       "      <td>4.857</td>\n",
       "      <td>4.857</td>\n",
       "      <td>4.857</td>\n",
       "      <td>4.857</td>\n",
       "      <td>4.857</td>\n",
       "    </tr>\n",
       "    <tr>\n",
       "      <th>nr.employed</th>\n",
       "      <td>5191.0</td>\n",
       "      <td>5191.0</td>\n",
       "      <td>5191.0</td>\n",
       "      <td>5191.0</td>\n",
       "      <td>5191.0</td>\n",
       "    </tr>\n",
       "    <tr>\n",
       "      <th>y</th>\n",
       "      <td>0</td>\n",
       "      <td>0</td>\n",
       "      <td>0</td>\n",
       "      <td>0</td>\n",
       "      <td>0</td>\n",
       "    </tr>\n",
       "  </tbody>\n",
       "</table>\n",
       "</div>"
      ],
      "text/plain": [
       "                          0            1            2            3  \\\n",
       "age                      56           57           37           40   \n",
       "job               housemaid     services     services       admin.   \n",
       "marital             married      married      married      married   \n",
       "education          basic.4y  high.school  high.school     basic.6y   \n",
       "default                  no      unknown           no           no   \n",
       "housing                  no           no          yes           no   \n",
       "loan                     no           no           no           no   \n",
       "contact           telephone    telephone    telephone    telephone   \n",
       "month                   may          may          may          may   \n",
       "day_of_week             mon          mon          mon          mon   \n",
       "duration                261          149          226          151   \n",
       "campaign                  1            1            1            1   \n",
       "pdays                   999          999          999          999   \n",
       "previous                  0            0            0            0   \n",
       "poutcome        nonexistent  nonexistent  nonexistent  nonexistent   \n",
       "emp.var.rate            1.1          1.1          1.1          1.1   \n",
       "cons.price.idx       93.994       93.994       93.994       93.994   \n",
       "cons.conf.idx         -36.4        -36.4        -36.4        -36.4   \n",
       "euribor3m             4.857        4.857        4.857        4.857   \n",
       "nr.employed          5191.0       5191.0       5191.0       5191.0   \n",
       "y                         0            0            0            0   \n",
       "\n",
       "                          4  \n",
       "age                      56  \n",
       "job                services  \n",
       "marital             married  \n",
       "education       high.school  \n",
       "default                  no  \n",
       "housing                  no  \n",
       "loan                    yes  \n",
       "contact           telephone  \n",
       "month                   may  \n",
       "day_of_week             mon  \n",
       "duration                307  \n",
       "campaign                  1  \n",
       "pdays                   999  \n",
       "previous                  0  \n",
       "poutcome        nonexistent  \n",
       "emp.var.rate            1.1  \n",
       "cons.price.idx       93.994  \n",
       "cons.conf.idx         -36.4  \n",
       "euribor3m             4.857  \n",
       "nr.employed          5191.0  \n",
       "y                         0  "
      ]
     },
     "execution_count": 9,
     "metadata": {},
     "output_type": "execute_result"
    }
   ],
   "source": [
    "df.head().T"
   ]
  },
  {
   "cell_type": "code",
   "execution_count": 10,
   "id": "6131039c",
   "metadata": {
    "colab": {
     "base_uri": "https://localhost:8080/"
    },
    "executionInfo": {
     "elapsed": 15,
     "status": "ok",
     "timestamp": 1639482256787,
     "user": {
      "displayName": "mohammad",
      "photoUrl": "https://lh3.googleusercontent.com/a/default-user=s64",
      "userId": "17476461995469440125"
     },
     "user_tz": -210
    },
    "id": "6131039c",
    "outputId": "757b6e71-1faa-4d79-f4ce-1829dc143938"
   },
   "outputs": [
    {
     "data": {
      "text/plain": [
       "(41188, 21)"
      ]
     },
     "execution_count": 10,
     "metadata": {},
     "output_type": "execute_result"
    }
   ],
   "source": [
    "df.shape"
   ]
  },
  {
   "cell_type": "code",
   "execution_count": 11,
   "id": "925ae129",
   "metadata": {
    "colab": {
     "base_uri": "https://localhost:8080/",
     "height": 300
    },
    "executionInfo": {
     "elapsed": 722,
     "status": "ok",
     "timestamp": 1639482257499,
     "user": {
      "displayName": "mohammad",
      "photoUrl": "https://lh3.googleusercontent.com/a/default-user=s64",
      "userId": "17476461995469440125"
     },
     "user_tz": -210
    },
    "id": "925ae129",
    "outputId": "b5e2ce48-04ee-4dfc-de01-4879d2ebb112"
   },
   "outputs": [
    {
     "data": {
      "text/html": [
       "<div>\n",
       "<style scoped>\n",
       "    .dataframe tbody tr th:only-of-type {\n",
       "        vertical-align: middle;\n",
       "    }\n",
       "\n",
       "    .dataframe tbody tr th {\n",
       "        vertical-align: top;\n",
       "    }\n",
       "\n",
       "    .dataframe thead th {\n",
       "        text-align: right;\n",
       "    }\n",
       "</style>\n",
       "<table border=\"1\" class=\"dataframe\">\n",
       "  <thead>\n",
       "    <tr style=\"text-align: right;\">\n",
       "      <th></th>\n",
       "      <th>age</th>\n",
       "      <th>duration</th>\n",
       "      <th>campaign</th>\n",
       "      <th>pdays</th>\n",
       "      <th>previous</th>\n",
       "      <th>emp.var.rate</th>\n",
       "      <th>cons.price.idx</th>\n",
       "      <th>cons.conf.idx</th>\n",
       "      <th>euribor3m</th>\n",
       "      <th>nr.employed</th>\n",
       "      <th>y</th>\n",
       "    </tr>\n",
       "  </thead>\n",
       "  <tbody>\n",
       "    <tr>\n",
       "      <th>count</th>\n",
       "      <td>41188.00000</td>\n",
       "      <td>41188.000000</td>\n",
       "      <td>41188.000000</td>\n",
       "      <td>41188.000000</td>\n",
       "      <td>41188.000000</td>\n",
       "      <td>41188.000000</td>\n",
       "      <td>41188.000000</td>\n",
       "      <td>41188.000000</td>\n",
       "      <td>41188.000000</td>\n",
       "      <td>41188.000000</td>\n",
       "      <td>41188.000000</td>\n",
       "    </tr>\n",
       "    <tr>\n",
       "      <th>mean</th>\n",
       "      <td>40.02406</td>\n",
       "      <td>258.285010</td>\n",
       "      <td>2.567593</td>\n",
       "      <td>962.475454</td>\n",
       "      <td>0.172963</td>\n",
       "      <td>0.081886</td>\n",
       "      <td>93.575664</td>\n",
       "      <td>-40.502600</td>\n",
       "      <td>3.621291</td>\n",
       "      <td>5167.035911</td>\n",
       "      <td>0.112654</td>\n",
       "    </tr>\n",
       "    <tr>\n",
       "      <th>std</th>\n",
       "      <td>10.42125</td>\n",
       "      <td>259.279249</td>\n",
       "      <td>2.770014</td>\n",
       "      <td>186.910907</td>\n",
       "      <td>0.494901</td>\n",
       "      <td>1.570960</td>\n",
       "      <td>0.578840</td>\n",
       "      <td>4.628198</td>\n",
       "      <td>1.734447</td>\n",
       "      <td>72.251528</td>\n",
       "      <td>0.316173</td>\n",
       "    </tr>\n",
       "    <tr>\n",
       "      <th>min</th>\n",
       "      <td>17.00000</td>\n",
       "      <td>0.000000</td>\n",
       "      <td>1.000000</td>\n",
       "      <td>0.000000</td>\n",
       "      <td>0.000000</td>\n",
       "      <td>-3.400000</td>\n",
       "      <td>92.201000</td>\n",
       "      <td>-50.800000</td>\n",
       "      <td>0.634000</td>\n",
       "      <td>4963.600000</td>\n",
       "      <td>0.000000</td>\n",
       "    </tr>\n",
       "    <tr>\n",
       "      <th>25%</th>\n",
       "      <td>32.00000</td>\n",
       "      <td>102.000000</td>\n",
       "      <td>1.000000</td>\n",
       "      <td>999.000000</td>\n",
       "      <td>0.000000</td>\n",
       "      <td>-1.800000</td>\n",
       "      <td>93.075000</td>\n",
       "      <td>-42.700000</td>\n",
       "      <td>1.344000</td>\n",
       "      <td>5099.100000</td>\n",
       "      <td>0.000000</td>\n",
       "    </tr>\n",
       "    <tr>\n",
       "      <th>50%</th>\n",
       "      <td>38.00000</td>\n",
       "      <td>180.000000</td>\n",
       "      <td>2.000000</td>\n",
       "      <td>999.000000</td>\n",
       "      <td>0.000000</td>\n",
       "      <td>1.100000</td>\n",
       "      <td>93.749000</td>\n",
       "      <td>-41.800000</td>\n",
       "      <td>4.857000</td>\n",
       "      <td>5191.000000</td>\n",
       "      <td>0.000000</td>\n",
       "    </tr>\n",
       "    <tr>\n",
       "      <th>75%</th>\n",
       "      <td>47.00000</td>\n",
       "      <td>319.000000</td>\n",
       "      <td>3.000000</td>\n",
       "      <td>999.000000</td>\n",
       "      <td>0.000000</td>\n",
       "      <td>1.400000</td>\n",
       "      <td>93.994000</td>\n",
       "      <td>-36.400000</td>\n",
       "      <td>4.961000</td>\n",
       "      <td>5228.100000</td>\n",
       "      <td>0.000000</td>\n",
       "    </tr>\n",
       "    <tr>\n",
       "      <th>max</th>\n",
       "      <td>98.00000</td>\n",
       "      <td>4918.000000</td>\n",
       "      <td>56.000000</td>\n",
       "      <td>999.000000</td>\n",
       "      <td>7.000000</td>\n",
       "      <td>1.400000</td>\n",
       "      <td>94.767000</td>\n",
       "      <td>-26.900000</td>\n",
       "      <td>5.045000</td>\n",
       "      <td>5228.100000</td>\n",
       "      <td>1.000000</td>\n",
       "    </tr>\n",
       "  </tbody>\n",
       "</table>\n",
       "</div>"
      ],
      "text/plain": [
       "               age      duration      campaign         pdays      previous  \\\n",
       "count  41188.00000  41188.000000  41188.000000  41188.000000  41188.000000   \n",
       "mean      40.02406    258.285010      2.567593    962.475454      0.172963   \n",
       "std       10.42125    259.279249      2.770014    186.910907      0.494901   \n",
       "min       17.00000      0.000000      1.000000      0.000000      0.000000   \n",
       "25%       32.00000    102.000000      1.000000    999.000000      0.000000   \n",
       "50%       38.00000    180.000000      2.000000    999.000000      0.000000   \n",
       "75%       47.00000    319.000000      3.000000    999.000000      0.000000   \n",
       "max       98.00000   4918.000000     56.000000    999.000000      7.000000   \n",
       "\n",
       "       emp.var.rate  cons.price.idx  cons.conf.idx     euribor3m  \\\n",
       "count  41188.000000    41188.000000   41188.000000  41188.000000   \n",
       "mean       0.081886       93.575664     -40.502600      3.621291   \n",
       "std        1.570960        0.578840       4.628198      1.734447   \n",
       "min       -3.400000       92.201000     -50.800000      0.634000   \n",
       "25%       -1.800000       93.075000     -42.700000      1.344000   \n",
       "50%        1.100000       93.749000     -41.800000      4.857000   \n",
       "75%        1.400000       93.994000     -36.400000      4.961000   \n",
       "max        1.400000       94.767000     -26.900000      5.045000   \n",
       "\n",
       "        nr.employed             y  \n",
       "count  41188.000000  41188.000000  \n",
       "mean    5167.035911      0.112654  \n",
       "std       72.251528      0.316173  \n",
       "min     4963.600000      0.000000  \n",
       "25%     5099.100000      0.000000  \n",
       "50%     5191.000000      0.000000  \n",
       "75%     5228.100000      0.000000  \n",
       "max     5228.100000      1.000000  "
      ]
     },
     "execution_count": 11,
     "metadata": {},
     "output_type": "execute_result"
    }
   ],
   "source": [
    "df.describe()"
   ]
  },
  {
   "cell_type": "code",
   "execution_count": 12,
   "id": "665c4f53",
   "metadata": {
    "colab": {
     "base_uri": "https://localhost:8080/"
    },
    "executionInfo": {
     "elapsed": 12,
     "status": "ok",
     "timestamp": 1639482261040,
     "user": {
      "displayName": "mohammad",
      "photoUrl": "https://lh3.googleusercontent.com/a/default-user=s64",
      "userId": "17476461995469440125"
     },
     "user_tz": -210
    },
    "id": "665c4f53",
    "outputId": "f82cd9ee-47c7-4786-98b7-2bd9c40bce4a"
   },
   "outputs": [
    {
     "data": {
      "text/plain": [
       "age               0\n",
       "job               0\n",
       "marital           0\n",
       "education         0\n",
       "default           0\n",
       "housing           0\n",
       "loan              0\n",
       "contact           0\n",
       "month             0\n",
       "day_of_week       0\n",
       "duration          0\n",
       "campaign          0\n",
       "pdays             0\n",
       "previous          0\n",
       "poutcome          0\n",
       "emp.var.rate      0\n",
       "cons.price.idx    0\n",
       "cons.conf.idx     0\n",
       "euribor3m         0\n",
       "nr.employed       0\n",
       "y                 0\n",
       "dtype: int64"
      ]
     },
     "execution_count": 12,
     "metadata": {},
     "output_type": "execute_result"
    }
   ],
   "source": [
    "df.isnull().sum()"
   ]
  },
  {
   "cell_type": "code",
   "execution_count": 13,
   "id": "ad03d6ef",
   "metadata": {
    "colab": {
     "base_uri": "https://localhost:8080/"
    },
    "executionInfo": {
     "elapsed": 11,
     "status": "ok",
     "timestamp": 1639482261041,
     "user": {
      "displayName": "mohammad",
      "photoUrl": "https://lh3.googleusercontent.com/a/default-user=s64",
      "userId": "17476461995469440125"
     },
     "user_tz": -210
    },
    "id": "ad03d6ef",
    "outputId": "c46ca2e8-1f5a-4b8e-e8af-eed06f8b1dd8"
   },
   "outputs": [
    {
     "data": {
      "text/plain": [
       "0    36548\n",
       "1     4640\n",
       "Name: y, dtype: int64"
      ]
     },
     "execution_count": 13,
     "metadata": {},
     "output_type": "execute_result"
    }
   ],
   "source": [
    "df.y.value_counts(normalize=False)"
   ]
  },
  {
   "cell_type": "code",
   "execution_count": 14,
   "id": "d84a72df",
   "metadata": {
    "colab": {
     "base_uri": "https://localhost:8080/"
    },
    "executionInfo": {
     "elapsed": 571,
     "status": "ok",
     "timestamp": 1639482261605,
     "user": {
      "displayName": "mohammad",
      "photoUrl": "https://lh3.googleusercontent.com/a/default-user=s64",
      "userId": "17476461995469440125"
     },
     "user_tz": -210
    },
    "id": "d84a72df",
    "outputId": "45254f61-5263-422a-b1b4-3c305791809e"
   },
   "outputs": [
    {
     "name": "stdout",
     "output_type": "stream",
     "text": [
      "--- age ---\n",
      "Number Of Unique Values: 78\n",
      "[56 57 37 40 45 59 41 24 25 29]\n",
      "\n",
      "--- job ---\n",
      "Number Of Unique Values: 12\n",
      "['housemaid' 'services' 'admin.' 'blue-collar' 'technician' 'retired'\n",
      " 'management' 'unemployed' 'self-employed' 'unknown']\n",
      "\n",
      "--- marital ---\n",
      "Number Of Unique Values: 4\n",
      "['married' 'single' 'divorced' 'unknown']\n",
      "\n",
      "--- education ---\n",
      "Number Of Unique Values: 8\n",
      "['basic.4y' 'high.school' 'basic.6y' 'basic.9y' 'professional.course'\n",
      " 'unknown' 'university.degree' 'illiterate']\n",
      "\n",
      "--- default ---\n",
      "Number Of Unique Values: 3\n",
      "['no' 'unknown' 'yes']\n",
      "\n",
      "--- housing ---\n",
      "Number Of Unique Values: 3\n",
      "['no' 'yes' 'unknown']\n",
      "\n",
      "--- loan ---\n",
      "Number Of Unique Values: 3\n",
      "['no' 'yes' 'unknown']\n",
      "\n",
      "--- contact ---\n",
      "Number Of Unique Values: 2\n",
      "['telephone' 'cellular']\n",
      "\n",
      "--- month ---\n",
      "Number Of Unique Values: 10\n",
      "['may' 'jun' 'jul' 'aug' 'oct' 'nov' 'dec' 'mar' 'apr' 'sep']\n",
      "\n",
      "--- day_of_week ---\n",
      "Number Of Unique Values: 5\n",
      "['mon' 'tue' 'wed' 'thu' 'fri']\n",
      "\n",
      "--- duration ---\n",
      "Number Of Unique Values: 1544\n",
      "[261 149 226 151 307 198 139 217 380  50]\n",
      "\n",
      "--- campaign ---\n",
      "Number Of Unique Values: 42\n",
      "[ 1  2  3  4  5  6  7  8  9 10]\n",
      "\n",
      "--- pdays ---\n",
      "Number Of Unique Values: 27\n",
      "[999   6   4   3   5   1   0  10   7   8]\n",
      "\n",
      "--- previous ---\n",
      "Number Of Unique Values: 8\n",
      "[0 1 2 3 4 5 6 7]\n",
      "\n",
      "--- poutcome ---\n",
      "Number Of Unique Values: 3\n",
      "['nonexistent' 'failure' 'success']\n",
      "\n",
      "--- emp.var.rate ---\n",
      "Number Of Unique Values: 10\n",
      "[ 1.1  1.4 -0.1 -0.2 -1.8 -2.9 -3.4 -3.  -1.7 -1.1]\n",
      "\n",
      "--- cons.price.idx ---\n",
      "Number Of Unique Values: 26\n",
      "[93.994 94.465 93.918 93.444 93.798 93.2   92.756 92.843 93.075 92.893]\n",
      "\n",
      "--- cons.conf.idx ---\n",
      "Number Of Unique Values: 26\n",
      "[-36.4 -41.8 -42.7 -36.1 -40.4 -42.  -45.9 -50.  -47.1 -46.2]\n",
      "\n",
      "--- euribor3m ---\n",
      "Number Of Unique Values: 316\n",
      "[4.857 4.856 4.855 4.859 4.86  4.858 4.864 4.865 4.866 4.967]\n",
      "\n",
      "--- nr.employed ---\n",
      "Number Of Unique Values: 11\n",
      "[5191.  5228.1 5195.8 5176.3 5099.1 5076.2 5017.5 5023.5 5008.7 4991.6]\n",
      "\n",
      "--- y ---\n",
      "Number Of Unique Values: 2\n",
      "[0 1]\n",
      "\n"
     ]
    }
   ],
   "source": [
    "for col in df.columns:\n",
    "    print(\"--- \" + col + \" ---\")\n",
    "    print(\"Number Of Unique Values: \" + str(df[col].nunique()))\n",
    "    print(df[col].unique()[:10])\n",
    "    print()"
   ]
  },
  {
   "cell_type": "code",
   "execution_count": 15,
   "id": "58d1eb2e",
   "metadata": {
    "colab": {
     "base_uri": "https://localhost:8080/",
     "height": 843
    },
    "executionInfo": {
     "elapsed": 7259,
     "status": "ok",
     "timestamp": 1639482268859,
     "user": {
      "displayName": "mohammad",
      "photoUrl": "https://lh3.googleusercontent.com/a/default-user=s64",
      "userId": "17476461995469440125"
     },
     "user_tz": -210
    },
    "id": "58d1eb2e",
    "outputId": "0b5cf637-1443-428d-9c9b-b7811dc5a4c7"
   },
   "outputs": [
    {
     "data": {
      "text/plain": [
       "array([[<AxesSubplot:title={'center':'age'}>,\n",
       "        <AxesSubplot:title={'center':'duration'}>,\n",
       "        <AxesSubplot:title={'center':'campaign'}>],\n",
       "       [<AxesSubplot:title={'center':'pdays'}>,\n",
       "        <AxesSubplot:title={'center':'previous'}>,\n",
       "        <AxesSubplot:title={'center':'emp.var.rate'}>],\n",
       "       [<AxesSubplot:title={'center':'cons.price.idx'}>,\n",
       "        <AxesSubplot:title={'center':'cons.conf.idx'}>,\n",
       "        <AxesSubplot:title={'center':'euribor3m'}>],\n",
       "       [<AxesSubplot:title={'center':'nr.employed'}>,\n",
       "        <AxesSubplot:title={'center':'y'}>, <AxesSubplot:>]], dtype=object)"
      ]
     },
     "execution_count": 15,
     "metadata": {},
     "output_type": "execute_result"
    },
    {
     "data": {
      "image/png": "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\n",
      "text/plain": [
       "<Figure size 1080x720 with 12 Axes>"
      ]
     },
     "metadata": {
      "needs_background": "light"
     },
     "output_type": "display_data"
    }
   ],
   "source": [
    "df.hist(figsize=(15,10))"
   ]
  },
  {
   "cell_type": "markdown",
   "id": "5d4ed017",
   "metadata": {
    "id": "5d4ed017"
   },
   "source": [
    "#### feature importance analysis"
   ]
  },
  {
   "cell_type": "code",
   "execution_count": 17,
   "id": "bf90a451",
   "metadata": {
    "colab": {
     "base_uri": "https://localhost:8080/",
     "height": 394
    },
    "executionInfo": {
     "elapsed": 42,
     "status": "ok",
     "timestamp": 1639482268865,
     "user": {
      "displayName": "mohammad",
      "photoUrl": "https://lh3.googleusercontent.com/a/default-user=s64",
      "userId": "17476461995469440125"
     },
     "user_tz": -210
    },
    "id": "bf90a451",
    "outputId": "839cb254-c5e7-41ea-d624-c92ca0ac506c"
   },
   "outputs": [
    {
     "data": {
      "text/html": [
       "<div>\n",
       "<style scoped>\n",
       "    .dataframe tbody tr th:only-of-type {\n",
       "        vertical-align: middle;\n",
       "    }\n",
       "\n",
       "    .dataframe tbody tr th {\n",
       "        vertical-align: top;\n",
       "    }\n",
       "\n",
       "    .dataframe thead th {\n",
       "        text-align: right;\n",
       "    }\n",
       "</style>\n",
       "<table border=\"1\" class=\"dataframe\">\n",
       "  <thead>\n",
       "    <tr style=\"text-align: right;\">\n",
       "      <th></th>\n",
       "      <th>age</th>\n",
       "      <th>duration</th>\n",
       "      <th>campaign</th>\n",
       "      <th>pdays</th>\n",
       "      <th>previous</th>\n",
       "      <th>emp.var.rate</th>\n",
       "      <th>cons.price.idx</th>\n",
       "      <th>cons.conf.idx</th>\n",
       "      <th>euribor3m</th>\n",
       "      <th>nr.employed</th>\n",
       "      <th>y</th>\n",
       "    </tr>\n",
       "  </thead>\n",
       "  <tbody>\n",
       "    <tr>\n",
       "      <th>age</th>\n",
       "      <td>1.000000</td>\n",
       "      <td>-0.000866</td>\n",
       "      <td>0.004594</td>\n",
       "      <td>-0.034369</td>\n",
       "      <td>0.024365</td>\n",
       "      <td>-0.000371</td>\n",
       "      <td>0.000857</td>\n",
       "      <td>0.129372</td>\n",
       "      <td>0.010767</td>\n",
       "      <td>-0.017725</td>\n",
       "      <td>0.030399</td>\n",
       "    </tr>\n",
       "    <tr>\n",
       "      <th>duration</th>\n",
       "      <td>-0.000866</td>\n",
       "      <td>1.000000</td>\n",
       "      <td>-0.071699</td>\n",
       "      <td>-0.047577</td>\n",
       "      <td>0.020640</td>\n",
       "      <td>-0.027968</td>\n",
       "      <td>0.005312</td>\n",
       "      <td>-0.008173</td>\n",
       "      <td>-0.032897</td>\n",
       "      <td>-0.044703</td>\n",
       "      <td>0.405274</td>\n",
       "    </tr>\n",
       "    <tr>\n",
       "      <th>campaign</th>\n",
       "      <td>0.004594</td>\n",
       "      <td>-0.071699</td>\n",
       "      <td>1.000000</td>\n",
       "      <td>0.052584</td>\n",
       "      <td>-0.079141</td>\n",
       "      <td>0.150754</td>\n",
       "      <td>0.127836</td>\n",
       "      <td>-0.013733</td>\n",
       "      <td>0.135133</td>\n",
       "      <td>0.144095</td>\n",
       "      <td>-0.066357</td>\n",
       "    </tr>\n",
       "    <tr>\n",
       "      <th>pdays</th>\n",
       "      <td>-0.034369</td>\n",
       "      <td>-0.047577</td>\n",
       "      <td>0.052584</td>\n",
       "      <td>1.000000</td>\n",
       "      <td>-0.587514</td>\n",
       "      <td>0.271004</td>\n",
       "      <td>0.078889</td>\n",
       "      <td>-0.091342</td>\n",
       "      <td>0.296899</td>\n",
       "      <td>0.372605</td>\n",
       "      <td>-0.324914</td>\n",
       "    </tr>\n",
       "    <tr>\n",
       "      <th>previous</th>\n",
       "      <td>0.024365</td>\n",
       "      <td>0.020640</td>\n",
       "      <td>-0.079141</td>\n",
       "      <td>-0.587514</td>\n",
       "      <td>1.000000</td>\n",
       "      <td>-0.420489</td>\n",
       "      <td>-0.203130</td>\n",
       "      <td>-0.050936</td>\n",
       "      <td>-0.454494</td>\n",
       "      <td>-0.501333</td>\n",
       "      <td>0.230181</td>\n",
       "    </tr>\n",
       "    <tr>\n",
       "      <th>emp.var.rate</th>\n",
       "      <td>-0.000371</td>\n",
       "      <td>-0.027968</td>\n",
       "      <td>0.150754</td>\n",
       "      <td>0.271004</td>\n",
       "      <td>-0.420489</td>\n",
       "      <td>1.000000</td>\n",
       "      <td>0.775334</td>\n",
       "      <td>0.196041</td>\n",
       "      <td>0.972245</td>\n",
       "      <td>0.906970</td>\n",
       "      <td>-0.298334</td>\n",
       "    </tr>\n",
       "    <tr>\n",
       "      <th>cons.price.idx</th>\n",
       "      <td>0.000857</td>\n",
       "      <td>0.005312</td>\n",
       "      <td>0.127836</td>\n",
       "      <td>0.078889</td>\n",
       "      <td>-0.203130</td>\n",
       "      <td>0.775334</td>\n",
       "      <td>1.000000</td>\n",
       "      <td>0.058986</td>\n",
       "      <td>0.688230</td>\n",
       "      <td>0.522034</td>\n",
       "      <td>-0.136211</td>\n",
       "    </tr>\n",
       "    <tr>\n",
       "      <th>cons.conf.idx</th>\n",
       "      <td>0.129372</td>\n",
       "      <td>-0.008173</td>\n",
       "      <td>-0.013733</td>\n",
       "      <td>-0.091342</td>\n",
       "      <td>-0.050936</td>\n",
       "      <td>0.196041</td>\n",
       "      <td>0.058986</td>\n",
       "      <td>1.000000</td>\n",
       "      <td>0.277686</td>\n",
       "      <td>0.100513</td>\n",
       "      <td>0.054878</td>\n",
       "    </tr>\n",
       "    <tr>\n",
       "      <th>euribor3m</th>\n",
       "      <td>0.010767</td>\n",
       "      <td>-0.032897</td>\n",
       "      <td>0.135133</td>\n",
       "      <td>0.296899</td>\n",
       "      <td>-0.454494</td>\n",
       "      <td>0.972245</td>\n",
       "      <td>0.688230</td>\n",
       "      <td>0.277686</td>\n",
       "      <td>1.000000</td>\n",
       "      <td>0.945154</td>\n",
       "      <td>-0.307771</td>\n",
       "    </tr>\n",
       "    <tr>\n",
       "      <th>nr.employed</th>\n",
       "      <td>-0.017725</td>\n",
       "      <td>-0.044703</td>\n",
       "      <td>0.144095</td>\n",
       "      <td>0.372605</td>\n",
       "      <td>-0.501333</td>\n",
       "      <td>0.906970</td>\n",
       "      <td>0.522034</td>\n",
       "      <td>0.100513</td>\n",
       "      <td>0.945154</td>\n",
       "      <td>1.000000</td>\n",
       "      <td>-0.354678</td>\n",
       "    </tr>\n",
       "    <tr>\n",
       "      <th>y</th>\n",
       "      <td>0.030399</td>\n",
       "      <td>0.405274</td>\n",
       "      <td>-0.066357</td>\n",
       "      <td>-0.324914</td>\n",
       "      <td>0.230181</td>\n",
       "      <td>-0.298334</td>\n",
       "      <td>-0.136211</td>\n",
       "      <td>0.054878</td>\n",
       "      <td>-0.307771</td>\n",
       "      <td>-0.354678</td>\n",
       "      <td>1.000000</td>\n",
       "    </tr>\n",
       "  </tbody>\n",
       "</table>\n",
       "</div>"
      ],
      "text/plain": [
       "                     age  duration  campaign     pdays  previous  \\\n",
       "age             1.000000 -0.000866  0.004594 -0.034369  0.024365   \n",
       "duration       -0.000866  1.000000 -0.071699 -0.047577  0.020640   \n",
       "campaign        0.004594 -0.071699  1.000000  0.052584 -0.079141   \n",
       "pdays          -0.034369 -0.047577  0.052584  1.000000 -0.587514   \n",
       "previous        0.024365  0.020640 -0.079141 -0.587514  1.000000   \n",
       "emp.var.rate   -0.000371 -0.027968  0.150754  0.271004 -0.420489   \n",
       "cons.price.idx  0.000857  0.005312  0.127836  0.078889 -0.203130   \n",
       "cons.conf.idx   0.129372 -0.008173 -0.013733 -0.091342 -0.050936   \n",
       "euribor3m       0.010767 -0.032897  0.135133  0.296899 -0.454494   \n",
       "nr.employed    -0.017725 -0.044703  0.144095  0.372605 -0.501333   \n",
       "y               0.030399  0.405274 -0.066357 -0.324914  0.230181   \n",
       "\n",
       "                emp.var.rate  cons.price.idx  cons.conf.idx  euribor3m  \\\n",
       "age                -0.000371        0.000857       0.129372   0.010767   \n",
       "duration           -0.027968        0.005312      -0.008173  -0.032897   \n",
       "campaign            0.150754        0.127836      -0.013733   0.135133   \n",
       "pdays               0.271004        0.078889      -0.091342   0.296899   \n",
       "previous           -0.420489       -0.203130      -0.050936  -0.454494   \n",
       "emp.var.rate        1.000000        0.775334       0.196041   0.972245   \n",
       "cons.price.idx      0.775334        1.000000       0.058986   0.688230   \n",
       "cons.conf.idx       0.196041        0.058986       1.000000   0.277686   \n",
       "euribor3m           0.972245        0.688230       0.277686   1.000000   \n",
       "nr.employed         0.906970        0.522034       0.100513   0.945154   \n",
       "y                  -0.298334       -0.136211       0.054878  -0.307771   \n",
       "\n",
       "                nr.employed         y  \n",
       "age               -0.017725  0.030399  \n",
       "duration          -0.044703  0.405274  \n",
       "campaign           0.144095 -0.066357  \n",
       "pdays              0.372605 -0.324914  \n",
       "previous          -0.501333  0.230181  \n",
       "emp.var.rate       0.906970 -0.298334  \n",
       "cons.price.idx     0.522034 -0.136211  \n",
       "cons.conf.idx      0.100513  0.054878  \n",
       "euribor3m          0.945154 -0.307771  \n",
       "nr.employed        1.000000 -0.354678  \n",
       "y                 -0.354678  1.000000  "
      ]
     },
     "execution_count": 17,
     "metadata": {},
     "output_type": "execute_result"
    }
   ],
   "source": [
    "corr_matrix = df.corr()\n",
    "corr_matrix"
   ]
  },
  {
   "cell_type": "code",
   "execution_count": 18,
   "id": "e28919fe",
   "metadata": {
    "colab": {
     "base_uri": "https://localhost:8080/",
     "height": 347
    },
    "executionInfo": {
     "elapsed": 42,
     "status": "ok",
     "timestamp": 1639482268867,
     "user": {
      "displayName": "mohammad",
      "photoUrl": "https://lh3.googleusercontent.com/a/default-user=s64",
      "userId": "17476461995469440125"
     },
     "user_tz": -210
    },
    "id": "e28919fe",
    "outputId": "4086207c-3137-4e38-e77f-5a8c1651dc4b"
   },
   "outputs": [
    {
     "data": {
      "text/plain": [
       "<AxesSubplot:>"
      ]
     },
     "execution_count": 18,
     "metadata": {},
     "output_type": "execute_result"
    },
    {
     "data": {
      "image/png": "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\n",
      "text/plain": [
       "<Figure size 432x288 with 2 Axes>"
      ]
     },
     "metadata": {
      "needs_background": "light"
     },
     "output_type": "display_data"
    }
   ],
   "source": [
    "sns.heatmap(corr_matrix, cmap=\"YlGnBu\")"
   ]
  },
  {
   "cell_type": "code",
   "execution_count": 19,
   "id": "c12006ae",
   "metadata": {
    "colab": {
     "base_uri": "https://localhost:8080/"
    },
    "executionInfo": {
     "elapsed": 37,
     "status": "ok",
     "timestamp": 1639482268870,
     "user": {
      "displayName": "mohammad",
      "photoUrl": "https://lh3.googleusercontent.com/a/default-user=s64",
      "userId": "17476461995469440125"
     },
     "user_tz": -210
    },
    "id": "c12006ae",
    "outputId": "df7bb904-48b8-4a96-faf0-fb6c4cf8654f"
   },
   "outputs": [
    {
     "data": {
      "text/plain": [
       "duration          0.405274\n",
       "nr.employed       0.354678\n",
       "pdays             0.324914\n",
       "euribor3m         0.307771\n",
       "emp.var.rate      0.298334\n",
       "previous          0.230181\n",
       "cons.price.idx    0.136211\n",
       "campaign          0.066357\n",
       "cons.conf.idx     0.054878\n",
       "age               0.030399\n",
       "dtype: float64"
      ]
     },
     "execution_count": 19,
     "metadata": {},
     "output_type": "execute_result"
    }
   ],
   "source": [
    "df[numerical].corrwith(df.y).abs().sort_values(ascending=False)"
   ]
  },
  {
   "cell_type": "markdown",
   "id": "686c75d2",
   "metadata": {
    "id": "686c75d2"
   },
   "source": [
    "#### Mutual information"
   ]
  },
  {
   "cell_type": "code",
   "execution_count": 21,
   "id": "1052dc74",
   "metadata": {
    "executionInfo": {
     "elapsed": 1044,
     "status": "ok",
     "timestamp": 1639482270870,
     "user": {
      "displayName": "mohammad",
      "photoUrl": "https://lh3.googleusercontent.com/a/default-user=s64",
      "userId": "17476461995469440125"
     },
     "user_tz": -210
    },
    "id": "1052dc74"
   },
   "outputs": [],
   "source": [
    "def mutual_info_target_score(series):\n",
    "    return mutual_info_score(series, df.y)"
   ]
  },
  {
   "cell_type": "code",
   "execution_count": 22,
   "id": "2a684197",
   "metadata": {
    "colab": {
     "base_uri": "https://localhost:8080/"
    },
    "executionInfo": {
     "elapsed": 35,
     "status": "ok",
     "timestamp": 1639482270871,
     "user": {
      "displayName": "mohammad",
      "photoUrl": "https://lh3.googleusercontent.com/a/default-user=s64",
      "userId": "17476461995469440125"
     },
     "user_tz": -210
    },
    "id": "2a684197",
    "outputId": "427d1eb2-2e76-4e24-b681-7b7056d12fe6"
   },
   "outputs": [
    {
     "data": {
      "text/plain": [
       "y              0.352029\n",
       "poutcome       0.030384\n",
       "month          0.026407\n",
       "contact        0.011646\n",
       "job            0.009859\n",
       "default        0.005774\n",
       "education      0.002390\n",
       "marital        0.001434\n",
       "day_of_week    0.000322\n",
       "housing        0.000069\n",
       "loan           0.000013\n",
       "dtype: float64"
      ]
     },
     "execution_count": 22,
     "metadata": {},
     "output_type": "execute_result"
    }
   ],
   "source": [
    "mi = df[categorical].apply(mutual_info_target_score)\n",
    "mi.sort_values(ascending=False)"
   ]
  },
  {
   "cell_type": "code",
   "execution_count": 23,
   "id": "90b7d2e1",
   "metadata": {
    "executionInfo": {
     "elapsed": 32,
     "status": "ok",
     "timestamp": 1639482270874,
     "user": {
      "displayName": "mohammad",
      "photoUrl": "https://lh3.googleusercontent.com/a/default-user=s64",
      "userId": "17476461995469440125"
     },
     "user_tz": -210
    },
    "id": "90b7d2e1"
   },
   "outputs": [],
   "source": [
    "df_cpoy = df.copy()\n",
    "del df_cpoy['loan']\n",
    "del df_cpoy['housing']\n",
    "del df_cpoy['day_of_week']\n",
    "del df_cpoy['marital']\n",
    "del df_cpoy['education']\n",
    "del df_cpoy['default']"
   ]
  },
  {
   "cell_type": "markdown",
   "id": "fe65eae4",
   "metadata": {
    "executionInfo": {
     "elapsed": 33,
     "status": "ok",
     "timestamp": 1639482270876,
     "user": {
      "displayName": "mohammad",
      "photoUrl": "https://lh3.googleusercontent.com/a/default-user=s64",
      "userId": "17476461995469440125"
     },
     "user_tz": -210
    },
    "id": "982df772"
   },
   "source": [
    "### Data Preprocessing"
   ]
  },
  {
   "cell_type": "markdown",
   "id": "07396ecd",
   "metadata": {
    "executionInfo": {
     "elapsed": 34,
     "status": "ok",
     "timestamp": 1639482270878,
     "user": {
      "displayName": "mohammad",
      "photoUrl": "https://lh3.googleusercontent.com/a/default-user=s64",
      "userId": "17476461995469440125"
     },
     "user_tz": -210
    },
    "id": "6e72d104"
   },
   "source": [
    "#### Split Dataset into Train, Validation and Test Data"
   ]
  },
  {
   "cell_type": "code",
   "execution_count": 24,
   "id": "8475e658",
   "metadata": {
    "executionInfo": {
     "elapsed": 35,
     "status": "ok",
     "timestamp": 1639482270880,
     "user": {
      "displayName": "mohammad",
      "photoUrl": "https://lh3.googleusercontent.com/a/default-user=s64",
      "userId": "17476461995469440125"
     },
     "user_tz": -210
    },
    "id": "8475e658"
   },
   "outputs": [],
   "source": [
    "df_full_train, df_test = train_test_split(df_cpoy, test_size=0.2, random_state=1)\n",
    "df_train, df_val = train_test_split(df_full_train, test_size=0.25, random_state=1)\n",
    "\n",
    "df_train = df_train.reset_index(drop=True)\n",
    "df_val = df_val.reset_index(drop=True)\n",
    "df_test = df_test.reset_index(drop=True)\n",
    "\n",
    "y_train = df_train.y.values\n",
    "y_val = df_val.y.values\n",
    "y_test = df_test.y.values\n",
    "\n",
    "del df_train['y']\n",
    "del df_val['y']\n",
    "del df_test['y']"
   ]
  },
  {
   "cell_type": "markdown",
   "id": "07a28637",
   "metadata": {
    "id": "07a28637"
   },
   "source": [
    "#### Encode categorical features (Apply One Hot Encoding)"
   ]
  },
  {
   "cell_type": "code",
   "execution_count": 26,
   "id": "fd739965",
   "metadata": {
    "executionInfo": {
     "elapsed": 1796,
     "status": "ok",
     "timestamp": 1639482272646,
     "user": {
      "displayName": "mohammad",
      "photoUrl": "https://lh3.googleusercontent.com/a/default-user=s64",
      "userId": "17476461995469440125"
     },
     "user_tz": -210
    },
    "id": "fd739965"
   },
   "outputs": [],
   "source": [
    "dv = DictVectorizer(sparse=False)\n",
    "\n",
    "train_dict = df_train.to_dict(orient=\"records\")\n",
    "X_train = dv.fit_transform(train_dict)\n",
    "\n",
    "val_dict = df_val.to_dict(orient=\"records\")\n",
    "X_val = dv.fit_transform(val_dict)\n",
    "\n",
    "test_dict = df_test.to_dict(orient=\"records\")\n",
    "X_test = dv.fit_transform(test_dict)"
   ]
  },
  {
   "cell_type": "code",
   "execution_count": 27,
   "id": "b76b253d",
   "metadata": {
    "colab": {
     "base_uri": "https://localhost:8080/"
    },
    "executionInfo": {
     "elapsed": 28,
     "status": "ok",
     "timestamp": 1639482272648,
     "user": {
      "displayName": "mohammad",
      "photoUrl": "https://lh3.googleusercontent.com/a/default-user=s64",
      "userId": "17476461995469440125"
     },
     "user_tz": -210
    },
    "id": "b76b253d",
    "outputId": "1e3be653-82a3-4bae-bb5d-5d1167ee76e3"
   },
   "outputs": [
    {
     "data": {
      "text/plain": [
       "['age',\n",
       " 'campaign',\n",
       " 'cons.conf.idx',\n",
       " 'cons.price.idx',\n",
       " 'contact=cellular',\n",
       " 'contact=telephone',\n",
       " 'duration',\n",
       " 'emp.var.rate',\n",
       " 'euribor3m',\n",
       " 'job=admin.',\n",
       " 'job=blue-collar',\n",
       " 'job=entrepreneur',\n",
       " 'job=housemaid',\n",
       " 'job=management',\n",
       " 'job=retired',\n",
       " 'job=self-employed',\n",
       " 'job=services',\n",
       " 'job=student',\n",
       " 'job=technician',\n",
       " 'job=unemployed',\n",
       " 'job=unknown',\n",
       " 'month=apr',\n",
       " 'month=aug',\n",
       " 'month=dec',\n",
       " 'month=jul',\n",
       " 'month=jun',\n",
       " 'month=mar',\n",
       " 'month=may',\n",
       " 'month=nov',\n",
       " 'month=oct',\n",
       " 'month=sep',\n",
       " 'nr.employed',\n",
       " 'pdays',\n",
       " 'poutcome=failure',\n",
       " 'poutcome=nonexistent',\n",
       " 'poutcome=success',\n",
       " 'previous']"
      ]
     },
     "execution_count": 27,
     "metadata": {},
     "output_type": "execute_result"
    }
   ],
   "source": [
    "dv.get_feature_names()"
   ]
  },
  {
   "cell_type": "markdown",
   "id": "7ef04413",
   "metadata": {
    "id": "7ef04413"
   },
   "source": [
    "## Model training\n",
    "Trained multiple models (linear and tree-based)"
   ]
  },
  {
   "cell_type": "markdown",
   "id": "fafca42b",
   "metadata": {
    "id": "fafca42b"
   },
   "source": [
    "### LogisticRegression Model"
   ]
  },
  {
   "cell_type": "markdown",
   "id": "158d6443",
   "metadata": {},
   "source": [
    "#### Base Model"
   ]
  },
  {
   "cell_type": "code",
   "execution_count": 29,
   "id": "33a5a487",
   "metadata": {
    "colab": {
     "base_uri": "https://localhost:8080/"
    },
    "executionInfo": {
     "elapsed": 11,
     "status": "ok",
     "timestamp": 1639467583722,
     "user": {
      "displayName": "mohammad",
      "photoUrl": "https://lh3.googleusercontent.com/a/default-user=s64",
      "userId": "17476461995469440125"
     },
     "user_tz": -210
    },
    "id": "33a5a487",
    "outputId": "3d752e76-492f-4aeb-a781-1ed6f4497979"
   },
   "outputs": [
    {
     "data": {
      "text/plain": [
       "LogisticRegression(solver='liblinear')"
      ]
     },
     "execution_count": 29,
     "metadata": {},
     "output_type": "execute_result"
    }
   ],
   "source": [
    "lr_base = LogisticRegression(solver='liblinear', C=1.0)\n",
    "lr_base.fit(X_train, y_train)"
   ]
  },
  {
   "cell_type": "code",
   "execution_count": 30,
   "id": "bc2ad586",
   "metadata": {
    "colab": {
     "base_uri": "https://localhost:8080/"
    },
    "executionInfo": {
     "elapsed": 7,
     "status": "ok",
     "timestamp": 1639467585148,
     "user": {
      "displayName": "mohammad",
      "photoUrl": "https://lh3.googleusercontent.com/a/default-user=s64",
      "userId": "17476461995469440125"
     },
     "user_tz": -210
    },
    "id": "bc2ad586",
    "outputId": "71683a3a-9130-4a9c-9317-1bec8c632946",
    "scrolled": true
   },
   "outputs": [
    {
     "name": "stdout",
     "output_type": "stream",
     "text": [
      "Model intercept: 0.00337\n",
      "Model coefficients: {'age': 0.00116, 'campaign': -0.05074, 'cons.conf.idx': 0.04621, 'cons.price.idx': 0.31781, 'contact=cellular': 0.07289, 'contact=telephone': -0.06952, 'duration': 0.00472, 'emp.var.rate': -0.26628, 'euribor3m': -0.28353, 'job=admin.': 0.03863, 'job=blue-collar': -0.07327, 'job=entrepreneur': -0.00814, 'job=housemaid': -0.00098, 'job=management': -0.00337, 'job=retired': 0.02423, 'job=self-employed': 0.00043, 'job=services': -0.01445, 'job=student': 0.02483, 'job=technician': 0.00838, 'job=unemployed': 0.00633, 'job=unknown': 0.00075, 'month=apr': 0.01502, 'month=aug': 0.02451, 'month=dec': 0.00437, 'month=jul': 0.02843, 'month=jun': 0.03598, 'month=mar': 0.05274, 'month=may': -0.17235, 'month=nov': -0.01141, 'month=oct': 0.01724, 'month=sep': 0.00882, 'nr.employed': -0.00574, 'pdays': -0.00148, 'poutcome=failure': -0.0349, 'poutcome=nonexistent': 0.02842, 'poutcome=success': 0.00985, 'previous': -0.01572}\n"
     ]
    }
   ],
   "source": [
    "print(f\"Model intercept: {lr_base.intercept_[0].round(5)}\")\n",
    "print(f\"Model coefficients: {dict(zip(dv.get_feature_names(), lr_base.coef_[0].round(5)))}\")"
   ]
  },
  {
   "cell_type": "code",
   "execution_count": 31,
   "id": "1c268446",
   "metadata": {
    "colab": {
     "base_uri": "https://localhost:8080/"
    },
    "executionInfo": {
     "elapsed": 564,
     "status": "ok",
     "timestamp": 1639467588434,
     "user": {
      "displayName": "mohammad",
      "photoUrl": "https://lh3.googleusercontent.com/a/default-user=s64",
      "userId": "17476461995469440125"
     },
     "user_tz": -210
    },
    "id": "1c268446",
    "outputId": "1ad28195-963e-4924-874d-01fdd171af5f"
   },
   "outputs": [
    {
     "data": {
      "text/plain": [
       "0.9233806992435085"
      ]
     },
     "execution_count": 31,
     "metadata": {},
     "output_type": "execute_result"
    }
   ],
   "source": [
    "y_pred_bin = lr_base.predict_proba(X_val)[:, 1]\n",
    "roc_auc_score(y_val, y_pred_bin)"
   ]
  },
  {
   "cell_type": "markdown",
   "id": "cbfe9511",
   "metadata": {
    "executionInfo": {
     "elapsed": 4,
     "status": "ok",
     "timestamp": 1639467589925,
     "user": {
      "displayName": "mohammad",
      "photoUrl": "https://lh3.googleusercontent.com/a/default-user=s64",
      "userId": "17476461995469440125"
     },
     "user_tz": -210
    },
    "id": "ebb9940d"
   },
   "source": [
    "#### Tune Hyperparameters using GridSearchCV"
   ]
  },
  {
   "cell_type": "code",
   "execution_count": 32,
   "id": "1ccac481",
   "metadata": {
    "colab": {
     "base_uri": "https://localhost:8080/"
    },
    "executionInfo": {
     "elapsed": 10923,
     "status": "ok",
     "timestamp": 1639467602290,
     "user": {
      "displayName": "mohammad",
      "photoUrl": "https://lh3.googleusercontent.com/a/default-user=s64",
      "userId": "17476461995469440125"
     },
     "user_tz": -210
    },
    "id": "1ccac481",
    "outputId": "62c44d2e-3a00-4dfa-e9b6-3c0a537be51f"
   },
   "outputs": [
    {
     "data": {
      "text/plain": [
       "GridSearchCV(estimator=LogisticRegression(random_state=1), n_jobs=-1,\n",
       "             param_grid={'C': array([-3. , -2.5, -2. , -1.5, -1. , -0.5,  0. ,  0.5,  1. ,  1.5,  2. ,\n",
       "        2.5,  3. ])})"
      ]
     },
     "execution_count": 32,
     "metadata": {},
     "output_type": "execute_result"
    }
   ],
   "source": [
    "# Define the parameter grid\n",
    "param_grid = {\n",
    "    \"C\": np.linspace(-3,3,13)\n",
    "}\n",
    "\n",
    "# Define the grid search model\n",
    "lr = LogisticRegression(random_state=1)\n",
    "search_lr = GridSearchCV(\n",
    "    estimator=lr, \n",
    "    param_grid=param_grid, \n",
    "    n_jobs=-1\n",
    ")\n",
    "# By default it uses 5 fold\n",
    "\n",
    "# Train the grid search model with training dataset\n",
    "search_lr.fit(X_train, y_train)"
   ]
  },
  {
   "cell_type": "code",
   "execution_count": 33,
   "id": "84a3338c",
   "metadata": {
    "colab": {
     "base_uri": "https://localhost:8080/"
    },
    "executionInfo": {
     "elapsed": 653,
     "status": "ok",
     "timestamp": 1639467612415,
     "user": {
      "displayName": "mohammad",
      "photoUrl": "https://lh3.googleusercontent.com/a/default-user=s64",
      "userId": "17476461995469440125"
     },
     "user_tz": -210
    },
    "id": "84a3338c",
    "outputId": "a17c7724-e48a-4b66-8571-4e8c68ea075a"
   },
   "outputs": [
    {
     "name": "stdout",
     "output_type": "stream",
     "text": [
      "Best parameter (CV Score = 0.911):\n",
      "{'C': 2.0}\n"
     ]
    }
   ],
   "source": [
    "# Get the tuned hyperparameters from the grid search model\n",
    "print(f\"Best parameter (CV Score = {search_lr.best_score_.round(3)}):\")\n",
    "print(search_lr.best_params_)"
   ]
  },
  {
   "cell_type": "code",
   "execution_count": 34,
   "id": "59dff907",
   "metadata": {
    "colab": {
     "base_uri": "https://localhost:8080/"
    },
    "executionInfo": {
     "elapsed": 523,
     "status": "ok",
     "timestamp": 1639467665617,
     "user": {
      "displayName": "mohammad",
      "photoUrl": "https://lh3.googleusercontent.com/a/default-user=s64",
      "userId": "17476461995469440125"
     },
     "user_tz": -210
    },
    "id": "59dff907",
    "outputId": "935ead80-37f8-47fc-fb22-80f3b5612c16"
   },
   "outputs": [
    {
     "data": {
      "text/plain": [
       "LogisticRegression(C=2.0, solver='liblinear')"
      ]
     },
     "execution_count": 34,
     "metadata": {},
     "output_type": "execute_result"
    }
   ],
   "source": [
    "lr_tuned = LogisticRegression(solver='liblinear', C=2.0)\n",
    "lr_tuned.fit(X_train, y_train)"
   ]
  },
  {
   "cell_type": "code",
   "execution_count": 35,
   "id": "f559d63b",
   "metadata": {
    "colab": {
     "base_uri": "https://localhost:8080/"
    },
    "executionInfo": {
     "elapsed": 5,
     "status": "ok",
     "timestamp": 1639467669834,
     "user": {
      "displayName": "mohammad",
      "photoUrl": "https://lh3.googleusercontent.com/a/default-user=s64",
      "userId": "17476461995469440125"
     },
     "user_tz": -210
    },
    "id": "f559d63b",
    "outputId": "60f68fbe-f9ad-45da-de81-e28edaaabf82"
   },
   "outputs": [
    {
     "name": "stdout",
     "output_type": "stream",
     "text": [
      "Model intercept: 0.00328\n",
      "Model coefficients: {'age': 0.00088, 'campaign': -0.05596, 'cons.conf.idx': 0.02595, 'cons.price.idx': 0.38018, 'contact=cellular': 0.18699, 'contact=telephone': -0.18371, 'duration': 0.00464, 'emp.var.rate': -0.32054, 'euribor3m': -0.13727, 'job=admin.': 0.10543, 'job=blue-collar': -0.27663, 'job=entrepreneur': -0.04588, 'job=housemaid': -0.00719, 'job=management': -0.01333, 'job=retired': 0.11699, 'job=self-employed': -0.00069, 'job=services': -0.05949, 'job=student': 0.11943, 'job=technician': 0.03127, 'job=unemployed': 0.02719, 'job=unknown': 0.0062, 'month=apr': -0.01882, 'month=aug': 0.16878, 'month=dec': 0.01185, 'month=jul': 0.14573, 'month=jun': 0.18161, 'month=mar': 0.32412, 'month=may': -0.71019, 'month=nov': -0.09221, 'month=oct': 0.0248, 'month=sep': -0.0324, 'nr.employed': -0.00708, 'pdays': -0.00162, 'poutcome=failure': -0.19968, 'poutcome=nonexistent': 0.15541, 'poutcome=success': 0.04754, 'previous': -0.12923}\n"
     ]
    }
   ],
   "source": [
    "print(f\"Model intercept: {lr_tuned.intercept_[0].round(5)}\")\n",
    "print(f\"Model coefficients: {dict(zip(dv.get_feature_names(), lr_tuned.coef_[0].round(5)))}\")"
   ]
  },
  {
   "cell_type": "code",
   "execution_count": 36,
   "id": "09710672",
   "metadata": {
    "colab": {
     "base_uri": "https://localhost:8080/"
    },
    "executionInfo": {
     "elapsed": 4,
     "status": "ok",
     "timestamp": 1639467670770,
     "user": {
      "displayName": "mohammad",
      "photoUrl": "https://lh3.googleusercontent.com/a/default-user=s64",
      "userId": "17476461995469440125"
     },
     "user_tz": -210
    },
    "id": "09710672",
    "outputId": "9827924a-9236-4b98-9f1e-8d919ebaa058"
   },
   "outputs": [
    {
     "data": {
      "text/plain": [
       "0.9323286210824546"
      ]
     },
     "execution_count": 36,
     "metadata": {},
     "output_type": "execute_result"
    }
   ],
   "source": [
    "# Predict using validation dataset\n",
    "y_pred_bin = lr_tuned.predict_proba(X_val)[:, 1]\n",
    "roc_auc_score(y_val, y_pred_bin)"
   ]
  },
  {
   "cell_type": "markdown",
   "id": "5ef50b3f",
   "metadata": {
    "id": "a27e4feb"
   },
   "source": [
    "### Decision Tree Model"
   ]
  },
  {
   "cell_type": "markdown",
   "id": "52abba32",
   "metadata": {
    "executionInfo": {
     "elapsed": 790,
     "status": "ok",
     "timestamp": 1639482332246,
     "user": {
      "displayName": "mohammad",
      "photoUrl": "https://lh3.googleusercontent.com/a/default-user=s64",
      "userId": "17476461995469440125"
     },
     "user_tz": -210
    },
    "id": "6f3ab000"
   },
   "source": [
    "#### Base Model"
   ]
  },
  {
   "cell_type": "code",
   "execution_count": 37,
   "id": "809f182b",
   "metadata": {
    "colab": {
     "base_uri": "https://localhost:8080/"
    },
    "executionInfo": {
     "elapsed": 392,
     "status": "ok",
     "timestamp": 1639467720172,
     "user": {
      "displayName": "mohammad",
      "photoUrl": "https://lh3.googleusercontent.com/a/default-user=s64",
      "userId": "17476461995469440125"
     },
     "user_tz": -210
    },
    "id": "809f182b",
    "outputId": "31eb2e1f-ac67-475c-c78a-c1e26cfc2275"
   },
   "outputs": [
    {
     "data": {
      "text/plain": [
       "DecisionTreeClassifier(random_state=1)"
      ]
     },
     "execution_count": 37,
     "metadata": {},
     "output_type": "execute_result"
    }
   ],
   "source": [
    "dt_base = DecisionTreeClassifier(random_state=1)\n",
    "dt_base.fit(X_train, y_train)"
   ]
  },
  {
   "cell_type": "code",
   "execution_count": 38,
   "id": "1d9dbc63",
   "metadata": {
    "colab": {
     "base_uri": "https://localhost:8080/"
    },
    "executionInfo": {
     "elapsed": 449,
     "status": "ok",
     "timestamp": 1639467723636,
     "user": {
      "displayName": "mohammad",
      "photoUrl": "https://lh3.googleusercontent.com/a/default-user=s64",
      "userId": "17476461995469440125"
     },
     "user_tz": -210
    },
    "id": "1d9dbc63",
    "outputId": "5e8fe49b-1e00-4af4-9ec5-ac1434c8906f"
   },
   "outputs": [
    {
     "data": {
      "text/plain": [
       "0.7275745538452552"
      ]
     },
     "execution_count": 38,
     "metadata": {},
     "output_type": "execute_result"
    }
   ],
   "source": [
    "y_pred = dt_base.predict_proba(X_val)[:, 1]\n",
    "roc_auc_score(y_val, y_pred)"
   ]
  },
  {
   "cell_type": "markdown",
   "id": "0484e9e3",
   "metadata": {
    "id": "2f3bea23"
   },
   "source": [
    "#### Tune Hyperparameters using GridSearchCV"
   ]
  },
  {
   "cell_type": "code",
   "execution_count": 39,
   "id": "93c5e558",
   "metadata": {
    "executionInfo": {
     "elapsed": 409,
     "status": "ok",
     "timestamp": 1639467726787,
     "user": {
      "displayName": "mohammad",
      "photoUrl": "https://lh3.googleusercontent.com/a/default-user=s64",
      "userId": "17476461995469440125"
     },
     "user_tz": -210
    },
    "id": "93c5e558"
   },
   "outputs": [],
   "source": [
    "param_grid = {\n",
    "    \"criterion\": [\"gini\", \"entropy\"],\n",
    "    \"splitter\":[\"best\", \"random\"],\n",
    "    \"max_depth\": [None, 3, 4, 5, 6, 7, 8, 9, 10],\n",
    "    \"max_features\":[None, 3, 5, 7, 9, 11],\n",
    "    \"min_samples_leaf\": [2, 3, 5, 7, 9, 11],\n",
    "    \"min_samples_split\": [2, 3, 5, 7, 9, 11, 13, 15]\n",
    "}"
   ]
  },
  {
   "cell_type": "code",
   "execution_count": 40,
   "id": "8676fae8",
   "metadata": {
    "colab": {
     "base_uri": "https://localhost:8080/"
    },
    "executionInfo": {
     "elapsed": 1013673,
     "status": "ok",
     "timestamp": 1639468742493,
     "user": {
      "displayName": "mohammad",
      "photoUrl": "https://lh3.googleusercontent.com/a/default-user=s64",
      "userId": "17476461995469440125"
     },
     "user_tz": -210
    },
    "id": "8676fae8",
    "outputId": "d4e95167-cdd9-4ffb-e4ef-ea33dbcfd06d"
   },
   "outputs": [
    {
     "data": {
      "text/plain": [
       "GridSearchCV(estimator=DecisionTreeClassifier(random_state=1), n_jobs=-1,\n",
       "             param_grid={'criterion': ['gini', 'entropy'],\n",
       "                         'max_depth': [None, 3, 4, 5, 6, 7, 8, 9, 10],\n",
       "                         'max_features': [None, 3, 5, 7, 9, 11],\n",
       "                         'min_samples_leaf': [2, 3, 5, 7, 9, 11],\n",
       "                         'min_samples_split': [2, 3, 5, 7, 9, 11, 13, 15],\n",
       "                         'splitter': ['best', 'random']})"
      ]
     },
     "execution_count": 40,
     "metadata": {},
     "output_type": "execute_result"
    }
   ],
   "source": [
    "# Define the grid search model\n",
    "dt = DecisionTreeClassifier(random_state=1)\n",
    "search_dt = GridSearchCV(\n",
    "    estimator=dt, \n",
    "    param_grid=param_grid, \n",
    "    n_jobs=-1\n",
    ")\n",
    "\n",
    "# Train the grid search model with training dataset\n",
    "search_dt.fit(X_train, y_train)"
   ]
  },
  {
   "cell_type": "code",
   "execution_count": 52,
   "id": "37d280dd",
   "metadata": {
    "colab": {
     "base_uri": "https://localhost:8080/"
    },
    "executionInfo": {
     "elapsed": 17,
     "status": "ok",
     "timestamp": 1639468742494,
     "user": {
      "displayName": "mohammad",
      "photoUrl": "https://lh3.googleusercontent.com/a/default-user=s64",
      "userId": "17476461995469440125"
     },
     "user_tz": -210
    },
    "id": "37d280dd",
    "outputId": "158161a8-5ee4-4143-e852-53ed286c5913"
   },
   "outputs": [
    {
     "name": "stdout",
     "output_type": "stream",
     "text": [
      "Best parameter (CV Score = 0.915):\n",
      "{'criterion': 'entropy', 'max_depth': 5, 'max_features': None, 'min_samples_leaf': 11, 'min_samples_split': 2, 'splitter': 'best'}\n"
     ]
    }
   ],
   "source": [
    "# Get the tuned hyperparameters from the grid search model\n",
    "print(f\"Best parameter (CV Score = {search_dt.best_score_.round(3)}):\")\n",
    "print(search_dt.best_params_)"
   ]
  },
  {
   "cell_type": "code",
   "execution_count": 41,
   "id": "ad920ac4",
   "metadata": {
    "colab": {
     "base_uri": "https://localhost:8080/"
    },
    "executionInfo": {
     "elapsed": 4,
     "status": "ok",
     "timestamp": 1639469054320,
     "user": {
      "displayName": "mohammad",
      "photoUrl": "https://lh3.googleusercontent.com/a/default-user=s64",
      "userId": "17476461995469440125"
     },
     "user_tz": -210
    },
    "id": "ad920ac4",
    "outputId": "53a79524-5af8-417e-c8b5-875f27129d47"
   },
   "outputs": [
    {
     "name": "stdout",
     "output_type": "stream",
     "text": [
      "Validation dataset AUC: 0.931\n"
     ]
    }
   ],
   "source": [
    "# Train the model again with tuned parameters\n",
    "dt_tuned = DecisionTreeClassifier(\n",
    "    criterion=\"entropy\", \n",
    "    max_depth=5, \n",
    "    max_features=None, \n",
    "    min_samples_leaf=11, \n",
    "    min_samples_split=2, \n",
    "    splitter=\"best\", \n",
    "    random_state=1\n",
    ")\n",
    "dt_tuned.fit(X_train, y_train)\n",
    "\n",
    "# Predit using validation dataset\n",
    "y_pred_val = dt_tuned.predict_proba(X_val)[:, 1]\n",
    "result = (y_pred_val >= 0.5)\n",
    "print(f\"Validation dataset AUC: {roc_auc_score(y_val, y_pred_val).round(3)}\")"
   ]
  },
  {
   "cell_type": "code",
   "execution_count": 42,
   "id": "9dcd782c",
   "metadata": {
    "colab": {
     "base_uri": "https://localhost:8080/",
     "height": 973
    },
    "executionInfo": {
     "elapsed": 5354,
     "status": "ok",
     "timestamp": 1639469066142,
     "user": {
      "displayName": "mohammad",
      "photoUrl": "https://lh3.googleusercontent.com/a/default-user=s64",
      "userId": "17476461995469440125"
     },
     "user_tz": -210
    },
    "id": "9dcd782c",
    "outputId": "9fc19e09-e19f-4d02-91a8-00b398132e50"
   },
   "outputs": [
    {
     "data": {
      "image/png": "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
