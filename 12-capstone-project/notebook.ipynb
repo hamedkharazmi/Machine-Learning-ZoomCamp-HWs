{
 "cells": [
  {
   "cell_type": "markdown",
   "id": "7c47c972",
   "metadata": {
    "id": "7c47c972"
   },
   "source": [
    "## Bank-Marketing-System\n",
    "\n",
    "Dataset: http://archive.ics.uci.edu/ml/datasets/Bank+Marketing"
   ]
  },
  {
   "cell_type": "code",
   "execution_count": 1,
   "id": "73894f84",
   "metadata": {
    "executionInfo": {
     "elapsed": 450,
     "status": "ok",
     "timestamp": 1639482196849,
     "user": {
      "displayName": "mohammad",
      "photoUrl": "https://lh3.googleusercontent.com/a/default-user=s64",
      "userId": "17476461995469440125"
     },
     "user_tz": -210
    },
    "id": "73894f84"
   },
   "outputs": [],
   "source": [
    "import pandas as pd\n",
    "import numpy as np\n",
    "\n",
    "import matplotlib.pyplot as plt\n",
    "import seaborn as sns\n",
    "\n",
    "from sklearn.model_selection import train_test_split, GridSearchCV\n",
    "from sklearn.feature_extraction import DictVectorizer\n",
    "from sklearn.linear_model import LogisticRegression\n",
    "from sklearn.tree import DecisionTreeClassifier\n",
    "from sklearn.ensemble import RandomForestClassifier\n",
    "from sklearn.metrics import roc_auc_score, precision_score, recall_score, confusion_matrix\n ",
    "from sklearn.tree import plot_tree\n",
    "from sklearn.metrics import classification_report, ConfusionMatrixDisplay, mutual_info_score\n",
    "import xgboost as xgb\n",
    "\n",
    "import warnings\n",
    "warnings.filterwarnings('ignore')"
   ]
  },
  {
   "cell_type": "markdown",
   "id": "71f170b7",
   "metadata": {},
   "source": [
    "### Read Dataset"
   ]
  },
  {
   "cell_type": "code",
   "execution_count": 2,
   "id": "194a843c",
   "metadata": {
    "executionInfo": {
     "elapsed": 1437,
     "status": "ok",
     "timestamp": 1639482231743,
     "user": {
      "displayName": "mohammad",
      "photoUrl": "https://lh3.googleusercontent.com/a/default-user=s64",
      "userId": "17476461995469440125"
     },
     "user_tz": -210
    },
    "id": "194a843c"
   },
   "outputs": [],
   "source": [
    "df = pd.read_csv('bank-additional-full.csv', sep=';')"
   ]
  },
  {
   "cell_type": "code",
   "execution_count": 3,
   "id": "246292b6",
   "metadata": {
    "executionInfo": {
     "elapsed": 18,
     "status": "ok",
     "timestamp": 1639482231745,
     "user": {
      "displayName": "mohammad",
      "photoUrl": "https://lh3.googleusercontent.com/a/default-user=s64",
      "userId": "17476461995469440125"
     },
     "user_tz": -210
    },
    "id": "246292b6"
   },
   "outputs": [],
   "source": [
    "df.columns = df.columns.str.lower().str.replace(' ', '_')"
   ]
  },
  {
   "cell_type": "code",
   "execution_count": 4,
   "id": "8f6a960a",
   "metadata": {
    "colab": {
     "base_uri": "https://localhost:8080/",
     "height": 226
    },
    "executionInfo": {
     "elapsed": 20,
     "status": "ok",
     "timestamp": 1639482231749,
     "user": {
      "displayName": "mohammad",
      "photoUrl": "https://lh3.googleusercontent.com/a/default-user=s64",
      "userId": "17476461995469440125"
     },
     "user_tz": -210
    },
    "id": "8f6a960a",
    "outputId": "c76fa49f-7e23-46e6-9b0c-c31b96c89e0f"
   },
   "outputs": [
    {
     "data": {
      "text/html": [
       "<div>\n",
       "<style scoped>\n",
       "    .dataframe tbody tr th:only-of-type {\n",
       "        vertical-align: middle;\n",
       "    }\n",
       "\n",
       "    .dataframe tbody tr th {\n",
       "        vertical-align: top;\n",
       "    }\n",
       "\n",
       "    .dataframe thead th {\n",
       "        text-align: right;\n",
       "    }\n",
       "</style>\n",
       "<table border=\"1\" class=\"dataframe\">\n",
       "  <thead>\n",
       "    <tr style=\"text-align: right;\">\n",
       "      <th></th>\n",
       "      <th>age</th>\n",
       "      <th>job</th>\n",
       "      <th>marital</th>\n",
       "      <th>education</th>\n",
       "      <th>default</th>\n",
       "      <th>housing</th>\n",
       "      <th>loan</th>\n",
       "      <th>contact</th>\n",
       "      <th>month</th>\n",
       "      <th>day_of_week</th>\n",
       "      <th>...</th>\n",
       "      <th>campaign</th>\n",
       "      <th>pdays</th>\n",
       "      <th>previous</th>\n",
       "      <th>poutcome</th>\n",
       "      <th>emp.var.rate</th>\n",
       "      <th>cons.price.idx</th>\n",
       "      <th>cons.conf.idx</th>\n",
       "      <th>euribor3m</th>\n",
       "      <th>nr.employed</th>\n",
       "      <th>y</th>\n",
       "    </tr>\n",
       "  </thead>\n",
       "  <tbody>\n",
       "    <tr>\n",
       "      <th>0</th>\n",
       "      <td>56</td>\n",
       "      <td>housemaid</td>\n",
       "      <td>married</td>\n",
       "      <td>basic.4y</td>\n",
       "      <td>no</td>\n",
       "      <td>no</td>\n",
       "      <td>no</td>\n",
       "      <td>telephone</td>\n",
       "      <td>may</td>\n",
       "      <td>mon</td>\n",
       "      <td>...</td>\n",
       "      <td>1</td>\n",
       "      <td>999</td>\n",
       "      <td>0</td>\n",
       "      <td>nonexistent</td>\n",
       "      <td>1.1</td>\n",
       "      <td>93.994</td>\n",
       "      <td>-36.4</td>\n",
       "      <td>4.857</td>\n",
       "      <td>5191.0</td>\n",
       "      <td>no</td>\n",
       "    </tr>\n",
       "    <tr>\n",
       "      <th>1</th>\n",
       "      <td>57</td>\n",
       "      <td>services</td>\n",
       "      <td>married</td>\n",
       "      <td>high.school</td>\n",
       "      <td>unknown</td>\n",
       "      <td>no</td>\n",
       "      <td>no</td>\n",
       "      <td>telephone</td>\n",
       "      <td>may</td>\n",
       "      <td>mon</td>\n",
       "      <td>...</td>\n",
       "      <td>1</td>\n",
       "      <td>999</td>\n",
       "      <td>0</td>\n",
       "      <td>nonexistent</td>\n",
       "      <td>1.1</td>\n",
       "      <td>93.994</td>\n",
       "      <td>-36.4</td>\n",
       "      <td>4.857</td>\n",
       "      <td>5191.0</td>\n",
       "      <td>no</td>\n",
       "    </tr>\n",
       "    <tr>\n",
       "      <th>2</th>\n",
       "      <td>37</td>\n",
       "      <td>services</td>\n",
       "      <td>married</td>\n",
       "      <td>high.school</td>\n",
       "      <td>no</td>\n",
       "      <td>yes</td>\n",
       "      <td>no</td>\n",
       "      <td>telephone</td>\n",
       "      <td>may</td>\n",
       "      <td>mon</td>\n",
       "      <td>...</td>\n",
       "      <td>1</td>\n",
       "      <td>999</td>\n",
       "      <td>0</td>\n",
       "      <td>nonexistent</td>\n",
       "      <td>1.1</td>\n",
       "      <td>93.994</td>\n",
       "      <td>-36.4</td>\n",
       "      <td>4.857</td>\n",
       "      <td>5191.0</td>\n",
       "      <td>no</td>\n",
       "    </tr>\n",
       "    <tr>\n",
       "      <th>3</th>\n",
       "      <td>40</td>\n",
       "      <td>admin.</td>\n",
       "      <td>married</td>\n",
       "      <td>basic.6y</td>\n",
       "      <td>no</td>\n",
       "      <td>no</td>\n",
       "      <td>no</td>\n",
       "      <td>telephone</td>\n",
       "      <td>may</td>\n",
       "      <td>mon</td>\n",
       "      <td>...</td>\n",
       "      <td>1</td>\n",
       "      <td>999</td>\n",
       "      <td>0</td>\n",
       "      <td>nonexistent</td>\n",
       "      <td>1.1</td>\n",
       "      <td>93.994</td>\n",
       "      <td>-36.4</td>\n",
       "      <td>4.857</td>\n",
       "      <td>5191.0</td>\n",
       "      <td>no</td>\n",
       "    </tr>\n",
       "    <tr>\n",
       "      <th>4</th>\n",
       "      <td>56</td>\n",
       "      <td>services</td>\n",
       "      <td>married</td>\n",
       "      <td>high.school</td>\n",
       "      <td>no</td>\n",
       "      <td>no</td>\n",
       "      <td>yes</td>\n",
       "      <td>telephone</td>\n",
       "      <td>may</td>\n",
       "      <td>mon</td>\n",
       "      <td>...</td>\n",
       "      <td>1</td>\n",
       "      <td>999</td>\n",
       "      <td>0</td>\n",
       "      <td>nonexistent</td>\n",
       "      <td>1.1</td>\n",
       "      <td>93.994</td>\n",
       "      <td>-36.4</td>\n",
       "      <td>4.857</td>\n",
       "      <td>5191.0</td>\n",
       "      <td>no</td>\n",
       "    </tr>\n",
       "  </tbody>\n",
       "</table>\n",
       "<p>5 rows × 21 columns</p>\n",
       "</div>"
      ],
      "text/plain": [
       "   age        job  marital    education  default housing loan    contact  \\\n",
       "0   56  housemaid  married     basic.4y       no      no   no  telephone   \n",
       "1   57   services  married  high.school  unknown      no   no  telephone   \n",
       "2   37   services  married  high.school       no     yes   no  telephone   \n",
       "3   40     admin.  married     basic.6y       no      no   no  telephone   \n",
       "4   56   services  married  high.school       no      no  yes  telephone   \n",
       "\n",
       "  month day_of_week  ...  campaign  pdays  previous     poutcome emp.var.rate  \\\n",
       "0   may         mon  ...         1    999         0  nonexistent          1.1   \n",
       "1   may         mon  ...         1    999         0  nonexistent          1.1   \n",
       "2   may         mon  ...         1    999         0  nonexistent          1.1   \n",
       "3   may         mon  ...         1    999         0  nonexistent          1.1   \n",
       "4   may         mon  ...         1    999         0  nonexistent          1.1   \n",
       "\n",
       "   cons.price.idx  cons.conf.idx  euribor3m  nr.employed   y  \n",
       "0          93.994          -36.4      4.857       5191.0  no  \n",
       "1          93.994          -36.4      4.857       5191.0  no  \n",
       "2          93.994          -36.4      4.857       5191.0  no  \n",
       "3          93.994          -36.4      4.857       5191.0  no  \n",
       "4          93.994          -36.4      4.857       5191.0  no  \n",
       "\n",
       "[5 rows x 21 columns]"
      ]
     },
     "execution_count": 4,
     "metadata": {},
     "output_type": "execute_result"
    }
   ],
   "source": [
    "df.head()"
   ]
  },
  {
   "cell_type": "markdown",
   "id": "3138dc7c",
   "metadata": {
    "id": "3138dc7c"
   },
   "source": [
    "### Exploratory Data Analysis"
   ]
  },
  {
   "cell_type": "code",
   "execution_count": 5,
   "id": "c7171b0d",
   "metadata": {
    "colab": {
     "base_uri": "https://localhost:8080/"
    },
    "executionInfo": {
     "elapsed": 642,
     "status": "ok",
     "timestamp": 1639482251125,
     "user": {
      "displayName": "mohammad",
      "photoUrl": "https://lh3.googleusercontent.com/a/default-user=s64",
      "userId": "17476461995469440125"
     },
     "user_tz": -210
    },
    "id": "c7171b0d",
    "outputId": "6114fd6c-38fb-4fdf-eb6a-d4da523859eb"
   },
   "outputs": [
    {
     "name": "stdout",
     "output_type": "stream",
     "text": [
      "<class 'pandas.core.frame.DataFrame'>\n",
      "RangeIndex: 41188 entries, 0 to 41187\n",
      "Data columns (total 21 columns):\n",
      " #   Column          Non-Null Count  Dtype  \n",
      "---  ------          --------------  -----  \n",
      " 0   age             41188 non-null  int64  \n",
      " 1   job             41188 non-null  object \n",
      " 2   marital         41188 non-null  object \n",
      " 3   education       41188 non-null  object \n",
      " 4   default         41188 non-null  object \n",
      " 5   housing         41188 non-null  object \n",
      " 6   loan            41188 non-null  object \n",
      " 7   contact         41188 non-null  object \n",
      " 8   month           41188 non-null  object \n",
      " 9   day_of_week     41188 non-null  object \n",
      " 10  duration        41188 non-null  int64  \n",
      " 11  campaign        41188 non-null  int64  \n",
      " 12  pdays           41188 non-null  int64  \n",
      " 13  previous        41188 non-null  int64  \n",
      " 14  poutcome        41188 non-null  object \n",
      " 15  emp.var.rate    41188 non-null  float64\n",
      " 16  cons.price.idx  41188 non-null  float64\n",
      " 17  cons.conf.idx   41188 non-null  float64\n",
      " 18  euribor3m       41188 non-null  float64\n",
      " 19  nr.employed     41188 non-null  float64\n",
      " 20  y               41188 non-null  object \n",
      "dtypes: float64(5), int64(5), object(11)\n",
      "memory usage: 6.6+ MB\n"
     ]
    }
   ],
   "source": [
    "df.info()"
   ]
  },
  {
   "cell_type": "code",
   "execution_count": 6,
   "id": "7bbc0d63",
   "metadata": {
    "executionInfo": {
     "elapsed": 8,
     "status": "ok",
     "timestamp": 1639482251128,
     "user": {
      "displayName": "mohammad",
      "photoUrl": "https://lh3.googleusercontent.com/a/default-user=s64",
      "userId": "17476461995469440125"
     },
     "user_tz": -210
    },
    "id": "7bbc0d63"
   },
   "outputs": [],
   "source": [
    "numerical = ['age', 'duration', 'campaign', 'pdays', 'previous', 'emp.var.rate', 'cons.price.idx', 'cons.conf.idx', 'euribor3m', 'nr.employed']"
   ]
  },
  {
   "cell_type": "code",
   "execution_count": 7,
   "id": "13d70998",
   "metadata": {},
   "outputs": [],
   "source": [
    "categorical = ['job', 'marital', 'education', 'default', 'housing', 'loan', 'contact', 'month', 'day_of_week', 'poutcome', 'y']"
   ]
  },
  {
   "cell_type": "code",
   "execution_count": 8,
   "id": "d1a0b9ba",
   "metadata": {
    "executionInfo": {
     "elapsed": 488,
     "status": "ok",
     "timestamp": 1639482254102,
     "user": {
      "displayName": "mohammad",
      "photoUrl": "https://lh3.googleusercontent.com/a/default-user=s64",
      "userId": "17476461995469440125"
     },
     "user_tz": -210
    },
    "id": "d1a0b9ba"
   },
   "outputs": [],
   "source": [
    "binary_values = {\n",
    "    'no': 0,\n",
    "    'yes': 1\n",
    "}\n",
    "df[\"y\"] = df[\"y\"].map(binary_values)"
   ]
  },
  {
   "cell_type": "code",
   "execution_count": 9,
   "id": "9f7977f4",
   "metadata": {
    "colab": {
     "base_uri": "https://localhost:8080/",
     "height": 708
    },
    "executionInfo": {
     "elapsed": 11,
     "status": "ok",
     "timestamp": 1639482254917,
     "user": {
      "displayName": "mohammad",
      "photoUrl": "https://lh3.googleusercontent.com/a/default-user=s64",
      "userId": "17476461995469440125"
     },
     "user_tz": -210
    },
    "id": "9f7977f4",
    "outputId": "f30a37d9-e2ea-4c1b-8f96-54b1d2d324fd",
    "scrolled": true
   },
   "outputs": [
    {
     "data": {
      "text/html": [
       "<div>\n",
       "<style scoped>\n",
       "    .dataframe tbody tr th:only-of-type {\n",
       "        vertical-align: middle;\n",
       "    }\n",
       "\n",
       "    .dataframe tbody tr th {\n",
       "        vertical-align: top;\n",
       "    }\n",
       "\n",
       "    .dataframe thead th {\n",
       "        text-align: right;\n",
       "    }\n",
       "</style>\n",
       "<table border=\"1\" class=\"dataframe\">\n",
       "  <thead>\n",
       "    <tr style=\"text-align: right;\">\n",
       "      <th></th>\n",
       "      <th>0</th>\n",
       "      <th>1</th>\n",
       "      <th>2</th>\n",
       "      <th>3</th>\n",
       "      <th>4</th>\n",
       "    </tr>\n",
       "  </thead>\n",
       "  <tbody>\n",
       "    <tr>\n",
       "      <th>age</th>\n",
       "      <td>56</td>\n",
       "      <td>57</td>\n",
       "      <td>37</td>\n",
       "      <td>40</td>\n",
       "      <td>56</td>\n",
       "    </tr>\n",
       "    <tr>\n",
       "      <th>job</th>\n",
       "      <td>housemaid</td>\n",
       "      <td>services</td>\n",
       "      <td>services</td>\n",
       "      <td>admin.</td>\n",
       "      <td>services</td>\n",
       "    </tr>\n",
       "    <tr>\n",
       "      <th>marital</th>\n",
       "      <td>married</td>\n",
       "      <td>married</td>\n",
       "      <td>married</td>\n",
       "      <td>married</td>\n",
       "      <td>married</td>\n",
       "    </tr>\n",
       "    <tr>\n",
       "      <th>education</th>\n",
       "      <td>basic.4y</td>\n",
       "      <td>high.school</td>\n",
       "      <td>high.school</td>\n",
       "      <td>basic.6y</td>\n",
       "      <td>high.school</td>\n",
       "    </tr>\n",
       "    <tr>\n",
       "      <th>default</th>\n",
       "      <td>no</td>\n",
       "      <td>unknown</td>\n",
       "      <td>no</td>\n",
       "      <td>no</td>\n",
       "      <td>no</td>\n",
       "    </tr>\n",
       "    <tr>\n",
       "      <th>housing</th>\n",
       "      <td>no</td>\n",
       "      <td>no</td>\n",
       "      <td>yes</td>\n",
       "      <td>no</td>\n",
       "      <td>no</td>\n",
       "    </tr>\n",
       "    <tr>\n",
       "      <th>loan</th>\n",
       "      <td>no</td>\n",
       "      <td>no</td>\n",
       "      <td>no</td>\n",
       "      <td>no</td>\n",
       "      <td>yes</td>\n",
       "    </tr>\n",
       "    <tr>\n",
       "      <th>contact</th>\n",
       "      <td>telephone</td>\n",
       "      <td>telephone</td>\n",
       "      <td>telephone</td>\n",
       "      <td>telephone</td>\n",
       "      <td>telephone</td>\n",
       "    </tr>\n",
       "    <tr>\n",
       "      <th>month</th>\n",
       "      <td>may</td>\n",
       "      <td>may</td>\n",
       "      <td>may</td>\n",
       "      <td>may</td>\n",
       "      <td>may</td>\n",
       "    </tr>\n",
       "    <tr>\n",
       "      <th>day_of_week</th>\n",
       "      <td>mon</td>\n",
       "      <td>mon</td>\n",
       "      <td>mon</td>\n",
       "      <td>mon</td>\n",
       "      <td>mon</td>\n",
       "    </tr>\n",
       "    <tr>\n",
       "      <th>duration</th>\n",
       "      <td>261</td>\n",
       "      <td>149</td>\n",
       "      <td>226</td>\n",
       "      <td>151</td>\n",
       "      <td>307</td>\n",
       "    </tr>\n",
       "    <tr>\n",
       "      <th>campaign</th>\n",
       "      <td>1</td>\n",
       "      <td>1</td>\n",
       "      <td>1</td>\n",
       "      <td>1</td>\n",
       "      <td>1</td>\n",
       "    </tr>\n",
       "    <tr>\n",
       "      <th>pdays</th>\n",
       "      <td>999</td>\n",
       "      <td>999</td>\n",
       "      <td>999</td>\n",
       "      <td>999</td>\n",
       "      <td>999</td>\n",
       "    </tr>\n",
       "    <tr>\n",
       "      <th>previous</th>\n",
       "      <td>0</td>\n",
       "      <td>0</td>\n",
       "      <td>0</td>\n",
       "      <td>0</td>\n",
       "      <td>0</td>\n",
       "    </tr>\n",
       "    <tr>\n",
       "      <th>poutcome</th>\n",
       "      <td>nonexistent</td>\n",
       "      <td>nonexistent</td>\n",
       "      <td>nonexistent</td>\n",
       "      <td>nonexistent</td>\n",
       "      <td>nonexistent</td>\n",
       "    </tr>\n",
       "    <tr>\n",
       "      <th>emp.var.rate</th>\n",
       "      <td>1.1</td>\n",
       "      <td>1.1</td>\n",
       "      <td>1.1</td>\n",
       "      <td>1.1</td>\n",
       "      <td>1.1</td>\n",
       "    </tr>\n",
       "    <tr>\n",
       "      <th>cons.price.idx</th>\n",
       "      <td>93.994</td>\n",
       "      <td>93.994</td>\n",
       "      <td>93.994</td>\n",
       "      <td>93.994</td>\n",
       "      <td>93.994</td>\n",
       "    </tr>\n",
       "    <tr>\n",
       "      <th>cons.conf.idx</th>\n",
       "      <td>-36.4</td>\n",
       "      <td>-36.4</td>\n",
       "      <td>-36.4</td>\n",
       "      <td>-36.4</td>\n",
       "      <td>-36.4</td>\n",
       "    </tr>\n",
       "    <tr>\n",
       "      <th>euribor3m</th>\n",
       "      <td>4.857</td>\n",
       "      <td>4.857</td>\n",
       "      <td>4.857</td>\n",
       "      <td>4.857</td>\n",
       "      <td>4.857</td>\n",
       "    </tr>\n",
       "    <tr>\n",
       "      <th>nr.employed</th>\n",
       "      <td>5191.0</td>\n",
       "      <td>5191.0</td>\n",
       "      <td>5191.0</td>\n",
       "      <td>5191.0</td>\n",
       "      <td>5191.0</td>\n",
       "    </tr>\n",
       "    <tr>\n",
       "      <th>y</th>\n",
       "      <td>0</td>\n",
       "      <td>0</td>\n",
       "      <td>0</td>\n",
       "      <td>0</td>\n",
       "      <td>0</td>\n",
       "    </tr>\n",
       "  </tbody>\n",
       "</table>\n",
       "</div>"
      ],
      "text/plain": [
       "                          0            1            2            3  \\\n",
       "age                      56           57           37           40   \n",
       "job               housemaid     services     services       admin.   \n",
       "marital             married      married      married      married   \n",
       "education          basic.4y  high.school  high.school     basic.6y   \n",
       "default                  no      unknown           no           no   \n",
       "housing                  no           no          yes           no   \n",
       "loan                     no           no           no           no   \n",
       "contact           telephone    telephone    telephone    telephone   \n",
       "month                   may          may          may          may   \n",
       "day_of_week             mon          mon          mon          mon   \n",
       "duration                261          149          226          151   \n",
       "campaign                  1            1            1            1   \n",
       "pdays                   999          999          999          999   \n",
       "previous                  0            0            0            0   \n",
       "poutcome        nonexistent  nonexistent  nonexistent  nonexistent   \n",
       "emp.var.rate            1.1          1.1          1.1          1.1   \n",
       "cons.price.idx       93.994       93.994       93.994       93.994   \n",
       "cons.conf.idx         -36.4        -36.4        -36.4        -36.4   \n",
       "euribor3m             4.857        4.857        4.857        4.857   \n",
       "nr.employed          5191.0       5191.0       5191.0       5191.0   \n",
       "y                         0            0            0            0   \n",
       "\n",
       "                          4  \n",
       "age                      56  \n",
       "job                services  \n",
       "marital             married  \n",
       "education       high.school  \n",
       "default                  no  \n",
       "housing                  no  \n",
       "loan                    yes  \n",
       "contact           telephone  \n",
       "month                   may  \n",
       "day_of_week             mon  \n",
       "duration                307  \n",
       "campaign                  1  \n",
       "pdays                   999  \n",
       "previous                  0  \n",
       "poutcome        nonexistent  \n",
       "emp.var.rate            1.1  \n",
       "cons.price.idx       93.994  \n",
       "cons.conf.idx         -36.4  \n",
       "euribor3m             4.857  \n",
       "nr.employed          5191.0  \n",
       "y                         0  "
      ]
     },
     "execution_count": 9,
     "metadata": {},
     "output_type": "execute_result"
    }
   ],
   "source": [
    "df.head().T"
   ]
  },
  {
   "cell_type": "code",
   "execution_count": 10,
   "id": "6131039c",
   "metadata": {
    "colab": {
     "base_uri": "https://localhost:8080/"
    },
    "executionInfo": {
     "elapsed": 15,
     "status": "ok",
     "timestamp": 1639482256787,
     "user": {
      "displayName": "mohammad",
      "photoUrl": "https://lh3.googleusercontent.com/a/default-user=s64",
      "userId": "17476461995469440125"
     },
     "user_tz": -210
    },
    "id": "6131039c",
    "outputId": "757b6e71-1faa-4d79-f4ce-1829dc143938"
   },
   "outputs": [
    {
     "data": {
      "text/plain": [
       "(41188, 21)"
      ]
     },
     "execution_count": 10,
     "metadata": {},
     "output_type": "execute_result"
    }
   ],
   "source": [
    "df.shape"
   ]
  },
  {
   "cell_type": "code",
   "execution_count": 11,
   "id": "925ae129",
   "metadata": {
    "colab": {
     "base_uri": "https://localhost:8080/",
     "height": 300
    },
    "executionInfo": {
     "elapsed": 722,
     "status": "ok",
     "timestamp": 1639482257499,
     "user": {
      "displayName": "mohammad",
      "photoUrl": "https://lh3.googleusercontent.com/a/default-user=s64",
      "userId": "17476461995469440125"
     },
     "user_tz": -210
    },
    "id": "925ae129",
    "outputId": "b5e2ce48-04ee-4dfc-de01-4879d2ebb112"
   },
   "outputs": [
    {
     "data": {
      "text/html": [
       "<div>\n",
       "<style scoped>\n",
       "    .dataframe tbody tr th:only-of-type {\n",
       "        vertical-align: middle;\n",
       "    }\n",
       "\n",
       "    .dataframe tbody tr th {\n",
       "        vertical-align: top;\n",
       "    }\n",
       "\n",
       "    .dataframe thead th {\n",
       "        text-align: right;\n",
       "    }\n",
       "</style>\n",
       "<table border=\"1\" class=\"dataframe\">\n",
       "  <thead>\n",
       "    <tr style=\"text-align: right;\">\n",
       "      <th></th>\n",
       "      <th>age</th>\n",
       "      <th>duration</th>\n",
       "      <th>campaign</th>\n",
       "      <th>pdays</th>\n",
       "      <th>previous</th>\n",
       "      <th>emp.var.rate</th>\n",
       "      <th>cons.price.idx</th>\n",
       "      <th>cons.conf.idx</th>\n",
       "      <th>euribor3m</th>\n",
       "      <th>nr.employed</th>\n",
       "      <th>y</th>\n",
       "    </tr>\n",
       "  </thead>\n",
       "  <tbody>\n",
       "    <tr>\n",
       "      <th>count</th>\n",
       "      <td>41188.00000</td>\n",
       "      <td>41188.000000</td>\n",
       "      <td>41188.000000</td>\n",
       "      <td>41188.000000</td>\n",
       "      <td>41188.000000</td>\n",
       "      <td>41188.000000</td>\n",
       "      <td>41188.000000</td>\n",
       "      <td>41188.000000</td>\n",
       "      <td>41188.000000</td>\n",
       "      <td>41188.000000</td>\n",
       "      <td>41188.000000</td>\n",
       "    </tr>\n",
       "    <tr>\n",
       "      <th>mean</th>\n",
       "      <td>40.02406</td>\n",
       "      <td>258.285010</td>\n",
       "      <td>2.567593</td>\n",
       "      <td>962.475454</td>\n",
       "      <td>0.172963</td>\n",
       "      <td>0.081886</td>\n",
       "      <td>93.575664</td>\n",
       "      <td>-40.502600</td>\n",
       "      <td>3.621291</td>\n",
       "      <td>5167.035911</td>\n",
       "      <td>0.112654</td>\n",
       "    </tr>\n",
       "    <tr>\n",
       "      <th>std</th>\n",
       "      <td>10.42125</td>\n",
       "      <td>259.279249</td>\n",
       "      <td>2.770014</td>\n",
       "      <td>186.910907</td>\n",
       "      <td>0.494901</td>\n",
       "      <td>1.570960</td>\n",
       "      <td>0.578840</td>\n",
       "      <td>4.628198</td>\n",
       "      <td>1.734447</td>\n",
       "      <td>72.251528</td>\n",
       "      <td>0.316173</td>\n",
       "    </tr>\n",
       "    <tr>\n",
       "      <th>min</th>\n",
       "      <td>17.00000</td>\n",
       "      <td>0.000000</td>\n",
       "      <td>1.000000</td>\n",
       "      <td>0.000000</td>\n",
       "      <td>0.000000</td>\n",
       "      <td>-3.400000</td>\n",
       "      <td>92.201000</td>\n",
       "      <td>-50.800000</td>\n",
       "      <td>0.634000</td>\n",
       "      <td>4963.600000</td>\n",
       "      <td>0.000000</td>\n",
       "    </tr>\n",
       "    <tr>\n",
       "      <th>25%</th>\n",
       "      <td>32.00000</td>\n",
       "      <td>102.000000</td>\n",
       "      <td>1.000000</td>\n",
       "      <td>999.000000</td>\n",
       "      <td>0.000000</td>\n",
       "      <td>-1.800000</td>\n",
       "      <td>93.075000</td>\n",
       "      <td>-42.700000</td>\n",
       "      <td>1.344000</td>\n",
       "      <td>5099.100000</td>\n",
       "      <td>0.000000</td>\n",
       "    </tr>\n",
       "    <tr>\n",
       "      <th>50%</th>\n",
       "      <td>38.00000</td>\n",
       "      <td>180.000000</td>\n",
       "      <td>2.000000</td>\n",
       "      <td>999.000000</td>\n",
       "      <td>0.000000</td>\n",
       "      <td>1.100000</td>\n",
       "      <td>93.749000</td>\n",
       "      <td>-41.800000</td>\n",
       "      <td>4.857000</td>\n",
       "      <td>5191.000000</td>\n",
       "      <td>0.000000</td>\n",
       "    </tr>\n",
       "    <tr>\n",
       "      <th>75%</th>\n",
       "      <td>47.00000</td>\n",
       "      <td>319.000000</td>\n",
       "      <td>3.000000</td>\n",
       "      <td>999.000000</td>\n",
       "      <td>0.000000</td>\n",
       "      <td>1.400000</td>\n",
       "      <td>93.994000</td>\n",
       "      <td>-36.400000</td>\n",
       "      <td>4.961000</td>\n",
       "      <td>5228.100000</td>\n",
       "      <td>0.000000</td>\n",
       "    </tr>\n",
       "    <tr>\n",
       "      <th>max</th>\n",
       "      <td>98.00000</td>\n",
       "      <td>4918.000000</td>\n",
       "      <td>56.000000</td>\n",
       "      <td>999.000000</td>\n",
       "      <td>7.000000</td>\n",
       "      <td>1.400000</td>\n",
       "      <td>94.767000</td>\n",
       "      <td>-26.900000</td>\n",
       "      <td>5.045000</td>\n",
       "      <td>5228.100000</td>\n",
       "      <td>1.000000</td>\n",
       "    </tr>\n",
       "  </tbody>\n",
       "</table>\n",
       "</div>"
      ],
      "text/plain": [
       "               age      duration      campaign         pdays      previous  \\\n",
       "count  41188.00000  41188.000000  41188.000000  41188.000000  41188.000000   \n",
       "mean      40.02406    258.285010      2.567593    962.475454      0.172963   \n",
       "std       10.42125    259.279249      2.770014    186.910907      0.494901   \n",
       "min       17.00000      0.000000      1.000000      0.000000      0.000000   \n",
       "25%       32.00000    102.000000      1.000000    999.000000      0.000000   \n",
       "50%       38.00000    180.000000      2.000000    999.000000      0.000000   \n",
       "75%       47.00000    319.000000      3.000000    999.000000      0.000000   \n",
       "max       98.00000   4918.000000     56.000000    999.000000      7.000000   \n",
       "\n",
       "       emp.var.rate  cons.price.idx  cons.conf.idx     euribor3m  \\\n",
       "count  41188.000000    41188.000000   41188.000000  41188.000000   \n",
       "mean       0.081886       93.575664     -40.502600      3.621291   \n",
       "std        1.570960        0.578840       4.628198      1.734447   \n",
       "min       -3.400000       92.201000     -50.800000      0.634000   \n",
       "25%       -1.800000       93.075000     -42.700000      1.344000   \n",
       "50%        1.100000       93.749000     -41.800000      4.857000   \n",
       "75%        1.400000       93.994000     -36.400000      4.961000   \n",
       "max        1.400000       94.767000     -26.900000      5.045000   \n",
       "\n",
       "        nr.employed             y  \n",
       "count  41188.000000  41188.000000  \n",
       "mean    5167.035911      0.112654  \n",
       "std       72.251528      0.316173  \n",
       "min     4963.600000      0.000000  \n",
       "25%     5099.100000      0.000000  \n",
       "50%     5191.000000      0.000000  \n",
       "75%     5228.100000      0.000000  \n",
       "max     5228.100000      1.000000  "
      ]
     },
     "execution_count": 11,
     "metadata": {},
     "output_type": "execute_result"
    }
   ],
   "source": [
    "df.describe()"
   ]
  },
  {
   "cell_type": "code",
   "execution_count": 12,
   "id": "665c4f53",
   "metadata": {
    "colab": {
     "base_uri": "https://localhost:8080/"
    },
    "executionInfo": {
     "elapsed": 12,
     "status": "ok",
     "timestamp": 1639482261040,
     "user": {
      "displayName": "mohammad",
      "photoUrl": "https://lh3.googleusercontent.com/a/default-user=s64",
      "userId": "17476461995469440125"
     },
     "user_tz": -210
    },
    "id": "665c4f53",
    "outputId": "f82cd9ee-47c7-4786-98b7-2bd9c40bce4a"
   },
   "outputs": [
    {
     "data": {
      "text/plain": [
       "age               0\n",
       "job               0\n",
       "marital           0\n",
       "education         0\n",
       "default           0\n",
       "housing           0\n",
       "loan              0\n",
       "contact           0\n",
       "month             0\n",
       "day_of_week       0\n",
       "duration          0\n",
       "campaign          0\n",
       "pdays             0\n",
       "previous          0\n",
       "poutcome          0\n",
       "emp.var.rate      0\n",
       "cons.price.idx    0\n",
       "cons.conf.idx     0\n",
       "euribor3m         0\n",
       "nr.employed       0\n",
       "y                 0\n",
       "dtype: int64"
      ]
     },
     "execution_count": 12,
     "metadata": {},
     "output_type": "execute_result"
    }
   ],
   "source": [
    "df.isnull().sum()"
   ]
  },
  {
   "cell_type": "code",
   "execution_count": 13,
   "id": "ad03d6ef",
   "metadata": {
    "colab": {
     "base_uri": "https://localhost:8080/"
    },
    "executionInfo": {
     "elapsed": 11,
     "status": "ok",
     "timestamp": 1639482261041,
     "user": {
      "displayName": "mohammad",
      "photoUrl": "https://lh3.googleusercontent.com/a/default-user=s64",
      "userId": "17476461995469440125"
     },
     "user_tz": -210
    },
    "id": "ad03d6ef",
    "outputId": "c46ca2e8-1f5a-4b8e-e8af-eed06f8b1dd8"
   },
   "outputs": [
    {
     "data": {
      "text/plain": [
       "0    36548\n",
       "1     4640\n",
       "Name: y, dtype: int64"
      ]
     },
     "execution_count": 13,
     "metadata": {},
     "output_type": "execute_result"
    }
   ],
   "source": [
    "df.y.value_counts(normalize=False)"
   ]
  },
  {
   "cell_type": "code",
   "execution_count": 14,
   "id": "d84a72df",
   "metadata": {
    "colab": {
     "base_uri": "https://localhost:8080/"
    },
    "executionInfo": {
     "elapsed": 571,
     "status": "ok",
     "timestamp": 1639482261605,
     "user": {
      "displayName": "mohammad",
      "photoUrl": "https://lh3.googleusercontent.com/a/default-user=s64",
      "userId": "17476461995469440125"
     },
     "user_tz": -210
    },
    "id": "d84a72df",
    "outputId": "45254f61-5263-422a-b1b4-3c305791809e"
   },
   "outputs": [
    {
     "name": "stdout",
     "output_type": "stream",
     "text": [
      "--- age ---\n",
      "Number Of Unique Values: 78\n",
      "[56 57 37 40 45 59 41 24 25 29]\n",
      "\n",
      "--- job ---\n",
      "Number Of Unique Values: 12\n",
      "['housemaid' 'services' 'admin.' 'blue-collar' 'technician' 'retired'\n",
      " 'management' 'unemployed' 'self-employed' 'unknown']\n",
      "\n",
      "--- marital ---\n",
      "Number Of Unique Values: 4\n",
      "['married' 'single' 'divorced' 'unknown']\n",
      "\n",
      "--- education ---\n",
      "Number Of Unique Values: 8\n",
      "['basic.4y' 'high.school' 'basic.6y' 'basic.9y' 'professional.course'\n",
      " 'unknown' 'university.degree' 'illiterate']\n",
      "\n",
      "--- default ---\n",
      "Number Of Unique Values: 3\n",
      "['no' 'unknown' 'yes']\n",
      "\n",
      "--- housing ---\n",
      "Number Of Unique Values: 3\n",
      "['no' 'yes' 'unknown']\n",
      "\n",
      "--- loan ---\n",
      "Number Of Unique Values: 3\n",
      "['no' 'yes' 'unknown']\n",
      "\n",
      "--- contact ---\n",
      "Number Of Unique Values: 2\n",
      "['telephone' 'cellular']\n",
      "\n",
      "--- month ---\n",
      "Number Of Unique Values: 10\n",
      "['may' 'jun' 'jul' 'aug' 'oct' 'nov' 'dec' 'mar' 'apr' 'sep']\n",
      "\n",
      "--- day_of_week ---\n",
      "Number Of Unique Values: 5\n",
      "['mon' 'tue' 'wed' 'thu' 'fri']\n",
      "\n",
      "--- duration ---\n",
      "Number Of Unique Values: 1544\n",
      "[261 149 226 151 307 198 139 217 380  50]\n",
      "\n",
      "--- campaign ---\n",
      "Number Of Unique Values: 42\n",
      "[ 1  2  3  4  5  6  7  8  9 10]\n",
      "\n",
      "--- pdays ---\n",
      "Number Of Unique Values: 27\n",
      "[999   6   4   3   5   1   0  10   7   8]\n",
      "\n",
      "--- previous ---\n",
      "Number Of Unique Values: 8\n",
      "[0 1 2 3 4 5 6 7]\n",
      "\n",
      "--- poutcome ---\n",
      "Number Of Unique Values: 3\n",
      "['nonexistent' 'failure' 'success']\n",
      "\n",
      "--- emp.var.rate ---\n",
      "Number Of Unique Values: 10\n",
      "[ 1.1  1.4 -0.1 -0.2 -1.8 -2.9 -3.4 -3.  -1.7 -1.1]\n",
      "\n",
      "--- cons.price.idx ---\n",
      "Number Of Unique Values: 26\n",
      "[93.994 94.465 93.918 93.444 93.798 93.2   92.756 92.843 93.075 92.893]\n",
      "\n",
      "--- cons.conf.idx ---\n",
      "Number Of Unique Values: 26\n",
      "[-36.4 -41.8 -42.7 -36.1 -40.4 -42.  -45.9 -50.  -47.1 -46.2]\n",
      "\n",
      "--- euribor3m ---\n",
      "Number Of Unique Values: 316\n",
      "[4.857 4.856 4.855 4.859 4.86  4.858 4.864 4.865 4.866 4.967]\n",
      "\n",
      "--- nr.employed ---\n",
      "Number Of Unique Values: 11\n",
      "[5191.  5228.1 5195.8 5176.3 5099.1 5076.2 5017.5 5023.5 5008.7 4991.6]\n",
      "\n",
      "--- y ---\n",
      "Number Of Unique Values: 2\n",
      "[0 1]\n",
      "\n"
     ]
    }
   ],
   "source": [
    "for col in df.columns:\n",
    "    print(\"--- \" + col + \" ---\")\n",
    "    print(\"Number Of Unique Values: \" + str(df[col].nunique()))\n",
    "    print(df[col].unique()[:10])\n",
    "    print()"
   ]
  },
  {
   "cell_type": "code",
   "execution_count": 15,
   "id": "58d1eb2e",
   "metadata": {
    "colab": {
     "base_uri": "https://localhost:8080/",
     "height": 843
    },
    "executionInfo": {
     "elapsed": 7259,
     "status": "ok",
     "timestamp": 1639482268859,
     "user": {
      "displayName": "mohammad",
      "photoUrl": "https://lh3.googleusercontent.com/a/default-user=s64",
      "userId": "17476461995469440125"
     },
     "user_tz": -210
    },
    "id": "58d1eb2e",
    "outputId": "0b5cf637-1443-428d-9c9b-b7811dc5a4c7"
   },
   "outputs": [
    {
     "data": {
      "text/plain": [
       "array([[<AxesSubplot:title={'center':'age'}>,\n",
       "        <AxesSubplot:title={'center':'duration'}>,\n",
       "        <AxesSubplot:title={'center':'campaign'}>],\n",
       "       [<AxesSubplot:title={'center':'pdays'}>,\n",
       "        <AxesSubplot:title={'center':'previous'}>,\n",
       "        <AxesSubplot:title={'center':'emp.var.rate'}>],\n",
       "       [<AxesSubplot:title={'center':'cons.price.idx'}>,\n",
       "        <AxesSubplot:title={'center':'cons.conf.idx'}>,\n",
       "        <AxesSubplot:title={'center':'euribor3m'}>],\n",
       "       [<AxesSubplot:title={'center':'nr.employed'}>,\n",
       "        <AxesSubplot:title={'center':'y'}>, <AxesSubplot:>]], dtype=object)"
      ]
     },
     "execution_count": 15,
     "metadata": {},
     "output_type": "execute_result"
    },
    {
     "data": {
      "image/png": "[encoded data removed]",
      "text/plain": [
       "<Figure size 1080x720 with 12 Axes>"
      ]
     },
     "metadata": {
      "needs_background": "light"
     },
     "output_type": "display_data"
    }
   ],
   "source": [
    "df.hist(figsize=(15,10))"
   ]
  },
  {
   "cell_type": "markdown",
   "id": "5d4ed017",
   "metadata": {
    "id": "5d4ed017"
   },
   "source": [
    "#### feature importance analysis"
   ]
  },
  {
   "cell_type": "code",
   "execution_count": 17,
   "id": "bf90a451",
   "metadata": {
    "colab": {
     "base_uri": "https://localhost:8080/",
     "height": 394
    },
    "executionInfo": {
     "elapsed": 42,
     "status": "ok",
     "timestamp": 1639482268865,
     "user": {
      "displayName": "mohammad",
      "photoUrl": "https://lh3.googleusercontent.com/a/default-user=s64",
      "userId": "17476461995469440125"
     },
     "user_tz": -210
    },
    "id": "bf90a451",
    "outputId": "839cb254-c5e7-41ea-d624-c92ca0ac506c"
   },
   "outputs": [
    {
     "data": {
      "text/html": [
       "<div>\n",
       "<style scoped>\n",
       "    .dataframe tbody tr th:only-of-type {\n",
       "        vertical-align: middle;\n",
       "    }\n",
       "\n",
       "    .dataframe tbody tr th {\n",
       "        vertical-align: top;\n",
       "    }\n",
       "\n",
       "    .dataframe thead th {\n",
       "        text-align: right;\n",
       "    }\n",
       "</style>\n",
       "<table border=\"1\" class=\"dataframe\">\n",
       "  <thead>\n",
       "    <tr style=\"text-align: right;\">\n",
       "      <th></th>\n",
       "      <th>age</th>\n",
       "      <th>duration</th>\n",
       "      <th>campaign</th>\n",
       "      <th>pdays</th>\n",
       "      <th>previous</th>\n",
       "      <th>emp.var.rate</th>\n",
       "      <th>cons.price.idx</th>\n",
       "      <th>cons.conf.idx</th>\n",
       "      <th>euribor3m</th>\n",
       "      <th>nr.employed</th>\n",
       "      <th>y</th>\n",
       "    </tr>\n",
       "  </thead>\n",
       "  <tbody>\n",
       "    <tr>\n",
       "      <th>age</th>\n",
       "      <td>1.000000</td>\n",
       "      <td>-0.000866</td>\n",
       "      <td>0.004594</td>\n",
       "      <td>-0.034369</td>\n",
       "      <td>0.024365</td>\n",
       "      <td>-0.000371</td>\n",
       "      <td>0.000857</td>\n",
       "      <td>0.129372</td>\n",
       "      <td>0.010767</td>\n",
       "      <td>-0.017725</td>\n",
       "      <td>0.030399</td>\n",
       "    </tr>\n",
       "    <tr>\n",
       "      <th>duration</th>\n",
       "      <td>-0.000866</td>\n",
       "      <td>1.000000</td>\n",
       "      <td>-0.071699</td>\n",
       "      <td>-0.047577</td>\n",
       "      <td>0.020640</td>\n",
       "      <td>-0.027968</td>\n",
       "      <td>0.005312</td>\n",
       "      <td>-0.008173</td>\n",
       "      <td>-0.032897</td>\n",
       "      <td>-0.044703</td>\n",
       "      <td>0.405274</td>\n",
       "    </tr>\n",
       "    <tr>\n",
       "      <th>campaign</th>\n",
       "      <td>0.004594</td>\n",
       "      <td>-0.071699</td>\n",
       "      <td>1.000000</td>\n",
       "      <td>0.052584</td>\n",
       "      <td>-0.079141</td>\n",
       "      <td>0.150754</td>\n",
       "      <td>0.127836</td>\n",
       "      <td>-0.013733</td>\n",
       "      <td>0.135133</td>\n",
       "      <td>0.144095</td>\n",
       "      <td>-0.066357</td>\n",
       "    </tr>\n",
       "    <tr>\n",
       "      <th>pdays</th>\n",
       "      <td>-0.034369</td>\n",
       "      <td>-0.047577</td>\n",
       "      <td>0.052584</td>\n",
       "      <td>1.000000</td>\n",
       "      <td>-0.587514</td>\n",
       "      <td>0.271004</td>\n",
       "      <td>0.078889</td>\n",
       "      <td>-0.091342</td>\n",
       "      <td>0.296899</td>\n",
       "      <td>0.372605</td>\n",
       "      <td>-0.324914</td>\n",
       "    </tr>\n",
       "    <tr>\n",
       "      <th>previous</th>\n",
       "      <td>0.024365</td>\n",
       "      <td>0.020640</td>\n",
       "      <td>-0.079141</td>\n",
       "      <td>-0.587514</td>\n",
       "      <td>1.000000</td>\n",
       "      <td>-0.420489</td>\n",
       "      <td>-0.203130</td>\n",
       "      <td>-0.050936</td>\n",
       "      <td>-0.454494</td>\n",
       "      <td>-0.501333</td>\n",
       "      <td>0.230181</td>\n",
       "    </tr>\n",
       "    <tr>\n",
       "      <th>emp.var.rate</th>\n",
       "      <td>-0.000371</td>\n",
       "      <td>-0.027968</td>\n",
       "      <td>0.150754</td>\n",
       "      <td>0.271004</td>\n",
       "      <td>-0.420489</td>\n",
       "      <td>1.000000</td>\n",
       "      <td>0.775334</td>\n",
       "      <td>0.196041</td>\n",
       "      <td>0.972245</td>\n",
       "      <td>0.906970</td>\n",
       "      <td>-0.298334</td>\n",
       "    </tr>\n",
       "    <tr>\n",
       "      <th>cons.price.idx</th>\n",
       "      <td>0.000857</td>\n",
       "      <td>0.005312</td>\n",
       "      <td>0.127836</td>\n",
       "      <td>0.078889</td>\n",
       "      <td>-0.203130</td>\n",
       "      <td>0.775334</td>\n",
       "      <td>1.000000</td>\n",
       "      <td>0.058986</td>\n",
       "      <td>0.688230</td>\n",
       "      <td>0.522034</td>\n",
       "      <td>-0.136211</td>\n",
       "    </tr>\n",
       "    <tr>\n",
       "      <th>cons.conf.idx</th>\n",
       "      <td>0.129372</td>\n",
       "      <td>-0.008173</td>\n",
       "      <td>-0.013733</td>\n",
       "      <td>-0.091342</td>\n",
       "      <td>-0.050936</td>\n",
       "      <td>0.196041</td>\n",
       "      <td>0.058986</td>\n",
       "      <td>1.000000</td>\n",
       "      <td>0.277686</td>\n",
       "      <td>0.100513</td>\n",
       "      <td>0.054878</td>\n",
       "    </tr>\n",
       "    <tr>\n",
       "      <th>euribor3m</th>\n",
       "      <td>0.010767</td>\n",
       "      <td>-0.032897</td>\n",
       "      <td>0.135133</td>\n",
       "      <td>0.296899</td>\n",
       "      <td>-0.454494</td>\n",
       "      <td>0.972245</td>\n",
       "      <td>0.688230</td>\n",
       "      <td>0.277686</td>\n",
       "      <td>1.000000</td>\n",
       "      <td>0.945154</td>\n",
       "      <td>-0.307771</td>\n",
       "    </tr>\n",
       "    <tr>\n",
       "      <th>nr.employed</th>\n",
       "      <td>-0.017725</td>\n",
       "      <td>-0.044703</td>\n",
       "      <td>0.144095</td>\n",
       "      <td>0.372605</td>\n",
       "      <td>-0.501333</td>\n",
       "      <td>0.906970</td>\n",
       "      <td>0.522034</td>\n",
       "      <td>0.100513</td>\n",
       "      <td>0.945154</td>\n",
       "      <td>1.000000</td>\n",
       "      <td>-0.354678</td>\n",
       "    </tr>\n",
       "    <tr>\n",
       "      <th>y</th>\n",
       "      <td>0.030399</td>\n",
       "      <td>0.405274</td>\n",
       "      <td>-0.066357</td>\n",
       "      <td>-0.324914</td>\n",
       "      <td>0.230181</td>\n",
       "      <td>-0.298334</td>\n",
       "      <td>-0.136211</td>\n",
       "      <td>0.054878</td>\n",
       "      <td>-0.307771</td>\n",
       "      <td>-0.354678</td>\n",
       "      <td>1.000000</td>\n",
       "    </tr>\n",
       "  </tbody>\n",
       "</table>\n",
       "</div>"
      ],
      "text/plain": [
       "                     age  duration  campaign     pdays  previous  \\\n",
       "age             1.000000 -0.000866  0.004594 -0.034369  0.024365   \n",
       "duration       -0.000866  1.000000 -0.071699 -0.047577  0.020640   \n",
       "campaign        0.004594 -0.071699  1.000000  0.052584 -0.079141   \n",
       "pdays          -0.034369 -0.047577  0.052584  1.000000 -0.587514   \n",
       "previous        0.024365  0.020640 -0.079141 -0.587514  1.000000   \n",
       "emp.var.rate   -0.000371 -0.027968  0.150754  0.271004 -0.420489   \n",
       "cons.price.idx  0.000857  0.005312  0.127836  0.078889 -0.203130   \n",
       "cons.conf.idx   0.129372 -0.008173 -0.013733 -0.091342 -0.050936   \n",
       "euribor3m       0.010767 -0.032897  0.135133  0.296899 -0.454494   \n",
       "nr.employed    -0.017725 -0.044703  0.144095  0.372605 -0.501333   \n",
       "y               0.030399  0.405274 -0.066357 -0.324914  0.230181   \n",
       "\n",
       "                emp.var.rate  cons.price.idx  cons.conf.idx  euribor3m  \\\n",
       "age                -0.000371        0.000857       0.129372   0.010767   \n",
       "duration           -0.027968        0.005312      -0.008173  -0.032897   \n",
       "campaign            0.150754        0.127836      -0.013733   0.135133   \n",
       "pdays               0.271004        0.078889      -0.091342   0.296899   \n",
       "previous           -0.420489       -0.203130      -0.050936  -0.454494   \n",
       "emp.var.rate        1.000000        0.775334       0.196041   0.972245   \n",
       "cons.price.idx      0.775334        1.000000       0.058986   0.688230   \n",
       "cons.conf.idx       0.196041        0.058986       1.000000   0.277686   \n",
       "euribor3m           0.972245        0.688230       0.277686   1.000000   \n",
       "nr.employed         0.906970        0.522034       0.100513   0.945154   \n",
       "y                  -0.298334       -0.136211       0.054878  -0.307771   \n",
       "\n",
       "                nr.employed         y  \n",
       "age               -0.017725  0.030399  \n",
       "duration          -0.044703  0.405274  \n",
       "campaign           0.144095 -0.066357  \n",
       "pdays              0.372605 -0.324914  \n",
       "previous          -0.501333  0.230181  \n",
       "emp.var.rate       0.906970 -0.298334  \n",
       "cons.price.idx     0.522034 -0.136211  \n",
       "cons.conf.idx      0.100513  0.054878  \n",
       "euribor3m          0.945154 -0.307771  \n",
       "nr.employed        1.000000 -0.354678  \n",
       "y                 -0.354678  1.000000  "
      ]
     },
     "execution_count": 17,
     "metadata": {},
     "output_type": "execute_result"
    }
   ],
   "source": [
    "corr_matrix = df.corr()\n",
    "corr_matrix"
   ]
  },
  {
   "cell_type": "code",
   "execution_count": 18,
   "id": "e28919fe",
   "metadata": {
    "colab": {
     "base_uri": "https://localhost:8080/",
     "height": 347
    },
    "executionInfo": {
     "elapsed": 42,
     "status": "ok",
     "timestamp": 1639482268867,
     "user": {
      "displayName": "mohammad",
      "photoUrl": "https://lh3.googleusercontent.com/a/default-user=s64",
      "userId": "17476461995469440125"
     },
     "user_tz": -210
    },
    "id": "e28919fe",
    "outputId": "4086207c-3137-4e38-e77f-5a8c1651dc4b"
   },
   "outputs": [
    {
     "data": {
      "text/plain": [
       "<AxesSubplot:>"
      ]
     },
     "execution_count": 18,
     "metadata": {},
     "output_type": "execute_result"
    },
    {
     "data": {
      "image/png": "[encoded data removed]",
      "text/plain": [
       "<Figure size 432x288 with 2 Axes>"
      ]
     },
     "metadata": {
      "needs_background": "light"
     },
     "output_type": "display_data"
    }
   ],
   "source": [
    "sns.heatmap(corr_matrix, cmap=\"YlGnBu\")"
   ]
  },
  {
   "cell_type": "code",
   "execution_count": 19,
   "id": "c12006ae",
   "metadata": {
    "colab": {
     "base_uri": "https://localhost:8080/"
    },
    "executionInfo": {
     "elapsed": 37,
     "status": "ok",
     "timestamp": 1639482268870,
     "user": {
      "displayName": "mohammad",
      "photoUrl": "https://lh3.googleusercontent.com/a/default-user=s64",
      "userId": "17476461995469440125"
     },
     "user_tz": -210
    },
    "id": "c12006ae",
    "outputId": "df7bb904-48b8-4a96-faf0-fb6c4cf8654f"
   },
   "outputs": [
    {
     "data": {
      "text/plain": [
       "duration          0.405274\n",
       "nr.employed       0.354678\n",
       "pdays             0.324914\n",
       "euribor3m         0.307771\n",
       "emp.var.rate      0.298334\n",
       "previous          0.230181\n",
       "cons.price.idx    0.136211\n",
       "campaign          0.066357\n",
       "cons.conf.idx     0.054878\n",
       "age               0.030399\n",
       "dtype: float64"
      ]
     },
     "execution_count": 19,
     "metadata": {},
     "output_type": "execute_result"
    }
   ],
   "source": [
    "df[numerical].corrwith(df.y).abs().sort_values(ascending=False)"
   ]
  },
  {
   "cell_type": "markdown",
   "id": "686c75d2",
   "metadata": {
    "id": "686c75d2"
   },
   "source": [
    "#### Mutual information"
   ]
  },
  {
   "cell_type": "code",
   "execution_count": 21,
   "id": "1052dc74",
   "metadata": {
    "executionInfo": {
     "elapsed": 1044,
     "status": "ok",
     "timestamp": 1639482270870,
     "user": {
      "displayName": "mohammad",
      "photoUrl": "https://lh3.googleusercontent.com/a/default-user=s64",
      "userId": "17476461995469440125"
     },
     "user_tz": -210
    },
    "id": "1052dc74"
   },
   "outputs": [],
   "source": [
    "def mutual_info_target_score(series):\n",
    "    return mutual_info_score(series, df.y)"
   ]
  },
  {
   "cell_type": "code",
   "execution_count": 22,
   "id": "2a684197",
   "metadata": {
    "colab": {
     "base_uri": "https://localhost:8080/"
    },
    "executionInfo": {
     "elapsed": 35,
     "status": "ok",
     "timestamp": 1639482270871,
     "user": {
      "displayName": "mohammad",
      "photoUrl": "https://lh3.googleusercontent.com/a/default-user=s64",
      "userId": "17476461995469440125"
     },
     "user_tz": -210
    },
    "id": "2a684197",
    "outputId": "427d1eb2-2e76-4e24-b681-7b7056d12fe6"
   },
   "outputs": [
    {
     "data": {
      "text/plain": [
       "y              0.352029\n",
       "poutcome       0.030384\n",
       "month          0.026407\n",
       "contact        0.011646\n",
       "job            0.009859\n",
       "default        0.005774\n",
       "education      0.002390\n",
       "marital        0.001434\n",
       "day_of_week    0.000322\n",
       "housing        0.000069\n",
       "loan           0.000013\n",
       "dtype: float64"
      ]
     },
     "execution_count": 22,
     "metadata": {},
     "output_type": "execute_result"
    }
   ],
   "source": [
    "mi = df[categorical].apply(mutual_info_target_score)\n",
    "mi.sort_values(ascending=False)"
   ]
  },
  {
   "cell_type": "code",
   "execution_count": 23,
   "id": "90b7d2e1",
   "metadata": {
    "executionInfo": {
     "elapsed": 32,
     "status": "ok",
     "timestamp": 1639482270874,
     "user": {
      "displayName": "mohammad",
      "photoUrl": "https://lh3.googleusercontent.com/a/default-user=s64",
      "userId": "17476461995469440125"
     },
     "user_tz": -210
    },
    "id": "90b7d2e1"
   },
   "outputs": [],
   "source": [
    "df_cpoy = df.copy()\n",
    "del df_cpoy['loan']\n",
    "del df_cpoy['housing']\n",
    "del df_cpoy['day_of_week']\n",
    "del df_cpoy['marital']\n",
    "del df_cpoy['education']\n",
    "del df_cpoy['default']"
   ]
  },
  {
   "cell_type": "markdown",
   "id": "fe65eae4",
   "metadata": {
    "executionInfo": {
     "elapsed": 33,
     "status": "ok",
     "timestamp": 1639482270876,
     "user": {
      "displayName": "mohammad",
      "photoUrl": "https://lh3.googleusercontent.com/a/default-user=s64",
      "userId": "17476461995469440125"
     },
     "user_tz": -210
    },
    "id": "982df772"
   },
   "source": [
    "### Data Preprocessing"
   ]
  },
  {
   "cell_type": "markdown",
   "id": "07396ecd",
   "metadata": {
    "executionInfo": {
     "elapsed": 34,
     "status": "ok",
     "timestamp": 1639482270878,
     "user": {
      "displayName": "mohammad",
      "photoUrl": "https://lh3.googleusercontent.com/a/default-user=s64",
      "userId": "17476461995469440125"
     },
     "user_tz": -210
    },
    "id": "6e72d104"
   },
   "source": [
    "#### Split Dataset into Train, Validation and Test Data"
   ]
  },
  {
   "cell_type": "code",
   "execution_count": 24,
   "id": "8475e658",
   "metadata": {
    "executionInfo": {
     "elapsed": 35,
     "status": "ok",
     "timestamp": 1639482270880,
     "user": {
      "displayName": "mohammad",
      "photoUrl": "https://lh3.googleusercontent.com/a/default-user=s64",
      "userId": "17476461995469440125"
     },
     "user_tz": -210
    },
    "id": "8475e658"
   },
   "outputs": [],
   "source": [
    "df_full_train, df_test = train_test_split(df_cpoy, test_size=0.2, random_state=1)\n",
    "df_train, df_val = train_test_split(df_full_train, test_size=0.25, random_state=1)\n",
    "\n",
    "df_train = df_train.reset_index(drop=True)\n",
    "df_val = df_val.reset_index(drop=True)\n",
    "df_test = df_test.reset_index(drop=True)\n",
    "\n",
    "y_train = df_train.y.values\n",
    "y_val = df_val.y.values\n",
    "y_test = df_test.y.values\n",
    "\n",
    "del df_train['y']\n",
    "del df_val['y']\n",
    "del df_test['y']"
   ]
  },
  {
   "cell_type": "markdown",
   "id": "07a28637",
   "metadata": {
    "id": "07a28637"
   },
   "source": [
    "#### Encode categorical features (Apply One Hot Encoding)"
   ]
  },
  {
   "cell_type": "code",
   "execution_count": 26,
   "id": "fd739965",
   "metadata": {
    "executionInfo": {
     "elapsed": 1796,
     "status": "ok",
     "timestamp": 1639482272646,
     "user": {
      "displayName": "mohammad",
      "photoUrl": "https://lh3.googleusercontent.com/a/default-user=s64",
      "userId": "17476461995469440125"
     },
     "user_tz": -210
    },
    "id": "fd739965"
   },
   "outputs": [],
   "source": [
    "dv = DictVectorizer(sparse=False)\n",
    "\n",
    "train_dict = df_train.to_dict(orient=\"records\")\n",
    "X_train = dv.fit_transform(train_dict)\n",
    "\n",
    "val_dict = df_val.to_dict(orient=\"records\")\n",
    "X_val = dv.fit_transform(val_dict)\n",
    "\n",
    "test_dict = df_test.to_dict(orient=\"records\")\n",
    "X_test = dv.fit_transform(test_dict)"
   ]
  },
  {
   "cell_type": "code",
   "execution_count": 27,
   "id": "b76b253d",
   "metadata": {
    "colab": {
     "base_uri": "https://localhost:8080/"
    },
    "executionInfo": {
     "elapsed": 28,
     "status": "ok",
     "timestamp": 1639482272648,
     "user": {
      "displayName": "mohammad",
      "photoUrl": "https://lh3.googleusercontent.com/a/default-user=s64",
      "userId": "17476461995469440125"
     },
     "user_tz": -210
    },
    "id": "b76b253d",
    "outputId": "1e3be653-82a3-4bae-bb5d-5d1167ee76e3"
   },
   "outputs": [
    {
     "data": {
      "text/plain": [
       "['age',\n",
       " 'campaign',\n",
       " 'cons.conf.idx',\n",
       " 'cons.price.idx',\n",
       " 'contact=cellular',\n",
       " 'contact=telephone',\n",
       " 'duration',\n",
       " 'emp.var.rate',\n",
       " 'euribor3m',\n",
       " 'job=admin.',\n",
       " 'job=blue-collar',\n",
       " 'job=entrepreneur',\n",
       " 'job=housemaid',\n",
       " 'job=management',\n",
       " 'job=retired',\n",
       " 'job=self-employed',\n",
       " 'job=services',\n",
       " 'job=student',\n",
       " 'job=technician',\n",
       " 'job=unemployed',\n",
       " 'job=unknown',\n",
       " 'month=apr',\n",
       " 'month=aug',\n",
       " 'month=dec',\n",
       " 'month=jul',\n",
       " 'month=jun',\n",
       " 'month=mar',\n",
       " 'month=may',\n",
       " 'month=nov',\n",
       " 'month=oct',\n",
       " 'month=sep',\n",
       " 'nr.employed',\n",
       " 'pdays',\n",
       " 'poutcome=failure',\n",
       " 'poutcome=nonexistent',\n",
       " 'poutcome=success',\n",
       " 'previous']"
      ]
     },
     "execution_count": 27,
     "metadata": {},
     "output_type": "execute_result"
    }
   ],
   "source": [
    "dv.get_feature_names()"
   ]
  },
  {
   "cell_type": "markdown",
   "id": "7ef04413",
   "metadata": {
    "id": "7ef04413"
   },
   "source": [
    "## Model training\n",
    "Trained multiple models (linear and tree-based)"
   ]
  },
  {
   "cell_type": "markdown",
   "id": "fafca42b",
   "metadata": {
    "id": "fafca42b"
   },
   "source": [
    "### LogisticRegression Model"
   ]
  },
  {
   "cell_type": "markdown",
   "id": "158d6443",
   "metadata": {},
   "source": [
    "#### Base Model"
   ]
  },
  {
   "cell_type": "code",
   "execution_count": 29,
   "id": "33a5a487",
   "metadata": {
    "colab": {
     "base_uri": "https://localhost:8080/"
    },
    "executionInfo": {
     "elapsed": 11,
     "status": "ok",
     "timestamp": 1639467583722,
     "user": {
      "displayName": "mohammad",
      "photoUrl": "https://lh3.googleusercontent.com/a/default-user=s64",
      "userId": "17476461995469440125"
     },
     "user_tz": -210
    },
    "id": "33a5a487",
    "outputId": "3d752e76-492f-4aeb-a781-1ed6f4497979"
   },
   "outputs": [
    {
     "data": {
      "text/plain": [
       "LogisticRegression(solver='liblinear')"
      ]
     },
     "execution_count": 29,
     "metadata": {},
     "output_type": "execute_result"
    }
   ],
   "source": [
    "lr_base = LogisticRegression(solver='liblinear', C=1.0)\n",
    "lr_base.fit(X_train, y_train)"
   ]
  },
  {
   "cell_type": "code",
   "execution_count": 30,
   "id": "bc2ad586",
   "metadata": {
    "colab": {
     "base_uri": "https://localhost:8080/"
    },
    "executionInfo": {
     "elapsed": 7,
     "status": "ok",
     "timestamp": 1639467585148,
     "user": {
      "displayName": "mohammad",
      "photoUrl": "https://lh3.googleusercontent.com/a/default-user=s64",
      "userId": "17476461995469440125"
     },
     "user_tz": -210
    },
    "id": "bc2ad586",
    "outputId": "71683a3a-9130-4a9c-9317-1bec8c632946",
    "scrolled": true
   },
   "outputs": [
    {
     "name": "stdout",
     "output_type": "stream",
     "text": [
      "Model intercept: 0.00337\n",
      "Model coefficients: {'age': 0.00116, 'campaign': -0.05074, 'cons.conf.idx': 0.04621, 'cons.price.idx': 0.31781, 'contact=cellular': 0.07289, 'contact=telephone': -0.06952, 'duration': 0.00472, 'emp.var.rate': -0.26628, 'euribor3m': -0.28353, 'job=admin.': 0.03863, 'job=blue-collar': -0.07327, 'job=entrepreneur': -0.00814, 'job=housemaid': -0.00098, 'job=management': -0.00337, 'job=retired': 0.02423, 'job=self-employed': 0.00043, 'job=services': -0.01445, 'job=student': 0.02483, 'job=technician': 0.00838, 'job=unemployed': 0.00633, 'job=unknown': 0.00075, 'month=apr': 0.01502, 'month=aug': 0.02451, 'month=dec': 0.00437, 'month=jul': 0.02843, 'month=jun': 0.03598, 'month=mar': 0.05274, 'month=may': -0.17235, 'month=nov': -0.01141, 'month=oct': 0.01724, 'month=sep': 0.00882, 'nr.employed': -0.00574, 'pdays': -0.00148, 'poutcome=failure': -0.0349, 'poutcome=nonexistent': 0.02842, 'poutcome=success': 0.00985, 'previous': -0.01572}\n"
     ]
    }
   ],
   "source": [
    "print(f\"Model intercept: {lr_base.intercept_[0].round(5)}\")\n",
    "print(f\"Model coefficients: {dict(zip(dv.get_feature_names(), lr_base.coef_[0].round(5)))}\")"
   ]
  },
  {
   "cell_type": "code",
   "execution_count": 31,
   "id": "1c268446",
   "metadata": {
    "colab": {
     "base_uri": "https://localhost:8080/"
    },
    "executionInfo": {
     "elapsed": 564,
     "status": "ok",
     "timestamp": 1639467588434,
     "user": {
      "displayName": "mohammad",
      "photoUrl": "https://lh3.googleusercontent.com/a/default-user=s64",
      "userId": "17476461995469440125"
     },
     "user_tz": -210
    },
    "id": "1c268446",
    "outputId": "1ad28195-963e-4924-874d-01fdd171af5f"
   },
   "outputs": [
    {
     "data": {
      "text/plain": [
       "0.9233806992435085"
      ]
     },
     "execution_count": 31,
     "metadata": {},
     "output_type": "execute_result"
    }
   ],
   "source": [
    "y_pred_bin = lr_base.predict_proba(X_val)[:, 1]\n",
    "roc_auc_score(y_val, y_pred_bin)"
   ]
  },
  {
   "cell_type": "markdown",
   "id": "cbfe9511",
   "metadata": {
    "executionInfo": {
     "elapsed": 4,
     "status": "ok",
     "timestamp": 1639467589925,
     "user": {
      "displayName": "mohammad",
      "photoUrl": "https://lh3.googleusercontent.com/a/default-user=s64",
      "userId": "17476461995469440125"
     },
     "user_tz": -210
    },
    "id": "ebb9940d"
   },
   "source": [
    "#### Tune Hyperparameters using GridSearchCV"
   ]
  },
  {
   "cell_type": "code",
   "execution_count": 32,
   "id": "1ccac481",
   "metadata": {
    "colab": {
     "base_uri": "https://localhost:8080/"
    },
    "executionInfo": {
     "elapsed": 10923,
     "status": "ok",
     "timestamp": 1639467602290,
     "user": {
      "displayName": "mohammad",
      "photoUrl": "https://lh3.googleusercontent.com/a/default-user=s64",
      "userId": "17476461995469440125"
     },
     "user_tz": -210
    },
    "id": "1ccac481",
    "outputId": "62c44d2e-3a00-4dfa-e9b6-3c0a537be51f"
   },
   "outputs": [
    {
     "data": {
      "text/plain": [
       "GridSearchCV(estimator=LogisticRegression(random_state=1), n_jobs=-1,\n",
       "             param_grid={'C': array([-3. , -2.5, -2. , -1.5, -1. , -0.5,  0. ,  0.5,  1. ,  1.5,  2. ,\n",
       "        2.5,  3. ])})"
      ]
     },
     "execution_count": 32,
     "metadata": {},
     "output_type": "execute_result"
    }
   ],
   "source": [
    "# Define the parameter grid\n",
    "param_grid = {\n",
    "    \"C\": np.linspace(-3,3,13)\n",
    "}\n",
    "\n",
    "# Define the grid search model\n",
    "lr = LogisticRegression(random_state=1)\n",
    "search_lr = GridSearchCV(\n",
    "    estimator=lr, \n",
    "    param_grid=param_grid, \n",
    "    n_jobs=-1\n",
    ")\n",
    "# By default it uses 5 fold\n",
    "\n",
    "# Train the grid search model with training dataset\n",
    "search_lr.fit(X_train, y_train)"
   ]
  },
  {
   "cell_type": "code",
   "execution_count": 33,
   "id": "84a3338c",
   "metadata": {
    "colab": {
     "base_uri": "https://localhost:8080/"
    },
    "executionInfo": {
     "elapsed": 653,
     "status": "ok",
     "timestamp": 1639467612415,
     "user": {
      "displayName": "mohammad",
      "photoUrl": "https://lh3.googleusercontent.com/a/default-user=s64",
      "userId": "17476461995469440125"
     },
     "user_tz": -210
    },
    "id": "84a3338c",
    "outputId": "a17c7724-e48a-4b66-8571-4e8c68ea075a"
   },
   "outputs": [
    {
     "name": "stdout",
     "output_type": "stream",
     "text": [
      "Best parameter (CV Score = 0.911):\n",
      "{'C': 2.0}\n"
     ]
    }
   ],
   "source": [
    "# Get the tuned hyperparameters from the grid search model\n",
    "print(f\"Best parameter (CV Score = {search_lr.best_score_.round(3)}):\")\n",
    "print(search_lr.best_params_)"
   ]
  },
  {
   "cell_type": "code",
   "execution_count": 34,
   "id": "59dff907",
   "metadata": {
    "colab": {
     "base_uri": "https://localhost:8080/"
    },
    "executionInfo": {
     "elapsed": 523,
     "status": "ok",
     "timestamp": 1639467665617,
     "user": {
      "displayName": "mohammad",
      "photoUrl": "https://lh3.googleusercontent.com/a/default-user=s64",
      "userId": "17476461995469440125"
     },
     "user_tz": -210
    },
    "id": "59dff907",
    "outputId": "935ead80-37f8-47fc-fb22-80f3b5612c16"
   },
   "outputs": [
    {
     "data": {
      "text/plain": [
       "LogisticRegression(C=2.0, solver='liblinear')"
      ]
     },
     "execution_count": 34,
     "metadata": {},
     "output_type": "execute_result"
    }
   ],
   "source": [
    "lr_tuned = LogisticRegression(solver='liblinear', C=2.0)\n",
    "lr_tuned.fit(X_train, y_train)"
   ]
  },
  {
   "cell_type": "code",
   "execution_count": 35,
   "id": "f559d63b",
   "metadata": {
    "colab": {
     "base_uri": "https://localhost:8080/"
    },
    "executionInfo": {
     "elapsed": 5,
     "status": "ok",
     "timestamp": 1639467669834,
     "user": {
      "displayName": "mohammad",
      "photoUrl": "https://lh3.googleusercontent.com/a/default-user=s64",
      "userId": "17476461995469440125"
     },
     "user_tz": -210
    },
    "id": "f559d63b",
    "outputId": "60f68fbe-f9ad-45da-de81-e28edaaabf82"
   },
   "outputs": [
    {
     "name": "stdout",
     "output_type": "stream",
     "text": [
      "Model intercept: 0.00328\n",
      "Model coefficients: {'age': 0.00088, 'campaign': -0.05596, 'cons.conf.idx': 0.02595, 'cons.price.idx': 0.38018, 'contact=cellular': 0.18699, 'contact=telephone': -0.18371, 'duration': 0.00464, 'emp.var.rate': -0.32054, 'euribor3m': -0.13727, 'job=admin.': 0.10543, 'job=blue-collar': -0.27663, 'job=entrepreneur': -0.04588, 'job=housemaid': -0.00719, 'job=management': -0.01333, 'job=retired': 0.11699, 'job=self-employed': -0.00069, 'job=services': -0.05949, 'job=student': 0.11943, 'job=technician': 0.03127, 'job=unemployed': 0.02719, 'job=unknown': 0.0062, 'month=apr': -0.01882, 'month=aug': 0.16878, 'month=dec': 0.01185, 'month=jul': 0.14573, 'month=jun': 0.18161, 'month=mar': 0.32412, 'month=may': -0.71019, 'month=nov': -0.09221, 'month=oct': 0.0248, 'month=sep': -0.0324, 'nr.employed': -0.00708, 'pdays': -0.00162, 'poutcome=failure': -0.19968, 'poutcome=nonexistent': 0.15541, 'poutcome=success': 0.04754, 'previous': -0.12923}\n"
     ]
    }
   ],
   "source": [
    "print(f\"Model intercept: {lr_tuned.intercept_[0].round(5)}\")\n",
    "print(f\"Model coefficients: {dict(zip(dv.get_feature_names(), lr_tuned.coef_[0].round(5)))}\")"
   ]
  },
  {
   "cell_type": "code",
   "execution_count": 36,
   "id": "09710672",
   "metadata": {
    "colab": {
     "base_uri": "https://localhost:8080/"
    },
    "executionInfo": {
     "elapsed": 4,
     "status": "ok",
     "timestamp": 1639467670770,
     "user": {
      "displayName": "mohammad",
      "photoUrl": "https://lh3.googleusercontent.com/a/default-user=s64",
      "userId": "17476461995469440125"
     },
     "user_tz": -210
    },
    "id": "09710672",
    "outputId": "9827924a-9236-4b98-9f1e-8d919ebaa058"
   },
   "outputs": [
    {
     "data": {
      "text/plain": [
       "0.9323286210824546"
      ]
     },
     "execution_count": 36,
     "metadata": {},
     "output_type": "execute_result"
    }
   ],
   "source": [
    "# Predict using validation dataset\n",
    "y_pred_bin = lr_tuned.predict_proba(X_val)[:, 1]\n",
    "roc_auc_score(y_val, y_pred_bin)"
   ]
  },
  {
   "cell_type": "markdown",
   "id": "5ef50b3f",
   "metadata": {
    "id": "a27e4feb"
   },
   "source": [
    "### Decision Tree Model"
   ]
  },
  {
   "cell_type": "markdown",
   "id": "52abba32",
   "metadata": {
    "executionInfo": {
     "elapsed": 790,
     "status": "ok",
     "timestamp": 1639482332246,
     "user": {
      "displayName": "mohammad",
      "photoUrl": "https://lh3.googleusercontent.com/a/default-user=s64",
      "userId": "17476461995469440125"
     },
     "user_tz": -210
    },
    "id": "6f3ab000"
   },
   "source": [
    "#### Base Model"
   ]
  },
  {
   "cell_type": "code",
   "execution_count": 37,
   "id": "809f182b",
   "metadata": {
    "colab": {
     "base_uri": "https://localhost:8080/"
    },
    "executionInfo": {
     "elapsed": 392,
     "status": "ok",
     "timestamp": 1639467720172,
     "user": {
      "displayName": "mohammad",
      "photoUrl": "https://lh3.googleusercontent.com/a/default-user=s64",
      "userId": "17476461995469440125"
     },
     "user_tz": -210
    },
    "id": "809f182b",
    "outputId": "31eb2e1f-ac67-475c-c78a-c1e26cfc2275"
   },
   "outputs": [
    {
     "data": {
      "text/plain": [
       "DecisionTreeClassifier(random_state=1)"
      ]
     },
     "execution_count": 37,
     "metadata": {},
     "output_type": "execute_result"
    }
   ],
   "source": [
    "dt_base = DecisionTreeClassifier(random_state=1)\n",
    "dt_base.fit(X_train, y_train)"
   ]
  },
  {
   "cell_type": "code",
   "execution_count": 38,
   "id": "1d9dbc63",
   "metadata": {
    "colab": {
     "base_uri": "https://localhost:8080/"
    },
    "executionInfo": {
     "elapsed": 449,
     "status": "ok",
     "timestamp": 1639467723636,
     "user": {
      "displayName": "mohammad",
      "photoUrl": "https://lh3.googleusercontent.com/a/default-user=s64",
      "userId": "17476461995469440125"
     },
     "user_tz": -210
    },
    "id": "1d9dbc63",
    "outputId": "5e8fe49b-1e00-4af4-9ec5-ac1434c8906f"
   },
   "outputs": [
    {
     "data": {
      "text/plain": [
       "0.7275745538452552"
      ]
     },
     "execution_count": 38,
     "metadata": {},
     "output_type": "execute_result"
    }
   ],
   "source": [
    "y_pred = dt_base.predict_proba(X_val)[:, 1]\n",
    "roc_auc_score(y_val, y_pred)"
   ]
  },
  {
   "cell_type": "markdown",
   "id": "0484e9e3",
   "metadata": {
    "id": "2f3bea23"
   },
   "source": [
    "#### Tune Hyperparameters using GridSearchCV"
   ]
  },
  {
   "cell_type": "code",
   "execution_count": 39,
   "id": "93c5e558",
   "metadata": {
    "executionInfo": {
     "elapsed": 409,
     "status": "ok",
     "timestamp": 1639467726787,
     "user": {
      "displayName": "mohammad",
      "photoUrl": "https://lh3.googleusercontent.com/a/default-user=s64",
      "userId": "17476461995469440125"
     },
     "user_tz": -210
    },
    "id": "93c5e558"
   },
   "outputs": [],
   "source": [
    "param_grid = {\n",
    "    \"criterion\": [\"gini\", \"entropy\"],\n",
    "    \"splitter\":[\"best\", \"random\"],\n",
    "    \"max_depth\": [None, 3, 4, 5, 6, 7, 8, 9, 10],\n",
    "    \"max_features\":[None, 3, 5, 7, 9, 11],\n",
    "    \"min_samples_leaf\": [2, 3, 5, 7, 9, 11],\n",
    "    \"min_samples_split\": [2, 3, 5, 7, 9, 11, 13, 15]\n",
    "}"
   ]
  },
  {
   "cell_type": "code",
   "execution_count": 40,
   "id": "8676fae8",
   "metadata": {
    "colab": {
     "base_uri": "https://localhost:8080/"
    },
    "executionInfo": {
     "elapsed": 1013673,
     "status": "ok",
     "timestamp": 1639468742493,
     "user": {
      "displayName": "mohammad",
      "photoUrl": "https://lh3.googleusercontent.com/a/default-user=s64",
      "userId": "17476461995469440125"
     },
     "user_tz": -210
    },
    "id": "8676fae8",
    "outputId": "d4e95167-cdd9-4ffb-e4ef-ea33dbcfd06d"
   },
   "outputs": [
    {
     "data": {
      "text/plain": [
       "GridSearchCV(estimator=DecisionTreeClassifier(random_state=1), n_jobs=-1,\n",
       "             param_grid={'criterion': ['gini', 'entropy'],\n",
       "                         'max_depth': [None, 3, 4, 5, 6, 7, 8, 9, 10],\n",
       "                         'max_features': [None, 3, 5, 7, 9, 11],\n",
       "                         'min_samples_leaf': [2, 3, 5, 7, 9, 11],\n",
       "                         'min_samples_split': [2, 3, 5, 7, 9, 11, 13, 15],\n",
       "                         'splitter': ['best', 'random']})"
      ]
     },
     "execution_count": 40,
     "metadata": {},
     "output_type": "execute_result"
    }
   ],
   "source": [
    "# Define the grid search model\n",
    "dt = DecisionTreeClassifier(random_state=1)\n",
    "search_dt = GridSearchCV(\n",
    "    estimator=dt, \n",
    "    param_grid=param_grid, \n",
    "    n_jobs=-1\n",
    ")\n",
    "\n",
    "# Train the grid search model with training dataset\n",
    "search_dt.fit(X_train, y_train)"
   ]
  },
  {
   "cell_type": "code",
   "execution_count": 52,
   "id": "37d280dd",
   "metadata": {
    "colab": {
     "base_uri": "https://localhost:8080/"
    },
    "executionInfo": {
     "elapsed": 17,
     "status": "ok",
     "timestamp": 1639468742494,
     "user": {
      "displayName": "mohammad",
      "photoUrl": "https://lh3.googleusercontent.com/a/default-user=s64",
      "userId": "17476461995469440125"
     },
     "user_tz": -210
    },
    "id": "37d280dd",
    "outputId": "158161a8-5ee4-4143-e852-53ed286c5913"
   },
   "outputs": [
    {
     "name": "stdout",
     "output_type": "stream",
     "text": [
      "Best parameter (CV Score = 0.915):\n",
      "{'criterion': 'entropy', 'max_depth': 5, 'max_features': None, 'min_samples_leaf': 11, 'min_samples_split': 2, 'splitter': 'best'}\n"
     ]
    }
   ],
   "source": [
    "# Get the tuned hyperparameters from the grid search model\n",
    "print(f\"Best parameter (CV Score = {search_dt.best_score_.round(3)}):\")\n",
    "print(search_dt.best_params_)"
   ]
  },
  {
   "cell_type": "code",
   "execution_count": 41,
   "id": "ad920ac4",
   "metadata": {
    "colab": {
     "base_uri": "https://localhost:8080/"
    },
    "executionInfo": {
     "elapsed": 4,
     "status": "ok",
     "timestamp": 1639469054320,
     "user": {
      "displayName": "mohammad",
      "photoUrl": "https://lh3.googleusercontent.com/a/default-user=s64",
      "userId": "17476461995469440125"
     },
     "user_tz": -210
    },
    "id": "ad920ac4",
    "outputId": "53a79524-5af8-417e-c8b5-875f27129d47"
   },
   "outputs": [
    {
     "name": "stdout",
     "output_type": "stream",
     "text": [
      "Validation dataset AUC: 0.931\n"
     ]
    }
   ],
   "source": [
    "# Train the model again with tuned parameters\n",
    "dt_tuned = DecisionTreeClassifier(\n",
    "    criterion=\"entropy\", \n",
    "    max_depth=5, \n",
    "    max_features=None, \n",
    "    min_samples_leaf=11, \n",
    "    min_samples_split=2, \n",
    "    splitter=\"best\", \n",
    "    random_state=1\n",
    ")\n",
    "dt_tuned.fit(X_train, y_train)\n",
    "\n",
    "# Predit using validation dataset\n",
    "y_pred_val = dt_tuned.predict_proba(X_val)[:, 1]\n",
    "result = (y_pred_val >= 0.5)\n",
    "print(f\"Validation dataset AUC: {roc_auc_score(y_val, y_pred_val).round(3)}\")"
   ]
  },
  {
   "cell_type": "code",
   "execution_count": 42,
   "id": "9dcd782c",
   "metadata": {
    "colab": {
     "base_uri": "https://localhost:8080/",
     "height": 973
    },
    "executionInfo": {
     "elapsed": 5354,
     "status": "ok",
     "timestamp": 1639469066142,
     "user": {
      "displayName": "mohammad",
      "photoUrl": "https://lh3.googleusercontent.com/a/default-user=s64",
      "userId": "17476461995469440125"
     },
     "user_tz": -210
    },
    "id": "9dcd782c",
    "outputId": "9fc19e09-e19f-4d02-91a8-00b398132e50"
   },
   "outputs": [
    {
     "data": {
      "image/png": "[encoded data removed]",
      "text/plain": [
       "<Figure size 2000x1500 with 1 Axes>"
      ]
     },
     "metadata": {
      "needs_background": "light"
     },
     "output_type": "display_data"
    }
   ],
   "source": [
    "# Plot the final decision tree\n",
    "feature_names = list(dv.get_feature_names())\n",
    "class_names = list(map(str, df[\"y\"].unique()))\n",
    "\n",
    "plt.figure(figsize=(20,15), dpi=100)\n",
    "plot_tree(dt_tuned, feature_names=feature_names, class_names=class_names, filled=True, fontsize=10)\n",
    "plt.title(\"Decision Tree\")\n",
    "plt.show()"
   ]
  },
  {
   "cell_type": "code",
   "execution_count": 43,
   "id": "7faff665",
   "metadata": {
    "colab": {
     "base_uri": "https://localhost:8080/"
    },
    "executionInfo": {
     "elapsed": 1233,
     "status": "ok",
     "timestamp": 1639469073598,
     "user": {
      "displayName": "mohammad",
      "photoUrl": "https://lh3.googleusercontent.com/a/default-user=s64",
      "userId": "17476461995469440125"
     },
     "user_tz": -210
    },
    "id": "7faff665",
    "outputId": "4c35d14e-07ad-4b80-d430-35cd33d0f51e"
   },
   "outputs": [
    {
     "name": "stdout",
     "output_type": "stream",
     "text": [
      "duration : 0.5161806835229934\n",
      "nr.employed : 0.3217058656951673\n",
      "cons.conf.idx : 0.08191556249358095\n",
      "pdays : 0.025737945871546365\n",
      "euribor3m : 0.023911985901059727\n",
      "month=oct : 0.017450089653467078\n",
      "emp.var.rate : 0.009882632465887584\n",
      "cons.price.idx : 0.0018731177555698128\n",
      "month=nov : 0.000684474096794501\n",
      "age : 0.0006576425439333304\n",
      "campaign : 0.0\n",
      "contact=cellular : 0.0\n",
      "contact=telephone : 0.0\n",
      "job=admin. : 0.0\n",
      "job=blue-collar : 0.0\n",
      "job=entrepreneur : 0.0\n",
      "job=housemaid : 0.0\n",
      "job=management : 0.0\n",
      "job=retired : 0.0\n",
      "job=self-employed : 0.0\n",
      "job=services : 0.0\n",
      "job=student : 0.0\n",
      "job=technician : 0.0\n",
      "job=unemployed : 0.0\n",
      "job=unknown : 0.0\n",
      "month=apr : 0.0\n",
      "month=aug : 0.0\n",
      "month=dec : 0.0\n",
      "month=jul : 0.0\n",
      "month=jun : 0.0\n",
      "month=mar : 0.0\n",
      "month=may : 0.0\n",
      "month=sep : 0.0\n",
      "poutcome=failure : 0.0\n",
      "poutcome=nonexistent : 0.0\n",
      "poutcome=success : 0.0\n",
      "previous : 0.0\n"
     ]
    }
   ],
   "source": [
    "importances = dt_tuned.feature_importances_\n",
    "\n",
    "orders = dict(zip(dv.get_feature_names(), importances))\n",
    "\n",
    "sort_orders = sorted(orders.items(), key=lambda x: x[1], reverse=True)\n",
    "\n",
    "for i in sort_orders:\n",
    "\tprint(i[0], \":\", i[1])"
   ]
  },
  {
   "cell_type": "markdown",
   "id": "4f19d4a7",
   "metadata": {
    "id": "yFSiPVL-xiou"
   },
   "source": [
    "### XGBoost Model"
   ]
  },
  {
   "cell_type": "markdown",
   "id": "ee758741",
   "metadata": {
    "id": "Pr7PFwGCxiqh"
   },
   "source": [
    "#### Base Model"
   ]
  },
  {
   "cell_type": "code",
   "execution_count": 46,
   "id": "TFLkL5nPxiuF",
   "metadata": {
    "executionInfo": {
     "elapsed": 527,
     "status": "ok",
     "timestamp": 1639482695821,
     "user": {
      "displayName": "mohammad",
      "photoUrl": "https://lh3.googleusercontent.com/a/default-user=s64",
      "userId": "17476461995469440125"
     },
     "user_tz": -210
    },
    "id": "TFLkL5nPxiuF"
   },
   "outputs": [],
   "source": [
    "features = dv.get_feature_names()\n",
    "dtrain = xgb.DMatrix(X_train, label=y_train, feature_names=features)\n",
    "dval = xgb.DMatrix(X_val, label=y_val, feature_names=features)\n",
    "dtest = xgb.DMatrix(X_test, label=y_test, feature_names=features)\n",
    "\n",
    "watchlist = [(dtrain, \"train\"), (dval, \"val\")]"
   ]
  },
  {
   "cell_type": "code",
   "execution_count": 47,
   "id": "IwiJigXvwOtl",
   "metadata": {
    "colab": {
     "base_uri": "https://localhost:8080/"
    },
    "executionInfo": {
     "elapsed": 4655,
     "status": "ok",
     "timestamp": 1639482705146,
     "user": {
      "displayName": "mohammad",
      "photoUrl": "https://lh3.googleusercontent.com/a/default-user=s64",
      "userId": "17476461995469440125"
     },
     "user_tz": -210
    },
    "id": "IwiJigXvwOtl",
    "outputId": "3d6a3ea2-9c19-4757-8fde-eb52f98c3b12"
   },
   "outputs": [
    {
     "name": "stdout",
     "output_type": "stream",
     "text": [
      "[17:14:59] WARNING: C:/Users/Administrator/workspace/xgboost-win64_release_1.5.0/src/learner.cc:1115: Starting in XGBoost 1.3.0, the default evaluation metric used with the objective 'binary:logistic' was changed from 'error' to 'logloss'. Explicitly set eval_metric if you'd like to restore the old behavior.\n",
      "[0]\ttrain-logloss:0.49287\tval-logloss:0.49727\n",
      "[5]\ttrain-logloss:0.21395\tval-logloss:0.22953\n",
      "[10]\ttrain-logloss:0.16480\tval-logloss:0.18686\n",
      "[15]\ttrain-logloss:0.15251\tval-logloss:0.17801\n",
      "[20]\ttrain-logloss:0.14681\tval-logloss:0.17674\n",
      "[25]\ttrain-logloss:0.14201\tval-logloss:0.17690\n",
      "[30]\ttrain-logloss:0.13805\tval-logloss:0.17663\n",
      "[35]\ttrain-logloss:0.13491\tval-logloss:0.17642\n",
      "[40]\ttrain-logloss:0.13250\tval-logloss:0.17703\n",
      "[45]\ttrain-logloss:0.12949\tval-logloss:0.17678\n",
      "[50]\ttrain-logloss:0.12573\tval-logloss:0.17747\n",
      "[55]\ttrain-logloss:0.12363\tval-logloss:0.17744\n",
      "[60]\ttrain-logloss:0.12148\tval-logloss:0.17792\n",
      "[65]\ttrain-logloss:0.11935\tval-logloss:0.17848\n",
      "[70]\ttrain-logloss:0.11684\tval-logloss:0.17895\n",
      "[75]\ttrain-logloss:0.11473\tval-logloss:0.17960\n",
      "[80]\ttrain-logloss:0.11213\tval-logloss:0.18019\n",
      "[85]\ttrain-logloss:0.10970\tval-logloss:0.18073\n",
      "[90]\ttrain-logloss:0.10802\tval-logloss:0.18093\n",
      "[95]\ttrain-logloss:0.10652\tval-logloss:0.18147\n",
      "[99]\ttrain-logloss:0.10475\tval-logloss:0.18219\n"
     ]
    }
   ],
   "source": [
    "# Train the model with training dataset using default parameters\n",
    "xgb_params = {\n",
    "    \"objective\": \"binary:logistic\",\n",
    "    \"seed\": 1\n",
    "}\n",
    "xgb_model_base = xgb.train(xgb_params, dtrain, num_boost_round=100, verbose_eval=5, evals=watchlist)"
   ]
  },
  {
   "cell_type": "code",
   "execution_count": 48,
   "id": "u2HlrtqKwOvU",
   "metadata": {
    "colab": {
     "base_uri": "https://localhost:8080/"
    },
    "executionInfo": {
     "elapsed": 530,
     "status": "ok",
     "timestamp": 1639482716306,
     "user": {
      "displayName": "mohammad",
      "photoUrl": "https://lh3.googleusercontent.com/a/default-user=s64",
      "userId": "17476461995469440125"
     },
     "user_tz": -210
    },
    "id": "u2HlrtqKwOvU",
    "outputId": "70c1691a-5aa0-4c16-92d3-bce3e6ebc0e1"
   },
   "outputs": [
    {
     "name": "stdout",
     "output_type": "stream",
     "text": [
      "Validation dataset AUC: 0.947\n"
     ]
    }
   ],
   "source": [
    "y_pred = xgb_model_base.predict(dval)\n",
    "result = (y_pred >= 0.5)\n",
    "print(f\"Validation dataset AUC: {roc_auc_score(y_val, y_pred).round(3)}\")"
   ]
  },
  {
   "cell_type": "markdown",
   "id": "8da38417",
   "metadata": {
    "id": "wmk4HOOcwOzt"
   },
   "source": [
    "#### Tune Hyperparameters"
   ]
  },
  {
   "cell_type": "code",
   "execution_count": 43,
   "id": "vkUEB1qxyS2t",
   "metadata": {
    "executionInfo": {
     "elapsed": 705,
     "status": "ok",
     "timestamp": 1639482736405,
     "user": {
      "displayName": "mohammad",
      "photoUrl": "https://lh3.googleusercontent.com/a/default-user=s64",
      "userId": "17476461995469440125"
     },
     "user_tz": -210
    },
    "id": "vkUEB1qxyS2t"
   },
   "outputs": [],
   "source": [
    "# Define the parameter grid\n",
    "param_grid = {\n",
    "    \"learning_rate\": np.arange(0, 1, 0.03),\n",
    "    'n_estimators': [50, 100, 200, 300],\n",
    "    \"objective\": [\"binary:logistic\"],\n",
    "    \"seed\": [1]\n",
    "}"
   ]
  },
  {
   "cell_type": "code",
   "execution_count": 44,
   "id": "hDaEzqzVyS5H",
   "metadata": {
    "colab": {
     "base_uri": "https://localhost:8080/"
    },
    "executionInfo": {
     "elapsed": 1651224,
     "status": "ok",
     "timestamp": 1639484397461,
     "user": {
      "displayName": "mohammad",
      "photoUrl": "https://lh3.googleusercontent.com/a/default-user=s64",
      "userId": "17476461995469440125"
     },
     "user_tz": -210
    },
    "id": "hDaEzqzVyS5H",
    "outputId": "621f64a6-07c6-4e80-838e-7b878a963096"
   },
   "outputs": [
    {
     "data": {
      "text/plain": [
       "GridSearchCV(estimator=XGBClassifier(n_jobs=-1, random_state=1,\n",
       "                                     use_label_encoder=False),\n",
       "             n_jobs=-1,\n",
       "             param_grid={'learning_rate': array([0.  , 0.03, 0.06, 0.09, 0.12, 0.15, 0.18, 0.21, 0.24, 0.27, 0.3 ,\n",
       "       0.33, 0.36, 0.39, 0.42, 0.45, 0.48, 0.51, 0.54, 0.57, 0.6 , 0.63,\n",
       "       0.66, 0.69, 0.72, 0.75, 0.78, 0.81, 0.84, 0.87, 0.9 , 0.93, 0.96,\n",
       "       0.99]),\n",
       "                         'n_estimators': [50, 100, 200, 300],\n",
       "                         'objective': ['binary:logistic'], 'seed': [1]})"
      ]
     },
     "execution_count": 44,
     "metadata": {},
     "output_type": "execute_result"
    }
   ],
   "source": [
    "# Define the grid search model\n",
    "xgb_model = xgb.XGBClassifier(random_state=1, n_jobs=-1, use_label_encoder=False)\n",
    "search_xgb = GridSearchCV(\n",
    "    estimator=xgb_model, \n",
    "    param_grid=param_grid, \n",
    "    n_jobs=-1\n",
    ")\n",
    "\n",
    "# Train the grid search model with training dataset\n",
    "search_xgb.fit(X_train, y_train)"
   ]
  },
  {
   "cell_type": "code",
   "execution_count": 45,
   "id": "ctK_QApUwO86",
   "metadata": {
    "colab": {
     "base_uri": "https://localhost:8080/"
    },
    "executionInfo": {
     "elapsed": 762,
     "status": "ok",
     "timestamp": 1639484446543,
     "user": {
      "displayName": "mohammad",
      "photoUrl": "https://lh3.googleusercontent.com/a/default-user=s64",
      "userId": "17476461995469440125"
     },
     "user_tz": -210
    },
    "id": "ctK_QApUwO86",
    "outputId": "453e18ad-207e-4f33-d5dd-1829e6b0a1c3"
   },
   "outputs": [
    {
     "name": "stdout",
     "output_type": "stream",
     "text": [
      "Best parameter (CV Score = 0.918):\n",
      "{'learning_rate': 0.21, 'n_estimators': 100, 'objective': 'binary:logistic', 'seed': 1}\n"
     ]
    }
   ],
   "source": [
    "# Get the tuned hyperparameters from the grid search model\n",
    "print(f\"Best parameter (CV Score = {search_xgb.best_score_.round(3)}):\")\n",
    "print(search_xgb.best_params_)"
   ]
  },
  {
   "cell_type": "code",
   "execution_count": 49,
   "id": "8I3tOz-ey4mo",
   "metadata": {
    "colab": {
     "base_uri": "https://localhost:8080/"
    },
    "executionInfo": {
     "elapsed": 9089,
     "status": "ok",
     "timestamp": 1639484687607,
     "user": {
      "displayName": "mohammad",
      "photoUrl": "https://lh3.googleusercontent.com/a/default-user=s64",
      "userId": "17476461995469440125"
     },
     "user_tz": -210
    },
    "id": "8I3tOz-ey4mo",
    "outputId": "60ef5a6b-9646-4fcd-c7f2-f6013e6081b6"
   },
   "outputs": [
    {
     "name": "stdout",
     "output_type": "stream",
     "text": [
      "[17:15:25] WARNING: C:/Users/Administrator/workspace/xgboost-win64_release_1.5.0/src/learner.cc:1115: Starting in XGBoost 1.3.0, the default evaluation metric used with the objective 'binary:logistic' was changed from 'error' to 'logloss'. Explicitly set eval_metric if you'd like to restore the old behavior.\n",
      "[0]\ttrain-logloss:0.54576\tval-logloss:0.54887\n",
      "[5]\ttrain-logloss:0.26398\tval-logloss:0.27641\n",
      "[10]\ttrain-logloss:0.18986\tval-logloss:0.20754\n",
      "[15]\ttrain-logloss:0.16484\tval-logloss:0.18636\n",
      "[20]\ttrain-logloss:0.15509\tval-logloss:0.17928\n",
      "[25]\ttrain-logloss:0.15047\tval-logloss:0.17719\n",
      "[30]\ttrain-logloss:0.14744\tval-logloss:0.17672\n",
      "[35]\ttrain-logloss:0.14527\tval-logloss:0.17665\n",
      "[40]\ttrain-logloss:0.14147\tval-logloss:0.17641\n",
      "[45]\ttrain-logloss:0.13898\tval-logloss:0.17683\n",
      "[50]\ttrain-logloss:0.13676\tval-logloss:0.17642\n",
      "[55]\ttrain-logloss:0.13496\tval-logloss:0.17662\n",
      "[60]\ttrain-logloss:0.13331\tval-logloss:0.17686\n",
      "[65]\ttrain-logloss:0.13060\tval-logloss:0.17655\n",
      "[70]\ttrain-logloss:0.12801\tval-logloss:0.17680\n",
      "[75]\ttrain-logloss:0.12602\tval-logloss:0.17728\n",
      "[80]\ttrain-logloss:0.12442\tval-logloss:0.17766\n",
      "[85]\ttrain-logloss:0.12296\tval-logloss:0.17811\n",
      "[90]\ttrain-logloss:0.12032\tval-logloss:0.17807\n",
      "[95]\ttrain-logloss:0.11815\tval-logloss:0.17826\n",
      "[99]\ttrain-logloss:0.11719\tval-logloss:0.17863\n"
     ]
    }
   ],
   "source": [
    "# Train the model with training dataset using default parameters\n",
    "xgb_params = {\n",
    "    \"eta\": 0.21,\n",
    "    \"objective\": \"binary:logistic\",\n",
    "    \"seed\": 1\n",
    "}\n",
    "xgb_model_tuned = xgb.train(xgb_params, dtrain, num_boost_round=100, verbose_eval=5, evals=watchlist)"
   ]
  },
  {
   "cell_type": "code",
   "execution_count": 50,
   "id": "KuJo-Snmy9S6",
   "metadata": {
    "colab": {
     "base_uri": "https://localhost:8080/"
    },
    "executionInfo": {
     "elapsed": 19,
     "status": "ok",
     "timestamp": 1639484687609,
     "user": {
      "displayName": "mohammad",
      "photoUrl": "https://lh3.googleusercontent.com/a/default-user=s64",
      "userId": "17476461995469440125"
     },
     "user_tz": -210
    },
    "id": "KuJo-Snmy9S6",
    "outputId": "c301fe98-ddb5-4992-f24a-96b49875febe"
   },
   "outputs": [
    {
     "name": "stdout",
     "output_type": "stream",
     "text": [
      "Validation dataset AUC: 0.949\n"
     ]
    }
   ],
   "source": [
    "# Predict using validation dataset\n",
    "y_pred_val = xgb_model_tuned.predict(dval)\n",
    "print(f\"Validation dataset AUC: {roc_auc_score(y_val, y_pred_val).round(3)}\")"
   ]
  },
  {
   "cell_type": "markdown",
   "id": "0931b72e",
   "metadata": {
    "id": "345f2528"
   },
   "source": [
    "## Choosing the Best Model"
   ]
  },
  {
   "cell_type": "markdown",
   "id": "c2b888a4",
   "metadata": {
    "id": "Misj9o996Bpd"
   },
   "source": [
    "#### Best Model: XGBoost"
   ]
  },
  {
   "cell_type": "markdown",
   "id": "a901b8fc",
   "metadata": {},
   "source": [
    "#### Predict on Test Dataset"
   ]
  },
  {
   "cell_type": "code",
   "execution_count": 51,
   "id": "94LI39tj6Bvg",
   "metadata": {
    "colab": {
     "base_uri": "https://localhost:8080/"
    },
    "executionInfo": {
     "elapsed": 10465,
     "status": "ok",
     "timestamp": 1639484801890,
     "user": {
      "displayName": "mohammad",
      "photoUrl": "https://lh3.googleusercontent.com/a/default-user=s64",
      "userId": "17476461995469440125"
     },
     "user_tz": -210
    },
    "id": "94LI39tj6Bvg",
    "outputId": "8149f34d-471b-4a31-fc71-b66c8c382e77"
   },
   "outputs": [
    {
     "name": "stdout",
     "output_type": "stream",
     "text": [
      "[17:15:38] WARNING: C:/Users/Administrator/workspace/xgboost-win64_release_1.5.0/src/learner.cc:1115: Starting in XGBoost 1.3.0, the default evaluation metric used with the objective 'binary:logistic' was changed from 'error' to 'logloss'. Explicitly set eval_metric if you'd like to restore the old behavior.\n",
      "[0]\ttrain-logloss:0.54576\tval-logloss:0.54887\n",
      "[5]\ttrain-logloss:0.26398\tval-logloss:0.27641\n",
      "[10]\ttrain-logloss:0.18986\tval-logloss:0.20754\n",
      "[15]\ttrain-logloss:0.16484\tval-logloss:0.18636\n",
      "[20]\ttrain-logloss:0.15509\tval-logloss:0.17928\n",
      "[25]\ttrain-logloss:0.15047\tval-logloss:0.17719\n",
      "[30]\ttrain-logloss:0.14744\tval-logloss:0.17672\n",
      "[35]\ttrain-logloss:0.14527\tval-logloss:0.17665\n",
      "[40]\ttrain-logloss:0.14147\tval-logloss:0.17641\n",
      "[45]\ttrain-logloss:0.13898\tval-logloss:0.17683\n",
      "[50]\ttrain-logloss:0.13676\tval-logloss:0.17642\n",
      "[55]\ttrain-logloss:0.13496\tval-logloss:0.17662\n",
      "[60]\ttrain-logloss:0.13331\tval-logloss:0.17686\n",
      "[65]\ttrain-logloss:0.13060\tval-logloss:0.17655\n",
      "[70]\ttrain-logloss:0.12801\tval-logloss:0.17680\n",
      "[75]\ttrain-logloss:0.12602\tval-logloss:0.17728\n",
      "[80]\ttrain-logloss:0.12442\tval-logloss:0.17766\n",
      "[85]\ttrain-logloss:0.12296\tval-logloss:0.17811\n",
      "[90]\ttrain-logloss:0.12032\tval-logloss:0.17807\n",
      "[95]\ttrain-logloss:0.11815\tval-logloss:0.17826\n",
      "[99]\ttrain-logloss:0.11719\tval-logloss:0.17863\n",
      "Test dataset AUC: 0.947\n"
     ]
    }
   ],
   "source": [
    "# Train the model with training dataset using default parameters\n",
    "xgb_params = {\n",
    "    \"eta\": 0.21,\n",
    "    \"objective\": \"binary:logistic\",\n",
    "    \"seed\": 1\n",
    "}\n",
    "xgb_model_final = xgb.train(xgb_params, dtrain, num_boost_round=100, verbose_eval=5, evals=watchlist)\n",
    "\n",
    "# Predict using test dataset\n",
    "y_pred = xgb_model_final.predict(dtest)\n",
    "print(f\"Test dataset AUC: {roc_auc_score(y_test, y_pred).round(3)}\")"
   ]
  },
  {
   "cell_type": "code",
   "execution_count": 59,
   "id": "a23a140b",
   "metadata": {},
   "outputs": [
    {
     "name": "stdout",
     "output_type": "stream",
     "text": [
      "[18:34:15] WARNING: C:/Users/Administrator/workspace/xgboost-win64_release_1.5.0/src/learner.cc:1115: Starting in XGBoost 1.3.0, the default evaluation metric used with the objective 'binary:logistic' was changed from 'error' to 'logloss'. Explicitly set eval_metric if you'd like to restore the old behavior.\n",
      "AUC on fold 0 is 0.9477476457195496\n",
      "[18:34:18] WARNING: C:/Users/Administrator/workspace/xgboost-win64_release_1.5.0/src/learner.cc:1115: Starting in XGBoost 1.3.0, the default evaluation metric used with the objective 'binary:logistic' was changed from 'error' to 'logloss'. Explicitly set eval_metric if you'd like to restore the old behavior.\n",
      "AUC on fold 1 is 0.9517972626429043\n",
      "[18:34:21] WARNING: C:/Users/Administrator/workspace/xgboost-win64_release_1.5.0/src/learner.cc:1115: Starting in XGBoost 1.3.0, the default evaluation metric used with the objective 'binary:logistic' was changed from 'error' to 'logloss'. Explicitly set eval_metric if you'd like to restore the old behavior.\n",
      "AUC on fold 2 is 0.9448601813630769\n",
      "[18:34:25] WARNING: C:/Users/Administrator/workspace/xgboost-win64_release_1.5.0/src/learner.cc:1115: Starting in XGBoost 1.3.0, the default evaluation metric used with the objective 'binary:logistic' was changed from 'error' to 'logloss'. Explicitly set eval_metric if you'd like to restore the old behavior.\n",
      "AUC on fold 3 is 0.94753903820139\n",
      "[18:34:29] WARNING: C:/Users/Administrator/workspace/xgboost-win64_release_1.5.0/src/learner.cc:1115: Starting in XGBoost 1.3.0, the default evaluation metric used with the objective 'binary:logistic' was changed from 'error' to 'logloss'. Explicitly set eval_metric if you'd like to restore the old behavior.\n",
      "AUC on fold 4 is 0.9472588357588356\n",
      "Validation results: 0.948 +- 0.002\n",
      "[18:34:33] WARNING: C:/Users/Administrator/workspace/xgboost-win64_release_1.5.0/src/learner.cc:1115: Starting in XGBoost 1.3.0, the default evaluation metric used with the objective 'binary:logistic' was changed from 'error' to 'logloss'. Explicitly set eval_metric if you'd like to restore the old behavior.\n",
      "The model is saved to model.bin\n"
     ]
    }
   ],
   "source": [
    "%run train.py"
   ]
  },
  {
   "cell_type": "code",
   "execution_count": null,
   "id": "e7e5e2c1",
   "metadata": {},
   "outputs": [],
   "source": []
  }
 ],
 "metadata": {
  "accelerator": "GPU",
  "colab": {
   "collapsed_sections": [],
   "name": "notebook.ipynb",
   "provenance": []
  },
  "kernelspec": {
   "display_name": "Python 3 (ipykernel)",
   "language": "python",
   "name": "python3"
  },
  "language_info": {
   "codemirror_mode": {
    "name": "ipython",
    "version": 3
   },
   "file_extension": ".py",
   "mimetype": "text/x-python",
   "name": "python",
   "nbconvert_exporter": "python",
   "pygments_lexer": "ipython3",
   "version": "3.8.11"
  }
 },
 "nbformat": 4,
 "nbformat_minor": 5
}
