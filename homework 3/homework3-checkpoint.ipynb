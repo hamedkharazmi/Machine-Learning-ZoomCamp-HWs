{
 "cells": [
  {
   "cell_type": "code",
   "execution_count": 1,
   "id": "3a0c6f6e",
   "metadata": {},
   "outputs": [],
   "source": [
    "%matplotlib inline\n",
    "\n",
    "import pandas as pd\n",
    "import numpy as np\n",
    "import matplotlib.pyplot as plt\n",
    "import seaborn as sns\n",
    "\n",
    "import warnings\n",
    "warnings.filterwarnings(\"ignore\")"
   ]
  },
  {
   "cell_type": "code",
   "execution_count": 2,
   "id": "ce51abfd",
   "metadata": {},
   "outputs": [],
   "source": [
    "usecols = ['room_type', 'neighbourhood_group', 'latitude','longitude','price','minimum_nights','number_of_reviews','reviews_per_month','calculated_host_listings_count','availability_365']\n",
    "\n",
    "data = pd.read_csv('Data/AB_NYC_2019.csv', usecols=usecols)"
   ]
  },
  {
   "cell_type": "code",
   "execution_count": 3,
   "id": "f18e2921",
   "metadata": {},
   "outputs": [
    {
     "data": {
      "text/plain": [
       "(48895, 10)"
      ]
     },
     "execution_count": 3,
     "metadata": {},
     "output_type": "execute_result"
    }
   ],
   "source": [
    "data.shape"
   ]
  },
  {
   "cell_type": "code",
   "execution_count": 4,
   "id": "89c22644",
   "metadata": {},
   "outputs": [
    {
     "data": {
      "text/html": [
       "<div>\n",
       "<style scoped>\n",
       "    .dataframe tbody tr th:only-of-type {\n",
       "        vertical-align: middle;\n",
       "    }\n",
       "\n",
       "    .dataframe tbody tr th {\n",
       "        vertical-align: top;\n",
       "    }\n",
       "\n",
       "    .dataframe thead th {\n",
       "        text-align: right;\n",
       "    }\n",
       "</style>\n",
       "<table border=\"1\" class=\"dataframe\">\n",
       "  <thead>\n",
       "    <tr style=\"text-align: right;\">\n",
       "      <th></th>\n",
       "      <th>neighbourhood_group</th>\n",
       "      <th>latitude</th>\n",
       "      <th>longitude</th>\n",
       "      <th>room_type</th>\n",
       "      <th>price</th>\n",
       "      <th>minimum_nights</th>\n",
       "      <th>number_of_reviews</th>\n",
       "      <th>reviews_per_month</th>\n",
       "      <th>calculated_host_listings_count</th>\n",
       "      <th>availability_365</th>\n",
       "    </tr>\n",
       "  </thead>\n",
       "  <tbody>\n",
       "    <tr>\n",
       "      <th>0</th>\n",
       "      <td>Brooklyn</td>\n",
       "      <td>40.64749</td>\n",
       "      <td>-73.97237</td>\n",
       "      <td>Private room</td>\n",
       "      <td>149</td>\n",
       "      <td>1</td>\n",
       "      <td>9</td>\n",
       "      <td>0.21</td>\n",
       "      <td>6</td>\n",
       "      <td>365</td>\n",
       "    </tr>\n",
       "    <tr>\n",
       "      <th>1</th>\n",
       "      <td>Manhattan</td>\n",
       "      <td>40.75362</td>\n",
       "      <td>-73.98377</td>\n",
       "      <td>Entire home/apt</td>\n",
       "      <td>225</td>\n",
       "      <td>1</td>\n",
       "      <td>45</td>\n",
       "      <td>0.38</td>\n",
       "      <td>2</td>\n",
       "      <td>355</td>\n",
       "    </tr>\n",
       "    <tr>\n",
       "      <th>2</th>\n",
       "      <td>Manhattan</td>\n",
       "      <td>40.80902</td>\n",
       "      <td>-73.94190</td>\n",
       "      <td>Private room</td>\n",
       "      <td>150</td>\n",
       "      <td>3</td>\n",
       "      <td>0</td>\n",
       "      <td>NaN</td>\n",
       "      <td>1</td>\n",
       "      <td>365</td>\n",
       "    </tr>\n",
       "    <tr>\n",
       "      <th>3</th>\n",
       "      <td>Brooklyn</td>\n",
       "      <td>40.68514</td>\n",
       "      <td>-73.95976</td>\n",
       "      <td>Entire home/apt</td>\n",
       "      <td>89</td>\n",
       "      <td>1</td>\n",
       "      <td>270</td>\n",
       "      <td>4.64</td>\n",
       "      <td>1</td>\n",
       "      <td>194</td>\n",
       "    </tr>\n",
       "    <tr>\n",
       "      <th>4</th>\n",
       "      <td>Manhattan</td>\n",
       "      <td>40.79851</td>\n",
       "      <td>-73.94399</td>\n",
       "      <td>Entire home/apt</td>\n",
       "      <td>80</td>\n",
       "      <td>10</td>\n",
       "      <td>9</td>\n",
       "      <td>0.10</td>\n",
       "      <td>1</td>\n",
       "      <td>0</td>\n",
       "    </tr>\n",
       "  </tbody>\n",
       "</table>\n",
       "</div>"
      ],
      "text/plain": [
       "  neighbourhood_group  latitude  longitude        room_type  price  \\\n",
       "0            Brooklyn  40.64749  -73.97237     Private room    149   \n",
       "1           Manhattan  40.75362  -73.98377  Entire home/apt    225   \n",
       "2           Manhattan  40.80902  -73.94190     Private room    150   \n",
       "3            Brooklyn  40.68514  -73.95976  Entire home/apt     89   \n",
       "4           Manhattan  40.79851  -73.94399  Entire home/apt     80   \n",
       "\n",
       "   minimum_nights  number_of_reviews  reviews_per_month  \\\n",
       "0               1                  9               0.21   \n",
       "1               1                 45               0.38   \n",
       "2               3                  0                NaN   \n",
       "3               1                270               4.64   \n",
       "4              10                  9               0.10   \n",
       "\n",
       "   calculated_host_listings_count  availability_365  \n",
       "0                               6               365  \n",
       "1                               2               355  \n",
       "2                               1               365  \n",
       "3                               1               194  \n",
       "4                               1                 0  "
      ]
     },
     "execution_count": 4,
     "metadata": {},
     "output_type": "execute_result"
    }
   ],
   "source": [
    "data.head()"
   ]
  },
  {
   "cell_type": "code",
   "execution_count": 5,
   "id": "c3e64475",
   "metadata": {},
   "outputs": [
    {
     "data": {
      "text/plain": [
       "neighbourhood_group                object\n",
       "latitude                          float64\n",
       "longitude                         float64\n",
       "room_type                          object\n",
       "price                               int64\n",
       "minimum_nights                      int64\n",
       "number_of_reviews                   int64\n",
       "reviews_per_month                 float64\n",
       "calculated_host_listings_count      int64\n",
       "availability_365                    int64\n",
       "dtype: object"
      ]
     },
     "execution_count": 5,
     "metadata": {},
     "output_type": "execute_result"
    }
   ],
   "source": [
    "data.dtypes"
   ]
  },
  {
   "cell_type": "code",
   "execution_count": 6,
   "id": "110c2179",
   "metadata": {},
   "outputs": [
    {
     "data": {
      "text/plain": [
       "neighbourhood_group                   0\n",
       "latitude                              0\n",
       "longitude                             0\n",
       "room_type                             0\n",
       "price                                 0\n",
       "minimum_nights                        0\n",
       "number_of_reviews                     0\n",
       "reviews_per_month                 10052\n",
       "calculated_host_listings_count        0\n",
       "availability_365                      0\n",
       "dtype: int64"
      ]
     },
     "execution_count": 6,
     "metadata": {},
     "output_type": "execute_result"
    }
   ],
   "source": [
    "data.isnull().sum()"
   ]
  },
  {
   "cell_type": "code",
   "execution_count": 7,
   "id": "2df94166",
   "metadata": {},
   "outputs": [],
   "source": [
    "data['reviews_per_month'] = data['reviews_per_month'].fillna(0)"
   ]
  },
  {
   "cell_type": "markdown",
   "id": "b78e0297",
   "metadata": {},
   "source": [
    "## Question 1"
   ]
  },
  {
   "cell_type": "code",
   "execution_count": 8,
   "id": "dd6b50a2",
   "metadata": {},
   "outputs": [
    {
     "data": {
      "text/html": [
       "<div>\n",
       "<style scoped>\n",
       "    .dataframe tbody tr th:only-of-type {\n",
       "        vertical-align: middle;\n",
       "    }\n",
       "\n",
       "    .dataframe tbody tr th {\n",
       "        vertical-align: top;\n",
       "    }\n",
       "\n",
       "    .dataframe thead th {\n",
       "        text-align: right;\n",
       "    }\n",
       "</style>\n",
       "<table border=\"1\" class=\"dataframe\">\n",
       "  <thead>\n",
       "    <tr style=\"text-align: right;\">\n",
       "      <th></th>\n",
       "      <th>neighbourhood_group</th>\n",
       "      <th>room_type</th>\n",
       "    </tr>\n",
       "  </thead>\n",
       "  <tbody>\n",
       "    <tr>\n",
       "      <th>count</th>\n",
       "      <td>48895</td>\n",
       "      <td>48895</td>\n",
       "    </tr>\n",
       "    <tr>\n",
       "      <th>unique</th>\n",
       "      <td>5</td>\n",
       "      <td>3</td>\n",
       "    </tr>\n",
       "    <tr>\n",
       "      <th>top</th>\n",
       "      <td>Manhattan</td>\n",
       "      <td>Entire home/apt</td>\n",
       "    </tr>\n",
       "    <tr>\n",
       "      <th>freq</th>\n",
       "      <td>21661</td>\n",
       "      <td>25409</td>\n",
       "    </tr>\n",
       "  </tbody>\n",
       "</table>\n",
       "</div>"
      ],
      "text/plain": [
       "       neighbourhood_group        room_type\n",
       "count                48895            48895\n",
       "unique                   5                3\n",
       "top              Manhattan  Entire home/apt\n",
       "freq                 21661            25409"
      ]
     },
     "execution_count": 8,
     "metadata": {},
     "output_type": "execute_result"
    }
   ],
   "source": [
    "# data.describe(include=[np.object])\n",
    "data.describe(include=[\"O\"])"
   ]
  },
  {
   "cell_type": "code",
   "execution_count": 9,
   "id": "3dcef6d0",
   "metadata": {},
   "outputs": [
    {
     "data": {
      "text/plain": [
       "0    Manhattan\n",
       "dtype: object"
      ]
     },
     "execution_count": 9,
     "metadata": {},
     "output_type": "execute_result"
    }
   ],
   "source": [
    "# data['neighbourhood_group'].describe()\n",
    "data['neighbourhood_group'].mode()"
   ]
  },
  {
   "cell_type": "markdown",
   "id": "c0c5b491",
   "metadata": {},
   "source": [
    "## Question 2"
   ]
  },
  {
   "cell_type": "code",
   "execution_count": 10,
   "id": "ec006dfc",
   "metadata": {},
   "outputs": [],
   "source": [
    "data_numeric = data.copy()\n",
    "data_numeric = data_numeric.drop(['neighbourhood_group','room_type'], axis=1)"
   ]
  },
  {
   "cell_type": "code",
   "execution_count": 11,
   "id": "742060be",
   "metadata": {},
   "outputs": [
    {
     "data": {
      "text/html": [
       "<div>\n",
       "<style scoped>\n",
       "    .dataframe tbody tr th:only-of-type {\n",
       "        vertical-align: middle;\n",
       "    }\n",
       "\n",
       "    .dataframe tbody tr th {\n",
       "        vertical-align: top;\n",
       "    }\n",
       "\n",
       "    .dataframe thead th {\n",
       "        text-align: right;\n",
       "    }\n",
       "</style>\n",
       "<table border=\"1\" class=\"dataframe\">\n",
       "  <thead>\n",
       "    <tr style=\"text-align: right;\">\n",
       "      <th></th>\n",
       "      <th>latitude</th>\n",
       "      <th>longitude</th>\n",
       "      <th>price</th>\n",
       "      <th>minimum_nights</th>\n",
       "      <th>number_of_reviews</th>\n",
       "      <th>reviews_per_month</th>\n",
       "      <th>calculated_host_listings_count</th>\n",
       "      <th>availability_365</th>\n",
       "    </tr>\n",
       "  </thead>\n",
       "  <tbody>\n",
       "    <tr>\n",
       "      <th>latitude</th>\n",
       "      <td>1.000000</td>\n",
       "      <td>0.084788</td>\n",
       "      <td>0.033939</td>\n",
       "      <td>0.024869</td>\n",
       "      <td>-0.015389</td>\n",
       "      <td>-0.018758</td>\n",
       "      <td>0.019517</td>\n",
       "      <td>-0.010983</td>\n",
       "    </tr>\n",
       "    <tr>\n",
       "      <th>longitude</th>\n",
       "      <td>0.084788</td>\n",
       "      <td>1.000000</td>\n",
       "      <td>-0.150019</td>\n",
       "      <td>-0.062747</td>\n",
       "      <td>0.059094</td>\n",
       "      <td>0.138516</td>\n",
       "      <td>-0.114713</td>\n",
       "      <td>0.082731</td>\n",
       "    </tr>\n",
       "    <tr>\n",
       "      <th>price</th>\n",
       "      <td>0.033939</td>\n",
       "      <td>-0.150019</td>\n",
       "      <td>1.000000</td>\n",
       "      <td>0.042799</td>\n",
       "      <td>-0.047954</td>\n",
       "      <td>-0.050564</td>\n",
       "      <td>0.057472</td>\n",
       "      <td>0.081829</td>\n",
       "    </tr>\n",
       "    <tr>\n",
       "      <th>minimum_nights</th>\n",
       "      <td>0.024869</td>\n",
       "      <td>-0.062747</td>\n",
       "      <td>0.042799</td>\n",
       "      <td>1.000000</td>\n",
       "      <td>-0.080116</td>\n",
       "      <td>-0.124905</td>\n",
       "      <td>0.127960</td>\n",
       "      <td>0.144303</td>\n",
       "    </tr>\n",
       "    <tr>\n",
       "      <th>number_of_reviews</th>\n",
       "      <td>-0.015389</td>\n",
       "      <td>0.059094</td>\n",
       "      <td>-0.047954</td>\n",
       "      <td>-0.080116</td>\n",
       "      <td>1.000000</td>\n",
       "      <td>0.589407</td>\n",
       "      <td>-0.072376</td>\n",
       "      <td>0.172028</td>\n",
       "    </tr>\n",
       "    <tr>\n",
       "      <th>reviews_per_month</th>\n",
       "      <td>-0.018758</td>\n",
       "      <td>0.138516</td>\n",
       "      <td>-0.050564</td>\n",
       "      <td>-0.124905</td>\n",
       "      <td>0.589407</td>\n",
       "      <td>1.000000</td>\n",
       "      <td>-0.047312</td>\n",
       "      <td>0.163732</td>\n",
       "    </tr>\n",
       "    <tr>\n",
       "      <th>calculated_host_listings_count</th>\n",
       "      <td>0.019517</td>\n",
       "      <td>-0.114713</td>\n",
       "      <td>0.057472</td>\n",
       "      <td>0.127960</td>\n",
       "      <td>-0.072376</td>\n",
       "      <td>-0.047312</td>\n",
       "      <td>1.000000</td>\n",
       "      <td>0.225701</td>\n",
       "    </tr>\n",
       "    <tr>\n",
       "      <th>availability_365</th>\n",
       "      <td>-0.010983</td>\n",
       "      <td>0.082731</td>\n",
       "      <td>0.081829</td>\n",
       "      <td>0.144303</td>\n",
       "      <td>0.172028</td>\n",
       "      <td>0.163732</td>\n",
       "      <td>0.225701</td>\n",
       "      <td>1.000000</td>\n",
       "    </tr>\n",
       "  </tbody>\n",
       "</table>\n",
       "</div>"
      ],
      "text/plain": [
       "                                latitude  longitude     price  minimum_nights  \\\n",
       "latitude                        1.000000   0.084788  0.033939        0.024869   \n",
       "longitude                       0.084788   1.000000 -0.150019       -0.062747   \n",
       "price                           0.033939  -0.150019  1.000000        0.042799   \n",
       "minimum_nights                  0.024869  -0.062747  0.042799        1.000000   \n",
       "number_of_reviews              -0.015389   0.059094 -0.047954       -0.080116   \n",
       "reviews_per_month              -0.018758   0.138516 -0.050564       -0.124905   \n",
       "calculated_host_listings_count  0.019517  -0.114713  0.057472        0.127960   \n",
       "availability_365               -0.010983   0.082731  0.081829        0.144303   \n",
       "\n",
       "                                number_of_reviews  reviews_per_month  \\\n",
       "latitude                                -0.015389          -0.018758   \n",
       "longitude                                0.059094           0.138516   \n",
       "price                                   -0.047954          -0.050564   \n",
       "minimum_nights                          -0.080116          -0.124905   \n",
       "number_of_reviews                        1.000000           0.589407   \n",
       "reviews_per_month                        0.589407           1.000000   \n",
       "calculated_host_listings_count          -0.072376          -0.047312   \n",
       "availability_365                         0.172028           0.163732   \n",
       "\n",
       "                                calculated_host_listings_count  \\\n",
       "latitude                                              0.019517   \n",
       "longitude                                            -0.114713   \n",
       "price                                                 0.057472   \n",
       "minimum_nights                                        0.127960   \n",
       "number_of_reviews                                    -0.072376   \n",
       "reviews_per_month                                    -0.047312   \n",
       "calculated_host_listings_count                        1.000000   \n",
       "availability_365                                      0.225701   \n",
       "\n",
       "                                availability_365  \n",
       "latitude                               -0.010983  \n",
       "longitude                               0.082731  \n",
       "price                                   0.081829  \n",
       "minimum_nights                          0.144303  \n",
       "number_of_reviews                       0.172028  \n",
       "reviews_per_month                       0.163732  \n",
       "calculated_host_listings_count          0.225701  \n",
       "availability_365                        1.000000  "
      ]
     },
     "execution_count": 11,
     "metadata": {},
     "output_type": "execute_result"
    }
   ],
   "source": [
    "data_numeric.corr()"
   ]
  },
  {
   "cell_type": "code",
   "execution_count": 12,
   "id": "bf9f5769",
   "metadata": {},
   "outputs": [
    {
     "data": {
      "image/png": "[encoded data removed]",
      "text/plain": [
       "<Figure size 1080x720 with 2 Axes>"
      ]
     },
     "metadata": {
      "needs_background": "light"
     },
     "output_type": "display_data"
    }
   ],
   "source": [
    "plt.figure(figsize=(15,10))  \n",
    "sns.heatmap(data_numeric.corr(),annot=True,linewidths=.5, cmap=\"Blues\")\n",
    "plt.title('Heatmap showing correlations between numerical data')\n",
    "plt.show()"
   ]
  },
  {
   "cell_type": "code",
   "execution_count": 15,
   "id": "2482bb71",
   "metadata": {},
   "outputs": [],
   "source": [
    "# show whole output\n",
    "pd.set_option('display.max_rows', 500)"
   ]
  },
  {
   "cell_type": "code",
   "execution_count": 16,
   "id": "0a101753",
   "metadata": {},
   "outputs": [
    {
     "name": "stdout",
     "output_type": "stream",
     "text": [
      "latitude                        latitude                          1.000000\n",
      "longitude                       longitude                         1.000000\n",
      "calculated_host_listings_count  calculated_host_listings_count    1.000000\n",
      "reviews_per_month               reviews_per_month                 1.000000\n",
      "number_of_reviews               number_of_reviews                 1.000000\n",
      "minimum_nights                  minimum_nights                    1.000000\n",
      "price                           price                             1.000000\n",
      "availability_365                availability_365                  1.000000\n",
      "reviews_per_month               number_of_reviews                 0.589407\n",
      "number_of_reviews               reviews_per_month                 0.589407\n",
      "availability_365                calculated_host_listings_count    0.225701\n",
      "calculated_host_listings_count  availability_365                  0.225701\n",
      "number_of_reviews               availability_365                  0.172028\n",
      "availability_365                number_of_reviews                 0.172028\n",
      "                                reviews_per_month                 0.163732\n",
      "reviews_per_month               availability_365                  0.163732\n",
      "availability_365                minimum_nights                    0.144303\n",
      "minimum_nights                  availability_365                  0.144303\n",
      "reviews_per_month               longitude                         0.138516\n",
      "longitude                       reviews_per_month                 0.138516\n",
      "minimum_nights                  calculated_host_listings_count    0.127960\n",
      "calculated_host_listings_count  minimum_nights                    0.127960\n",
      "latitude                        longitude                         0.084788\n",
      "longitude                       latitude                          0.084788\n",
      "availability_365                longitude                         0.082731\n",
      "longitude                       availability_365                  0.082731\n",
      "availability_365                price                             0.081829\n",
      "price                           availability_365                  0.081829\n",
      "number_of_reviews               longitude                         0.059094\n",
      "longitude                       number_of_reviews                 0.059094\n",
      "price                           calculated_host_listings_count    0.057472\n",
      "calculated_host_listings_count  price                             0.057472\n",
      "minimum_nights                  price                             0.042799\n",
      "price                           minimum_nights                    0.042799\n",
      "                                latitude                          0.033939\n",
      "latitude                        price                             0.033939\n",
      "                                minimum_nights                    0.024869\n",
      "minimum_nights                  latitude                          0.024869\n",
      "calculated_host_listings_count  latitude                          0.019517\n",
      "latitude                        calculated_host_listings_count    0.019517\n",
      "                                availability_365                 -0.010983\n",
      "availability_365                latitude                         -0.010983\n",
      "latitude                        number_of_reviews                -0.015389\n",
      "number_of_reviews               latitude                         -0.015389\n",
      "latitude                        reviews_per_month                -0.018758\n",
      "reviews_per_month               latitude                         -0.018758\n",
      "calculated_host_listings_count  reviews_per_month                -0.047312\n",
      "reviews_per_month               calculated_host_listings_count   -0.047312\n",
      "number_of_reviews               price                            -0.047954\n",
      "price                           number_of_reviews                -0.047954\n",
      "                                reviews_per_month                -0.050564\n",
      "reviews_per_month               price                            -0.050564\n",
      "minimum_nights                  longitude                        -0.062747\n",
      "longitude                       minimum_nights                   -0.062747\n",
      "number_of_reviews               calculated_host_listings_count   -0.072376\n",
      "calculated_host_listings_count  number_of_reviews                -0.072376\n",
      "number_of_reviews               minimum_nights                   -0.080116\n",
      "minimum_nights                  number_of_reviews                -0.080116\n",
      "longitude                       calculated_host_listings_count   -0.114713\n",
      "calculated_host_listings_count  longitude                        -0.114713\n",
      "minimum_nights                  reviews_per_month                -0.124905\n",
      "reviews_per_month               minimum_nights                   -0.124905\n",
      "price                           longitude                        -0.150019\n",
      "longitude                       price                            -0.150019\n",
      "dtype: float64\n"
     ]
    }
   ],
   "source": [
    "print(data_numeric.corr().unstack().sort_values(ascending = False))"
   ]
  },
  {
   "cell_type": "markdown",
   "id": "e619e0c3",
   "metadata": {},
   "source": [
    "## Question 3"
   ]
  },
  {
   "cell_type": "code",
   "execution_count": 36,
   "id": "10da9294",
   "metadata": {},
   "outputs": [],
   "source": [
    "data_class = data.copy()\n",
    "mean = data_class['price'].mean()\n",
    "\n",
    "data_class['above_average'] = np.where(data_class['price']>=mean,1,0)"
   ]
  },
  {
   "cell_type": "code",
   "execution_count": 37,
   "id": "d836414d",
   "metadata": {},
   "outputs": [
    {
     "data": {
      "text/html": [
       "<div>\n",
       "<style scoped>\n",
       "    .dataframe tbody tr th:only-of-type {\n",
       "        vertical-align: middle;\n",
       "    }\n",
       "\n",
       "    .dataframe tbody tr th {\n",
       "        vertical-align: top;\n",
       "    }\n",
       "\n",
       "    .dataframe thead th {\n",
       "        text-align: right;\n",
       "    }\n",
       "</style>\n",
       "<table border=\"1\" class=\"dataframe\">\n",
       "  <thead>\n",
       "    <tr style=\"text-align: right;\">\n",
       "      <th></th>\n",
       "      <th>neighbourhood_group</th>\n",
       "      <th>latitude</th>\n",
       "      <th>longitude</th>\n",
       "      <th>room_type</th>\n",
       "      <th>price</th>\n",
       "      <th>minimum_nights</th>\n",
       "      <th>number_of_reviews</th>\n",
       "      <th>reviews_per_month</th>\n",
       "      <th>calculated_host_listings_count</th>\n",
       "      <th>availability_365</th>\n",
       "      <th>above_average</th>\n",
       "    </tr>\n",
       "  </thead>\n",
       "  <tbody>\n",
       "    <tr>\n",
       "      <th>0</th>\n",
       "      <td>Brooklyn</td>\n",
       "      <td>40.64749</td>\n",
       "      <td>-73.97237</td>\n",
       "      <td>Private room</td>\n",
       "      <td>149</td>\n",
       "      <td>1</td>\n",
       "      <td>9</td>\n",
       "      <td>0.21</td>\n",
       "      <td>6</td>\n",
       "      <td>365</td>\n",
       "      <td>0</td>\n",
       "    </tr>\n",
       "    <tr>\n",
       "      <th>1</th>\n",
       "      <td>Manhattan</td>\n",
       "      <td>40.75362</td>\n",
       "      <td>-73.98377</td>\n",
       "      <td>Entire home/apt</td>\n",
       "      <td>225</td>\n",
       "      <td>1</td>\n",
       "      <td>45</td>\n",
       "      <td>0.38</td>\n",
       "      <td>2</td>\n",
       "      <td>355</td>\n",
       "      <td>1</td>\n",
       "    </tr>\n",
       "    <tr>\n",
       "      <th>2</th>\n",
       "      <td>Manhattan</td>\n",
       "      <td>40.80902</td>\n",
       "      <td>-73.94190</td>\n",
       "      <td>Private room</td>\n",
       "      <td>150</td>\n",
       "      <td>3</td>\n",
       "      <td>0</td>\n",
       "      <td>0.00</td>\n",
       "      <td>1</td>\n",
       "      <td>365</td>\n",
       "      <td>0</td>\n",
       "    </tr>\n",
       "    <tr>\n",
       "      <th>3</th>\n",
       "      <td>Brooklyn</td>\n",
       "      <td>40.68514</td>\n",
       "      <td>-73.95976</td>\n",
       "      <td>Entire home/apt</td>\n",
       "      <td>89</td>\n",
       "      <td>1</td>\n",
       "      <td>270</td>\n",
       "      <td>4.64</td>\n",
       "      <td>1</td>\n",
       "      <td>194</td>\n",
       "      <td>0</td>\n",
       "    </tr>\n",
       "    <tr>\n",
       "      <th>4</th>\n",
       "      <td>Manhattan</td>\n",
       "      <td>40.79851</td>\n",
       "      <td>-73.94399</td>\n",
       "      <td>Entire home/apt</td>\n",
       "      <td>80</td>\n",
       "      <td>10</td>\n",
       "      <td>9</td>\n",
       "      <td>0.10</td>\n",
       "      <td>1</td>\n",
       "      <td>0</td>\n",
       "      <td>0</td>\n",
       "    </tr>\n",
       "  </tbody>\n",
       "</table>\n",
       "</div>"
      ],
      "text/plain": [
       "  neighbourhood_group  latitude  longitude        room_type  price  \\\n",
       "0            Brooklyn  40.64749  -73.97237     Private room    149   \n",
       "1           Manhattan  40.75362  -73.98377  Entire home/apt    225   \n",
       "2           Manhattan  40.80902  -73.94190     Private room    150   \n",
       "3            Brooklyn  40.68514  -73.95976  Entire home/apt     89   \n",
       "4           Manhattan  40.79851  -73.94399  Entire home/apt     80   \n",
       "\n",
       "   minimum_nights  number_of_reviews  reviews_per_month  \\\n",
       "0               1                  9               0.21   \n",
       "1               1                 45               0.38   \n",
       "2               3                  0               0.00   \n",
       "3               1                270               4.64   \n",
       "4              10                  9               0.10   \n",
       "\n",
       "   calculated_host_listings_count  availability_365  above_average  \n",
       "0                               6               365              0  \n",
       "1                               2               355              1  \n",
       "2                               1               365              0  \n",
       "3                               1               194              0  \n",
       "4                               1                 0              0  "
      ]
     },
     "execution_count": 37,
     "metadata": {},
     "output_type": "execute_result"
    }
   ],
   "source": [
    "data_class.head()"
   ]
  },
  {
   "cell_type": "code",
   "execution_count": 38,
   "id": "f1af83ee",
   "metadata": {},
   "outputs": [],
   "source": [
    "data_class = data_class.drop('price', axis=1)"
   ]
  },
  {
   "cell_type": "code",
   "execution_count": 39,
   "id": "ff90aa82",
   "metadata": {},
   "outputs": [],
   "source": [
    "from sklearn.model_selection import train_test_split"
   ]
  },
  {
   "cell_type": "code",
   "execution_count": 40,
   "id": "0b1a024f",
   "metadata": {},
   "outputs": [],
   "source": [
    "df_train_full, df_test = train_test_split(data_class, test_size=0.2, random_state=42)"
   ]
  },
  {
   "cell_type": "code",
   "execution_count": 41,
   "id": "79be2122",
   "metadata": {},
   "outputs": [],
   "source": [
    "df_train, df_val = train_test_split(df_train_full, test_size=0.25, random_state=42)"
   ]
  },
  {
   "cell_type": "code",
   "execution_count": 42,
   "id": "836fb77b",
   "metadata": {},
   "outputs": [],
   "source": [
    "df_train = df_train.reset_index(drop=True)\n",
    "df_val = df_val.reset_index(drop=True)\n",
    "df_test = df_test.reset_index(drop=True)"
   ]
  },
  {
   "cell_type": "code",
   "execution_count": 43,
   "id": "5527e5d5",
   "metadata": {},
   "outputs": [],
   "source": [
    "y_train = df_train.above_average.values\n",
    "y_val = df_val.above_average.values\n",
    "y_test = df_test.above_average.values"
   ]
  },
  {
   "cell_type": "markdown",
   "id": "6f4c94b2",
   "metadata": {},
   "source": [
    "#### Mutual information"
   ]
  },
  {
   "cell_type": "code",
   "execution_count": 44,
   "id": "f82e6ee9",
   "metadata": {},
   "outputs": [],
   "source": [
    "from sklearn.metrics import mutual_info_score"
   ]
  },
  {
   "cell_type": "code",
   "execution_count": 45,
   "id": "57fccf51",
   "metadata": {},
   "outputs": [],
   "source": [
    "cat = ['neighbourhood_group', 'room_type']"
   ]
  },
  {
   "cell_type": "code",
   "execution_count": 47,
   "id": "04e63622",
   "metadata": {},
   "outputs": [
    {
     "data": {
      "text/html": [
       "<div>\n",
       "<style scoped>\n",
       "    .dataframe tbody tr th:only-of-type {\n",
       "        vertical-align: middle;\n",
       "    }\n",
       "\n",
       "    .dataframe tbody tr th {\n",
       "        vertical-align: top;\n",
       "    }\n",
       "\n",
       "    .dataframe thead th {\n",
       "        text-align: right;\n",
       "    }\n",
       "</style>\n",
       "<table border=\"1\" class=\"dataframe\">\n",
       "  <thead>\n",
       "    <tr style=\"text-align: right;\">\n",
       "      <th></th>\n",
       "      <th>MI</th>\n",
       "    </tr>\n",
       "  </thead>\n",
       "  <tbody>\n",
       "    <tr>\n",
       "      <th>room_type</th>\n",
       "      <td>0.14</td>\n",
       "    </tr>\n",
       "    <tr>\n",
       "      <th>neighbourhood_group</th>\n",
       "      <td>0.05</td>\n",
       "    </tr>\n",
       "  </tbody>\n",
       "</table>\n",
       "</div>"
      ],
      "text/plain": [
       "                       MI\n",
       "room_type            0.14\n",
       "neighbourhood_group  0.05"
      ]
     },
     "execution_count": 47,
     "metadata": {},
     "output_type": "execute_result"
    }
   ],
   "source": [
    "def calculate_mi(series):\n",
    "    return round(mutual_info_score(series, df_train.above_average), 2)\n",
    "\n",
    "df_mi = df_train[cat].apply(calculate_mi)\n",
    "df_mi = df_mi.sort_values(ascending=False).to_frame(name='MI')\n",
    "df_mi"
   ]
  },
  {
   "cell_type": "code",
   "execution_count": 48,
   "id": "6dcce93a",
   "metadata": {},
   "outputs": [],
   "source": [
    "df_train = df_train.drop('above_average', axis=1)\n",
    "df_val = df_val.drop('above_average', axis=1)\n",
    "df_test = df_test.drop('above_average', axis=1)"
   ]
  },
  {
   "cell_type": "markdown",
   "id": "7d74654a",
   "metadata": {},
   "source": [
    "## Question 4"
   ]
  },
  {
   "cell_type": "code",
   "execution_count": 49,
   "id": "e4321a02",
   "metadata": {},
   "outputs": [],
   "source": [
    "from sklearn.feature_extraction import DictVectorizer\n",
    "from sklearn.linear_model import LogisticRegression\n",
    "from sklearn.metrics import accuracy_score"
   ]
  },
  {
   "cell_type": "code",
   "execution_count": 51,
   "id": "ccce6c97",
   "metadata": {},
   "outputs": [],
   "source": [
    "num = ['latitude','longitude','minimum_nights','number_of_reviews','reviews_per_month','calculated_host_listings_count','availability_365']"
   ]
  },
  {
   "cell_type": "code",
   "execution_count": 57,
   "id": "5c585021",
   "metadata": {},
   "outputs": [
    {
     "data": {
      "text/plain": [
       "DictVectorizer(sparse=False)"
      ]
     },
     "execution_count": 57,
     "metadata": {},
     "output_type": "execute_result"
    }
   ],
   "source": [
    "train_dict = df_train[cat + num].to_dict(orient='records')\n",
    "\n",
    "dv = DictVectorizer(sparse=False)\n",
    "dv.fit(train_dict)\n",
    "\n",
    "X_train = dv.transform(train_dict)"
   ]
  },
  {
   "cell_type": "code",
   "execution_count": 56,
   "id": "e984e4bd",
   "metadata": {},
   "outputs": [
    {
     "data": {
      "text/plain": [
       "LogisticRegression(random_state=42)"
      ]
     },
     "execution_count": 56,
     "metadata": {},
     "output_type": "execute_result"
    }
   ],
   "source": [
    "model = LogisticRegression(solver='lbfgs', C=1.0, random_state=42)\n",
    "model.fit(X_train, y_train)"
   ]
  },
  {
   "cell_type": "code",
   "execution_count": 59,
   "id": "d372d93e",
   "metadata": {},
   "outputs": [],
   "source": [
    "val_dict = df_val[cat + num].to_dict(orient='records')\n",
    "X_val = dv.transform(val_dict)\n",
    "\n",
    "y_pred = model.predict(X_val)"
   ]
  },
  {
   "cell_type": "code",
   "execution_count": 60,
   "id": "7a055258",
   "metadata": {},
   "outputs": [
    {
     "name": "stdout",
     "output_type": "stream",
     "text": [
      "0.79\n"
     ]
    }
   ],
   "source": [
    "accuracy = np.round(accuracy_score(y_val, y_pred),2)\n",
    "print(accuracy)"
   ]
  },
  {
   "cell_type": "markdown",
   "id": "bd37b5cf",
   "metadata": {},
   "source": [
    "## Question 5"
   ]
  },
  {
   "cell_type": "code",
   "execution_count": 62,
   "id": "e3812eb6",
   "metadata": {},
   "outputs": [],
   "source": [
    "features = cat + num"
   ]
  },
  {
   "cell_type": "code",
   "execution_count": 63,
   "id": "856a2821",
   "metadata": {},
   "outputs": [
    {
     "data": {
      "text/plain": [
       "DictVectorizer(sparse=False)"
      ]
     },
     "execution_count": 63,
     "metadata": {},
     "output_type": "execute_result"
    },
    {
     "data": {
      "text/plain": [
       "LogisticRegression(random_state=42)"
      ]
     },
     "execution_count": 63,
     "metadata": {},
     "output_type": "execute_result"
    },
    {
     "name": "stdout",
     "output_type": "stream",
     "text": [
      "neighbourhood_group 0.03992330504141528 0.7500766949585848\n"
     ]
    },
    {
     "data": {
      "text/plain": [
       "DictVectorizer(sparse=False)"
      ]
     },
     "execution_count": 63,
     "metadata": {},
     "output_type": "execute_result"
    },
    {
     "data": {
      "text/plain": [
       "LogisticRegression(random_state=42)"
      ]
     },
     "execution_count": 63,
     "metadata": {},
     "output_type": "execute_result"
    },
    {
     "name": "stdout",
     "output_type": "stream",
     "text": [
      "room_type 0.07591880560384501 0.714081194396155\n"
     ]
    },
    {
     "data": {
      "text/plain": [
       "DictVectorizer(sparse=False)"
      ]
     },
     "execution_count": 63,
     "metadata": {},
     "output_type": "execute_result"
    },
    {
     "data": {
      "text/plain": [
       "LogisticRegression(random_state=42)"
      ]
     },
     "execution_count": 63,
     "metadata": {},
     "output_type": "execute_result"
    },
    {
     "name": "stdout",
     "output_type": "stream",
     "text": [
      "latitude 0.0040300644237653005 0.7859699355762347\n"
     ]
    },
    {
     "data": {
      "text/plain": [
       "DictVectorizer(sparse=False)"
      ]
     },
     "execution_count": 63,
     "metadata": {},
     "output_type": "execute_result"
    },
    {
     "data": {
      "text/plain": [
       "LogisticRegression(random_state=42)"
      ]
     },
     "execution_count": 63,
     "metadata": {},
     "output_type": "execute_result"
    },
    {
     "name": "stdout",
     "output_type": "stream",
     "text": [
      "longitude 0.0040300644237653005 0.7859699355762347\n"
     ]
    },
    {
     "data": {
      "text/plain": [
       "DictVectorizer(sparse=False)"
      ]
     },
     "execution_count": 63,
     "metadata": {},
     "output_type": "execute_result"
    },
    {
     "data": {
      "text/plain": [
       "LogisticRegression(random_state=42)"
      ]
     },
     "execution_count": 63,
     "metadata": {},
     "output_type": "execute_result"
    },
    {
     "name": "stdout",
     "output_type": "stream",
     "text": [
      "minimum_nights 0.005257183761120832 0.7847428162388792\n"
     ]
    },
    {
     "data": {
      "text/plain": [
       "DictVectorizer(sparse=False)"
      ]
     },
     "execution_count": 63,
     "metadata": {},
     "output_type": "execute_result"
    },
    {
     "data": {
      "text/plain": [
       "LogisticRegression(random_state=42)"
      ]
     },
     "execution_count": 63,
     "metadata": {},
     "output_type": "execute_result"
    },
    {
     "name": "stdout",
     "output_type": "stream",
     "text": [
      "number_of_reviews 0.003621024644646753 0.7863789753553533\n"
     ]
    },
    {
     "data": {
      "text/plain": [
       "DictVectorizer(sparse=False)"
      ]
     },
     "execution_count": 63,
     "metadata": {},
     "output_type": "execute_result"
    },
    {
     "data": {
      "text/plain": [
       "LogisticRegression(random_state=42)"
      ]
     },
     "execution_count": 63,
     "metadata": {},
     "output_type": "execute_result"
    },
    {
     "name": "stdout",
     "output_type": "stream",
     "text": [
      "reviews_per_month 0.005257183761120832 0.7847428162388792\n"
     ]
    },
    {
     "data": {
      "text/plain": [
       "DictVectorizer(sparse=False)"
      ]
     },
     "execution_count": 63,
     "metadata": {},
     "output_type": "execute_result"
    },
    {
     "data": {
      "text/plain": [
       "LogisticRegression(random_state=42)"
      ]
     },
     "execution_count": 63,
     "metadata": {},
     "output_type": "execute_result"
    },
    {
     "name": "stdout",
     "output_type": "stream",
     "text": [
      "calculated_host_listings_count 0.0032119848655282057 0.7867880151344718\n"
     ]
    },
    {
     "data": {
      "text/plain": [
       "DictVectorizer(sparse=False)"
      ]
     },
     "execution_count": 63,
     "metadata": {},
     "output_type": "execute_result"
    },
    {
     "data": {
      "text/plain": [
       "LogisticRegression(random_state=42)"
      ]
     },
     "execution_count": 63,
     "metadata": {},
     "output_type": "execute_result"
    },
    {
     "name": "stdout",
     "output_type": "stream",
     "text": [
      "availability_365 0.0088362818284079 0.7811637181715921\n"
     ]
    }
   ],
   "source": [
    "orig_score = accuracy\n",
    "\n",
    "for c in features:\n",
    "    subset = features.copy()\n",
    "    subset.remove(c)\n",
    "    \n",
    "    train_dict = df_train[subset].to_dict(orient='records')\n",
    "\n",
    "    dv = DictVectorizer(sparse=False)\n",
    "    dv.fit(train_dict)\n",
    "\n",
    "    X_train = dv.transform(train_dict)\n",
    "\n",
    "    model = LogisticRegression(solver='lbfgs', C=1.0, random_state=42)\n",
    "    model.fit(X_train, y_train)\n",
    "\n",
    "    val_dict = df_val[subset].to_dict(orient='records')\n",
    "    X_val = dv.transform(val_dict)\n",
    "\n",
    "    y_pred = model.predict(X_val)\n",
    "\n",
    "    score = accuracy_score(y_val, y_pred)\n",
    "    print(c, orig_score - score, score)"
   ]
  },
  {
   "cell_type": "markdown",
   "id": "6bc72139",
   "metadata": {},
   "source": [
    "## Question 6"
   ]
  },
  {
   "cell_type": "code",
   "execution_count": 64,
   "id": "981985ff",
   "metadata": {},
   "outputs": [],
   "source": [
    "data['price']=np.log1p(data['price'])"
   ]
  },
  {
   "cell_type": "code",
   "execution_count": 66,
   "id": "6d7c14dc",
   "metadata": {},
   "outputs": [],
   "source": [
    "df_train_full, df_test = train_test_split(data, test_size=0.2, random_state=42)"
   ]
  },
  {
   "cell_type": "code",
   "execution_count": 67,
   "id": "544bd36c",
   "metadata": {},
   "outputs": [],
   "source": [
    "df_train, df_val = train_test_split(df_train_full, test_size=0.25, random_state=42)"
   ]
  },
  {
   "cell_type": "code",
   "execution_count": 68,
   "id": "e07ad66d",
   "metadata": {},
   "outputs": [],
   "source": [
    "df_train = df_train.reset_index(drop=True)\n",
    "df_val = df_val.reset_index(drop=True)\n",
    "df_test = df_test.reset_index(drop=True)"
   ]
  },
  {
   "cell_type": "code",
   "execution_count": 69,
   "id": "2120383a",
   "metadata": {},
   "outputs": [],
   "source": [
    "y_train = df_train.price.values\n",
    "y_val = df_val.price.values\n",
    "y_test = df_test.price.values"
   ]
  },
  {
   "cell_type": "code",
   "execution_count": 70,
   "id": "051d0f8c",
   "metadata": {},
   "outputs": [],
   "source": [
    "del df_train['price']\n",
    "del df_val['price']\n",
    "del df_test['price']"
   ]
  },
  {
   "cell_type": "code",
   "execution_count": 71,
   "id": "c0465ed7",
   "metadata": {},
   "outputs": [],
   "source": [
    "train_dict = df_train[cat + num].to_dict(orient='records')"
   ]
  },
  {
   "cell_type": "code",
   "execution_count": 74,
   "id": "612ef4b9",
   "metadata": {},
   "outputs": [
    {
     "data": {
      "text/plain": [
       "DictVectorizer(sparse=False)"
      ]
     },
     "execution_count": 74,
     "metadata": {},
     "output_type": "execute_result"
    }
   ],
   "source": [
    "dv = DictVectorizer(sparse=False)\n",
    "dv.fit(train_dict)\n",
    "\n",
    "X_train = dv.transform(train_dict)\n",
    "\n",
    "val_dict = df_val[cat + num].to_dict(orient='records')\n",
    "X_val = dv.transform(val_dict)"
   ]
  },
  {
   "cell_type": "code",
   "execution_count": 75,
   "id": "fea41680",
   "metadata": {},
   "outputs": [],
   "source": [
    "from sklearn.linear_model import Ridge\n",
    "from sklearn.metrics import mean_squared_error"
   ]
  },
  {
   "cell_type": "code",
   "execution_count": 76,
   "id": "48a8de9b",
   "metadata": {},
   "outputs": [
    {
     "data": {
      "text/plain": [
       "Ridge(alpha=0, random_state=42)"
      ]
     },
     "execution_count": 76,
     "metadata": {},
     "output_type": "execute_result"
    },
    {
     "name": "stdout",
     "output_type": "stream",
     "text": [
      "0 0.497\n"
     ]
    },
    {
     "data": {
      "text/plain": [
       "Ridge(alpha=0.01, random_state=42)"
      ]
     },
     "execution_count": 76,
     "metadata": {},
     "output_type": "execute_result"
    },
    {
     "name": "stdout",
     "output_type": "stream",
     "text": [
      "0.01 0.497\n"
     ]
    },
    {
     "data": {
      "text/plain": [
       "Ridge(alpha=0.1, random_state=42)"
      ]
     },
     "execution_count": 76,
     "metadata": {},
     "output_type": "execute_result"
    },
    {
     "name": "stdout",
     "output_type": "stream",
     "text": [
      "0.1 0.497\n"
     ]
    },
    {
     "data": {
      "text/plain": [
       "Ridge(alpha=1, random_state=42)"
      ]
     },
     "execution_count": 76,
     "metadata": {},
     "output_type": "execute_result"
    },
    {
     "name": "stdout",
     "output_type": "stream",
     "text": [
      "1 0.497\n"
     ]
    },
    {
     "data": {
      "text/plain": [
       "Ridge(alpha=10, random_state=42)"
      ]
     },
     "execution_count": 76,
     "metadata": {},
     "output_type": "execute_result"
    },
    {
     "name": "stdout",
     "output_type": "stream",
     "text": [
      "10 0.498\n"
     ]
    }
   ],
   "source": [
    "for a in [0, 0.01, 0.1, 1, 10]:\n",
    "    model = Ridge(alpha=a,random_state=42)\n",
    "    model.fit(X_train, y_train)\n",
    "    \n",
    "    y_pred = model.predict(X_val)\n",
    "    \n",
    "    score = np.sqrt(mean_squared_error(y_val, y_pred))\n",
    "    \n",
    "    print(a, round(score, 3))"
   ]
  }
 ],
 "metadata": {
  "kernelspec": {
   "display_name": "Python 3 (ipykernel)",
   "language": "python",
   "name": "python3"
  },
  "language_info": {
   "codemirror_mode": {
    "name": "ipython",
    "version": 3
   },
   "file_extension": ".py",
   "mimetype": "text/x-python",
   "name": "python",
   "nbconvert_exporter": "python",
   "pygments_lexer": "ipython3",
   "version": "3.8.11"
  }
 },
 "nbformat": 4,
 "nbformat_minor": 5
}
