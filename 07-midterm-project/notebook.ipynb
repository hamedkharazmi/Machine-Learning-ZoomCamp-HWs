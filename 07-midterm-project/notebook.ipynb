{
 "cells": [
  {
   "cell_type": "markdown",
   "id": "7c47c972",
   "metadata": {},
   "source": [
    "## Heart Failure Prediction\n",
    "\n",
    "Dataset: https://ieee-dataport.org/open-access/heart-disease-dataset-comprehensive"
   ]
  },
  {
   "cell_type": "code",
   "execution_count": 1,
   "id": "73894f84",
   "metadata": {},
   "outputs": [],
   "source": [
    "import pandas as pd\n",
    "import numpy as np\n",
    "\n",
    "import matplotlib.pyplot as plt"
   ]
  },
  {
   "cell_type": "code",
   "execution_count": 2,
   "id": "194a843c",
   "metadata": {},
   "outputs": [],
   "source": [
    "df = pd.read_csv('heart_statlog_cleveland_hungary_final.csv')"
   ]
  },
  {
   "cell_type": "code",
   "execution_count": 3,
   "id": "246292b6",
   "metadata": {},
   "outputs": [],
   "source": [
    "df.columns = df.columns.str.lower().str.replace(' ', '_')"
   ]
  },
  {
   "cell_type": "code",
   "execution_count": 4,
   "id": "8f6a960a",
   "metadata": {},
   "outputs": [
    {
     "data": {
      "text/html": [
       "<div>\n",
       "<style scoped>\n",
       "    .dataframe tbody tr th:only-of-type {\n",
       "        vertical-align: middle;\n",
       "    }\n",
       "\n",
       "    .dataframe tbody tr th {\n",
       "        vertical-align: top;\n",
       "    }\n",
       "\n",
       "    .dataframe thead th {\n",
       "        text-align: right;\n",
       "    }\n",
       "</style>\n",
       "<table border=\"1\" class=\"dataframe\">\n",
       "  <thead>\n",
       "    <tr style=\"text-align: right;\">\n",
       "      <th></th>\n",
       "      <th>age</th>\n",
       "      <th>sex</th>\n",
       "      <th>chest_pain_type</th>\n",
       "      <th>resting_bp_s</th>\n",
       "      <th>cholesterol</th>\n",
       "      <th>fasting_blood_sugar</th>\n",
       "      <th>resting_ecg</th>\n",
       "      <th>max_heart_rate</th>\n",
       "      <th>exercise_angina</th>\n",
       "      <th>oldpeak</th>\n",
       "      <th>st_slope</th>\n",
       "      <th>target</th>\n",
       "    </tr>\n",
       "  </thead>\n",
       "  <tbody>\n",
       "    <tr>\n",
       "      <th>0</th>\n",
       "      <td>40</td>\n",
       "      <td>1</td>\n",
       "      <td>2</td>\n",
       "      <td>140</td>\n",
       "      <td>289</td>\n",
       "      <td>0</td>\n",
       "      <td>0</td>\n",
       "      <td>172</td>\n",
       "      <td>0</td>\n",
       "      <td>0.0</td>\n",
       "      <td>1</td>\n",
       "      <td>0</td>\n",
       "    </tr>\n",
       "    <tr>\n",
       "      <th>1</th>\n",
       "      <td>49</td>\n",
       "      <td>0</td>\n",
       "      <td>3</td>\n",
       "      <td>160</td>\n",
       "      <td>180</td>\n",
       "      <td>0</td>\n",
       "      <td>0</td>\n",
       "      <td>156</td>\n",
       "      <td>0</td>\n",
       "      <td>1.0</td>\n",
       "      <td>2</td>\n",
       "      <td>1</td>\n",
       "    </tr>\n",
       "    <tr>\n",
       "      <th>2</th>\n",
       "      <td>37</td>\n",
       "      <td>1</td>\n",
       "      <td>2</td>\n",
       "      <td>130</td>\n",
       "      <td>283</td>\n",
       "      <td>0</td>\n",
       "      <td>1</td>\n",
       "      <td>98</td>\n",
       "      <td>0</td>\n",
       "      <td>0.0</td>\n",
       "      <td>1</td>\n",
       "      <td>0</td>\n",
       "    </tr>\n",
       "    <tr>\n",
       "      <th>3</th>\n",
       "      <td>48</td>\n",
       "      <td>0</td>\n",
       "      <td>4</td>\n",
       "      <td>138</td>\n",
       "      <td>214</td>\n",
       "      <td>0</td>\n",
       "      <td>0</td>\n",
       "      <td>108</td>\n",
       "      <td>1</td>\n",
       "      <td>1.5</td>\n",
       "      <td>2</td>\n",
       "      <td>1</td>\n",
       "    </tr>\n",
       "    <tr>\n",
       "      <th>4</th>\n",
       "      <td>54</td>\n",
       "      <td>1</td>\n",
       "      <td>3</td>\n",
       "      <td>150</td>\n",
       "      <td>195</td>\n",
       "      <td>0</td>\n",
       "      <td>0</td>\n",
       "      <td>122</td>\n",
       "      <td>0</td>\n",
       "      <td>0.0</td>\n",
       "      <td>1</td>\n",
       "      <td>0</td>\n",
       "    </tr>\n",
       "  </tbody>\n",
       "</table>\n",
       "</div>"
      ],
      "text/plain": [
       "   age  sex  chest_pain_type  resting_bp_s  cholesterol  fasting_blood_sugar  \\\n",
       "0   40    1                2           140          289                    0   \n",
       "1   49    0                3           160          180                    0   \n",
       "2   37    1                2           130          283                    0   \n",
       "3   48    0                4           138          214                    0   \n",
       "4   54    1                3           150          195                    0   \n",
       "\n",
       "   resting_ecg  max_heart_rate  exercise_angina  oldpeak  st_slope  target  \n",
       "0            0             172                0      0.0         1       0  \n",
       "1            0             156                0      1.0         2       1  \n",
       "2            1              98                0      0.0         1       0  \n",
       "3            0             108                1      1.5         2       1  \n",
       "4            0             122                0      0.0         1       0  "
      ]
     },
     "execution_count": 4,
     "metadata": {},
     "output_type": "execute_result"
    }
   ],
   "source": [
    "df.head()"
   ]
  },
  {
   "cell_type": "markdown",
   "id": "bac468c8",
   "metadata": {},
   "source": [
    "#### prepare train/validation/test dataframe"
   ]
  },
  {
   "cell_type": "code",
   "execution_count": 5,
   "id": "1e5249a1",
   "metadata": {},
   "outputs": [],
   "source": [
    "from sklearn.model_selection import train_test_split"
   ]
  },
  {
   "cell_type": "code",
   "execution_count": 6,
   "id": "d22a83ba",
   "metadata": {},
   "outputs": [],
   "source": [
    "df_full_train, df_test = train_test_split(df, test_size=0.2, random_state=1)\n",
    "df_train, df_val = train_test_split(df_full_train, test_size=0.25, random_state=1)\n",
    "\n",
    "df_train = df_train.reset_index(drop=True)\n",
    "df_val = df_val.reset_index(drop=True)\n",
    "df_test = df_test.reset_index(drop=True)\n",
    "\n",
    "y_train = df_train.target.values\n",
    "y_val = df_val.target.values\n",
    "y_test = df_test.target.values\n",
    "\n",
    "del df_train['target']\n",
    "del df_val['target']\n",
    "del df_test['target']"
   ]
  },
  {
   "cell_type": "code",
   "execution_count": 7,
   "id": "b60ea703",
   "metadata": {},
   "outputs": [],
   "source": [
    "numerical = ['age', 'resting_bp_s', 'cholesterol', 'max_heart_rate', 'oldpeak']"
   ]
  },
  {
   "cell_type": "code",
   "execution_count": 8,
   "id": "31018af7",
   "metadata": {},
   "outputs": [],
   "source": [
    "categorical = ['sex', 'chest_pain_type', 'fasting_blood_sugar', 'resting_ecg', 'exercise_angina', 'st_slope']"
   ]
  },
  {
   "cell_type": "markdown",
   "id": "3138dc7c",
   "metadata": {},
   "source": [
    "## EDA"
   ]
  },
  {
   "cell_type": "code",
   "execution_count": 9,
   "id": "d33e5349",
   "metadata": {},
   "outputs": [
    {
     "data": {
      "text/plain": [
       "age                      int64\n",
       "sex                      int64\n",
       "chest_pain_type          int64\n",
       "resting_bp_s             int64\n",
       "cholesterol              int64\n",
       "fasting_blood_sugar      int64\n",
       "resting_ecg              int64\n",
       "max_heart_rate           int64\n",
       "exercise_angina          int64\n",
       "oldpeak                float64\n",
       "st_slope                 int64\n",
       "target                   int64\n",
       "dtype: object"
      ]
     },
     "execution_count": 9,
     "metadata": {},
     "output_type": "execute_result"
    }
   ],
   "source": [
    "df.dtypes"
   ]
  },
  {
   "cell_type": "code",
   "execution_count": 10,
   "id": "9f7977f4",
   "metadata": {
    "scrolled": true
   },
   "outputs": [
    {
     "data": {
      "text/html": [
       "<div>\n",
       "<style scoped>\n",
       "    .dataframe tbody tr th:only-of-type {\n",
       "        vertical-align: middle;\n",
       "    }\n",
       "\n",
       "    .dataframe tbody tr th {\n",
       "        vertical-align: top;\n",
       "    }\n",
       "\n",
       "    .dataframe thead th {\n",
       "        text-align: right;\n",
       "    }\n",
       "</style>\n",
       "<table border=\"1\" class=\"dataframe\">\n",
       "  <thead>\n",
       "    <tr style=\"text-align: right;\">\n",
       "      <th></th>\n",
       "      <th>0</th>\n",
       "      <th>1</th>\n",
       "      <th>2</th>\n",
       "      <th>3</th>\n",
       "      <th>4</th>\n",
       "    </tr>\n",
       "  </thead>\n",
       "  <tbody>\n",
       "    <tr>\n",
       "      <th>age</th>\n",
       "      <td>40.0</td>\n",
       "      <td>49.0</td>\n",
       "      <td>37.0</td>\n",
       "      <td>48.0</td>\n",
       "      <td>54.0</td>\n",
       "    </tr>\n",
       "    <tr>\n",
       "      <th>sex</th>\n",
       "      <td>1.0</td>\n",
       "      <td>0.0</td>\n",
       "      <td>1.0</td>\n",
       "      <td>0.0</td>\n",
       "      <td>1.0</td>\n",
       "    </tr>\n",
       "    <tr>\n",
       "      <th>chest_pain_type</th>\n",
       "      <td>2.0</td>\n",
       "      <td>3.0</td>\n",
       "      <td>2.0</td>\n",
       "      <td>4.0</td>\n",
       "      <td>3.0</td>\n",
       "    </tr>\n",
       "    <tr>\n",
       "      <th>resting_bp_s</th>\n",
       "      <td>140.0</td>\n",
       "      <td>160.0</td>\n",
       "      <td>130.0</td>\n",
       "      <td>138.0</td>\n",
       "      <td>150.0</td>\n",
       "    </tr>\n",
       "    <tr>\n",
       "      <th>cholesterol</th>\n",
       "      <td>289.0</td>\n",
       "      <td>180.0</td>\n",
       "      <td>283.0</td>\n",
       "      <td>214.0</td>\n",
       "      <td>195.0</td>\n",
       "    </tr>\n",
       "    <tr>\n",
       "      <th>fasting_blood_sugar</th>\n",
       "      <td>0.0</td>\n",
       "      <td>0.0</td>\n",
       "      <td>0.0</td>\n",
       "      <td>0.0</td>\n",
       "      <td>0.0</td>\n",
       "    </tr>\n",
       "    <tr>\n",
       "      <th>resting_ecg</th>\n",
       "      <td>0.0</td>\n",
       "      <td>0.0</td>\n",
       "      <td>1.0</td>\n",
       "      <td>0.0</td>\n",
       "      <td>0.0</td>\n",
       "    </tr>\n",
       "    <tr>\n",
       "      <th>max_heart_rate</th>\n",
       "      <td>172.0</td>\n",
       "      <td>156.0</td>\n",
       "      <td>98.0</td>\n",
       "      <td>108.0</td>\n",
       "      <td>122.0</td>\n",
       "    </tr>\n",
       "    <tr>\n",
       "      <th>exercise_angina</th>\n",
       "      <td>0.0</td>\n",
       "      <td>0.0</td>\n",
       "      <td>0.0</td>\n",
       "      <td>1.0</td>\n",
       "      <td>0.0</td>\n",
       "    </tr>\n",
       "    <tr>\n",
       "      <th>oldpeak</th>\n",
       "      <td>0.0</td>\n",
       "      <td>1.0</td>\n",
       "      <td>0.0</td>\n",
       "      <td>1.5</td>\n",
       "      <td>0.0</td>\n",
       "    </tr>\n",
       "    <tr>\n",
       "      <th>st_slope</th>\n",
       "      <td>1.0</td>\n",
       "      <td>2.0</td>\n",
       "      <td>1.0</td>\n",
       "      <td>2.0</td>\n",
       "      <td>1.0</td>\n",
       "    </tr>\n",
       "    <tr>\n",
       "      <th>target</th>\n",
       "      <td>0.0</td>\n",
       "      <td>1.0</td>\n",
       "      <td>0.0</td>\n",
       "      <td>1.0</td>\n",
       "      <td>0.0</td>\n",
       "    </tr>\n",
       "  </tbody>\n",
       "</table>\n",
       "</div>"
      ],
      "text/plain": [
       "                         0      1      2      3      4\n",
       "age                   40.0   49.0   37.0   48.0   54.0\n",
       "sex                    1.0    0.0    1.0    0.0    1.0\n",
       "chest_pain_type        2.0    3.0    2.0    4.0    3.0\n",
       "resting_bp_s         140.0  160.0  130.0  138.0  150.0\n",
       "cholesterol          289.0  180.0  283.0  214.0  195.0\n",
       "fasting_blood_sugar    0.0    0.0    0.0    0.0    0.0\n",
       "resting_ecg            0.0    0.0    1.0    0.0    0.0\n",
       "max_heart_rate       172.0  156.0   98.0  108.0  122.0\n",
       "exercise_angina        0.0    0.0    0.0    1.0    0.0\n",
       "oldpeak                0.0    1.0    0.0    1.5    0.0\n",
       "st_slope               1.0    2.0    1.0    2.0    1.0\n",
       "target                 0.0    1.0    0.0    1.0    0.0"
      ]
     },
     "execution_count": 10,
     "metadata": {},
     "output_type": "execute_result"
    }
   ],
   "source": [
    "df.head().T"
   ]
  },
  {
   "cell_type": "code",
   "execution_count": 11,
   "id": "6131039c",
   "metadata": {},
   "outputs": [
    {
     "data": {
      "text/plain": [
       "(1190, 12)"
      ]
     },
     "execution_count": 11,
     "metadata": {},
     "output_type": "execute_result"
    }
   ],
   "source": [
    "df.shape"
   ]
  },
  {
   "cell_type": "code",
   "execution_count": 12,
   "id": "925ae129",
   "metadata": {},
   "outputs": [
    {
     "data": {
      "text/html": [
       "<div>\n",
       "<style scoped>\n",
       "    .dataframe tbody tr th:only-of-type {\n",
       "        vertical-align: middle;\n",
       "    }\n",
       "\n",
       "    .dataframe tbody tr th {\n",
       "        vertical-align: top;\n",
       "    }\n",
       "\n",
       "    .dataframe thead th {\n",
       "        text-align: right;\n",
       "    }\n",
       "</style>\n",
       "<table border=\"1\" class=\"dataframe\">\n",
       "  <thead>\n",
       "    <tr style=\"text-align: right;\">\n",
       "      <th></th>\n",
       "      <th>age</th>\n",
       "      <th>sex</th>\n",
       "      <th>chest_pain_type</th>\n",
       "      <th>resting_bp_s</th>\n",
       "      <th>cholesterol</th>\n",
       "      <th>fasting_blood_sugar</th>\n",
       "      <th>resting_ecg</th>\n",
       "      <th>max_heart_rate</th>\n",
       "      <th>exercise_angina</th>\n",
       "      <th>oldpeak</th>\n",
       "      <th>st_slope</th>\n",
       "      <th>target</th>\n",
       "    </tr>\n",
       "  </thead>\n",
       "  <tbody>\n",
       "    <tr>\n",
       "      <th>count</th>\n",
       "      <td>1190.000000</td>\n",
       "      <td>1190.000000</td>\n",
       "      <td>1190.000000</td>\n",
       "      <td>1190.000000</td>\n",
       "      <td>1190.000000</td>\n",
       "      <td>1190.000000</td>\n",
       "      <td>1190.000000</td>\n",
       "      <td>1190.000000</td>\n",
       "      <td>1190.000000</td>\n",
       "      <td>1190.000000</td>\n",
       "      <td>1190.000000</td>\n",
       "      <td>1190.000000</td>\n",
       "    </tr>\n",
       "    <tr>\n",
       "      <th>mean</th>\n",
       "      <td>53.720168</td>\n",
       "      <td>0.763866</td>\n",
       "      <td>3.232773</td>\n",
       "      <td>132.153782</td>\n",
       "      <td>210.363866</td>\n",
       "      <td>0.213445</td>\n",
       "      <td>0.698319</td>\n",
       "      <td>139.732773</td>\n",
       "      <td>0.387395</td>\n",
       "      <td>0.922773</td>\n",
       "      <td>1.624370</td>\n",
       "      <td>0.528571</td>\n",
       "    </tr>\n",
       "    <tr>\n",
       "      <th>std</th>\n",
       "      <td>9.358203</td>\n",
       "      <td>0.424884</td>\n",
       "      <td>0.935480</td>\n",
       "      <td>18.368823</td>\n",
       "      <td>101.420489</td>\n",
       "      <td>0.409912</td>\n",
       "      <td>0.870359</td>\n",
       "      <td>25.517636</td>\n",
       "      <td>0.487360</td>\n",
       "      <td>1.086337</td>\n",
       "      <td>0.610459</td>\n",
       "      <td>0.499393</td>\n",
       "    </tr>\n",
       "    <tr>\n",
       "      <th>min</th>\n",
       "      <td>28.000000</td>\n",
       "      <td>0.000000</td>\n",
       "      <td>1.000000</td>\n",
       "      <td>0.000000</td>\n",
       "      <td>0.000000</td>\n",
       "      <td>0.000000</td>\n",
       "      <td>0.000000</td>\n",
       "      <td>60.000000</td>\n",
       "      <td>0.000000</td>\n",
       "      <td>-2.600000</td>\n",
       "      <td>0.000000</td>\n",
       "      <td>0.000000</td>\n",
       "    </tr>\n",
       "    <tr>\n",
       "      <th>25%</th>\n",
       "      <td>47.000000</td>\n",
       "      <td>1.000000</td>\n",
       "      <td>3.000000</td>\n",
       "      <td>120.000000</td>\n",
       "      <td>188.000000</td>\n",
       "      <td>0.000000</td>\n",
       "      <td>0.000000</td>\n",
       "      <td>121.000000</td>\n",
       "      <td>0.000000</td>\n",
       "      <td>0.000000</td>\n",
       "      <td>1.000000</td>\n",
       "      <td>0.000000</td>\n",
       "    </tr>\n",
       "    <tr>\n",
       "      <th>50%</th>\n",
       "      <td>54.000000</td>\n",
       "      <td>1.000000</td>\n",
       "      <td>4.000000</td>\n",
       "      <td>130.000000</td>\n",
       "      <td>229.000000</td>\n",
       "      <td>0.000000</td>\n",
       "      <td>0.000000</td>\n",
       "      <td>140.500000</td>\n",
       "      <td>0.000000</td>\n",
       "      <td>0.600000</td>\n",
       "      <td>2.000000</td>\n",
       "      <td>1.000000</td>\n",
       "    </tr>\n",
       "    <tr>\n",
       "      <th>75%</th>\n",
       "      <td>60.000000</td>\n",
       "      <td>1.000000</td>\n",
       "      <td>4.000000</td>\n",
       "      <td>140.000000</td>\n",
       "      <td>269.750000</td>\n",
       "      <td>0.000000</td>\n",
       "      <td>2.000000</td>\n",
       "      <td>160.000000</td>\n",
       "      <td>1.000000</td>\n",
       "      <td>1.600000</td>\n",
       "      <td>2.000000</td>\n",
       "      <td>1.000000</td>\n",
       "    </tr>\n",
       "    <tr>\n",
       "      <th>max</th>\n",
       "      <td>77.000000</td>\n",
       "      <td>1.000000</td>\n",
       "      <td>4.000000</td>\n",
       "      <td>200.000000</td>\n",
       "      <td>603.000000</td>\n",
       "      <td>1.000000</td>\n",
       "      <td>2.000000</td>\n",
       "      <td>202.000000</td>\n",
       "      <td>1.000000</td>\n",
       "      <td>6.200000</td>\n",
       "      <td>3.000000</td>\n",
       "      <td>1.000000</td>\n",
       "    </tr>\n",
       "  </tbody>\n",
       "</table>\n",
       "</div>"
      ],
      "text/plain": [
       "               age          sex  chest_pain_type  resting_bp_s  cholesterol  \\\n",
       "count  1190.000000  1190.000000      1190.000000   1190.000000  1190.000000   \n",
       "mean     53.720168     0.763866         3.232773    132.153782   210.363866   \n",
       "std       9.358203     0.424884         0.935480     18.368823   101.420489   \n",
       "min      28.000000     0.000000         1.000000      0.000000     0.000000   \n",
       "25%      47.000000     1.000000         3.000000    120.000000   188.000000   \n",
       "50%      54.000000     1.000000         4.000000    130.000000   229.000000   \n",
       "75%      60.000000     1.000000         4.000000    140.000000   269.750000   \n",
       "max      77.000000     1.000000         4.000000    200.000000   603.000000   \n",
       "\n",
       "       fasting_blood_sugar  resting_ecg  max_heart_rate  exercise_angina  \\\n",
       "count          1190.000000  1190.000000     1190.000000      1190.000000   \n",
       "mean              0.213445     0.698319      139.732773         0.387395   \n",
       "std               0.409912     0.870359       25.517636         0.487360   \n",
       "min               0.000000     0.000000       60.000000         0.000000   \n",
       "25%               0.000000     0.000000      121.000000         0.000000   \n",
       "50%               0.000000     0.000000      140.500000         0.000000   \n",
       "75%               0.000000     2.000000      160.000000         1.000000   \n",
       "max               1.000000     2.000000      202.000000         1.000000   \n",
       "\n",
       "           oldpeak     st_slope       target  \n",
       "count  1190.000000  1190.000000  1190.000000  \n",
       "mean      0.922773     1.624370     0.528571  \n",
       "std       1.086337     0.610459     0.499393  \n",
       "min      -2.600000     0.000000     0.000000  \n",
       "25%       0.000000     1.000000     0.000000  \n",
       "50%       0.600000     2.000000     1.000000  \n",
       "75%       1.600000     2.000000     1.000000  \n",
       "max       6.200000     3.000000     1.000000  "
      ]
     },
     "execution_count": 12,
     "metadata": {},
     "output_type": "execute_result"
    }
   ],
   "source": [
    "df.describe()"
   ]
  },
  {
   "cell_type": "code",
   "execution_count": 13,
   "id": "665c4f53",
   "metadata": {},
   "outputs": [
    {
     "data": {
      "text/plain": [
       "age                    0\n",
       "sex                    0\n",
       "chest_pain_type        0\n",
       "resting_bp_s           0\n",
       "cholesterol            0\n",
       "fasting_blood_sugar    0\n",
       "resting_ecg            0\n",
       "max_heart_rate         0\n",
       "exercise_angina        0\n",
       "oldpeak                0\n",
       "st_slope               0\n",
       "target                 0\n",
       "dtype: int64"
      ]
     },
     "execution_count": 13,
     "metadata": {},
     "output_type": "execute_result"
    }
   ],
   "source": [
    "df.isnull().sum()"
   ]
  },
  {
   "cell_type": "code",
   "execution_count": 14,
   "id": "ad03d6ef",
   "metadata": {},
   "outputs": [
    {
     "data": {
      "text/plain": [
       "1    629\n",
       "0    561\n",
       "Name: target, dtype: int64"
      ]
     },
     "execution_count": 14,
     "metadata": {},
     "output_type": "execute_result"
    }
   ],
   "source": [
    "df.target.value_counts(normalize=False)"
   ]
  },
  {
   "cell_type": "markdown",
   "id": "5d4ed017",
   "metadata": {},
   "source": [
    "#### feature importance analysis"
   ]
  },
  {
   "cell_type": "code",
   "execution_count": 15,
   "id": "3afdc19e",
   "metadata": {},
   "outputs": [],
   "source": [
    "import seaborn as sns"
   ]
  },
  {
   "cell_type": "code",
   "execution_count": 16,
   "id": "bf90a451",
   "metadata": {},
   "outputs": [
    {
     "data": {
      "text/html": [
       "<div>\n",
       "<style scoped>\n",
       "    .dataframe tbody tr th:only-of-type {\n",
       "        vertical-align: middle;\n",
       "    }\n",
       "\n",
       "    .dataframe tbody tr th {\n",
       "        vertical-align: top;\n",
       "    }\n",
       "\n",
       "    .dataframe thead th {\n",
       "        text-align: right;\n",
       "    }\n",
       "</style>\n",
       "<table border=\"1\" class=\"dataframe\">\n",
       "  <thead>\n",
       "    <tr style=\"text-align: right;\">\n",
       "      <th></th>\n",
       "      <th>age</th>\n",
       "      <th>sex</th>\n",
       "      <th>chest_pain_type</th>\n",
       "      <th>resting_bp_s</th>\n",
       "      <th>cholesterol</th>\n",
       "      <th>fasting_blood_sugar</th>\n",
       "      <th>resting_ecg</th>\n",
       "      <th>max_heart_rate</th>\n",
       "      <th>exercise_angina</th>\n",
       "      <th>oldpeak</th>\n",
       "      <th>st_slope</th>\n",
       "      <th>target</th>\n",
       "    </tr>\n",
       "  </thead>\n",
       "  <tbody>\n",
       "    <tr>\n",
       "      <th>age</th>\n",
       "      <td>1.000000</td>\n",
       "      <td>0.015096</td>\n",
       "      <td>0.149055</td>\n",
       "      <td>0.257692</td>\n",
       "      <td>-0.046472</td>\n",
       "      <td>0.178923</td>\n",
       "      <td>0.194595</td>\n",
       "      <td>-0.368676</td>\n",
       "      <td>0.188095</td>\n",
       "      <td>0.245093</td>\n",
       "      <td>0.237749</td>\n",
       "      <td>0.262029</td>\n",
       "    </tr>\n",
       "    <tr>\n",
       "      <th>sex</th>\n",
       "      <td>0.015096</td>\n",
       "      <td>1.000000</td>\n",
       "      <td>0.138405</td>\n",
       "      <td>-0.006443</td>\n",
       "      <td>-0.208441</td>\n",
       "      <td>0.110961</td>\n",
       "      <td>-0.022225</td>\n",
       "      <td>-0.181837</td>\n",
       "      <td>0.194380</td>\n",
       "      <td>0.096390</td>\n",
       "      <td>0.127913</td>\n",
       "      <td>0.311267</td>\n",
       "    </tr>\n",
       "    <tr>\n",
       "      <th>chest_pain_type</th>\n",
       "      <td>0.149055</td>\n",
       "      <td>0.138405</td>\n",
       "      <td>1.000000</td>\n",
       "      <td>0.009466</td>\n",
       "      <td>-0.109396</td>\n",
       "      <td>0.076492</td>\n",
       "      <td>0.035705</td>\n",
       "      <td>-0.337491</td>\n",
       "      <td>0.403428</td>\n",
       "      <td>0.224106</td>\n",
       "      <td>0.276949</td>\n",
       "      <td>0.460127</td>\n",
       "    </tr>\n",
       "    <tr>\n",
       "      <th>resting_bp_s</th>\n",
       "      <td>0.257692</td>\n",
       "      <td>-0.006443</td>\n",
       "      <td>0.009466</td>\n",
       "      <td>1.000000</td>\n",
       "      <td>0.099037</td>\n",
       "      <td>0.088235</td>\n",
       "      <td>0.095860</td>\n",
       "      <td>-0.101357</td>\n",
       "      <td>0.142435</td>\n",
       "      <td>0.176111</td>\n",
       "      <td>0.089384</td>\n",
       "      <td>0.121415</td>\n",
       "    </tr>\n",
       "    <tr>\n",
       "      <th>cholesterol</th>\n",
       "      <td>-0.046472</td>\n",
       "      <td>-0.208441</td>\n",
       "      <td>-0.109396</td>\n",
       "      <td>0.099037</td>\n",
       "      <td>1.000000</td>\n",
       "      <td>-0.239778</td>\n",
       "      <td>0.150879</td>\n",
       "      <td>0.238028</td>\n",
       "      <td>-0.033261</td>\n",
       "      <td>0.057451</td>\n",
       "      <td>-0.100053</td>\n",
       "      <td>-0.198366</td>\n",
       "    </tr>\n",
       "    <tr>\n",
       "      <th>fasting_blood_sugar</th>\n",
       "      <td>0.178923</td>\n",
       "      <td>0.110961</td>\n",
       "      <td>0.076492</td>\n",
       "      <td>0.088235</td>\n",
       "      <td>-0.239778</td>\n",
       "      <td>1.000000</td>\n",
       "      <td>0.032124</td>\n",
       "      <td>-0.118689</td>\n",
       "      <td>0.053053</td>\n",
       "      <td>0.031193</td>\n",
       "      <td>0.145902</td>\n",
       "      <td>0.216695</td>\n",
       "    </tr>\n",
       "    <tr>\n",
       "      <th>resting_ecg</th>\n",
       "      <td>0.194595</td>\n",
       "      <td>-0.022225</td>\n",
       "      <td>0.035705</td>\n",
       "      <td>0.095860</td>\n",
       "      <td>0.150879</td>\n",
       "      <td>0.032124</td>\n",
       "      <td>1.000000</td>\n",
       "      <td>0.058812</td>\n",
       "      <td>0.037821</td>\n",
       "      <td>0.126023</td>\n",
       "      <td>0.093629</td>\n",
       "      <td>0.073059</td>\n",
       "    </tr>\n",
       "    <tr>\n",
       "      <th>max_heart_rate</th>\n",
       "      <td>-0.368676</td>\n",
       "      <td>-0.181837</td>\n",
       "      <td>-0.337491</td>\n",
       "      <td>-0.101357</td>\n",
       "      <td>0.238028</td>\n",
       "      <td>-0.118689</td>\n",
       "      <td>0.058812</td>\n",
       "      <td>1.000000</td>\n",
       "      <td>-0.377691</td>\n",
       "      <td>-0.183688</td>\n",
       "      <td>-0.350750</td>\n",
       "      <td>-0.413278</td>\n",
       "    </tr>\n",
       "    <tr>\n",
       "      <th>exercise_angina</th>\n",
       "      <td>0.188095</td>\n",
       "      <td>0.194380</td>\n",
       "      <td>0.403428</td>\n",
       "      <td>0.142435</td>\n",
       "      <td>-0.033261</td>\n",
       "      <td>0.053053</td>\n",
       "      <td>0.037821</td>\n",
       "      <td>-0.377691</td>\n",
       "      <td>1.000000</td>\n",
       "      <td>0.370772</td>\n",
       "      <td>0.393408</td>\n",
       "      <td>0.481467</td>\n",
       "    </tr>\n",
       "    <tr>\n",
       "      <th>oldpeak</th>\n",
       "      <td>0.245093</td>\n",
       "      <td>0.096390</td>\n",
       "      <td>0.224106</td>\n",
       "      <td>0.176111</td>\n",
       "      <td>0.057451</td>\n",
       "      <td>0.031193</td>\n",
       "      <td>0.126023</td>\n",
       "      <td>-0.183688</td>\n",
       "      <td>0.370772</td>\n",
       "      <td>1.000000</td>\n",
       "      <td>0.524639</td>\n",
       "      <td>0.398385</td>\n",
       "    </tr>\n",
       "    <tr>\n",
       "      <th>st_slope</th>\n",
       "      <td>0.237749</td>\n",
       "      <td>0.127913</td>\n",
       "      <td>0.276949</td>\n",
       "      <td>0.089384</td>\n",
       "      <td>-0.100053</td>\n",
       "      <td>0.145902</td>\n",
       "      <td>0.093629</td>\n",
       "      <td>-0.350750</td>\n",
       "      <td>0.393408</td>\n",
       "      <td>0.524639</td>\n",
       "      <td>1.000000</td>\n",
       "      <td>0.505608</td>\n",
       "    </tr>\n",
       "    <tr>\n",
       "      <th>target</th>\n",
       "      <td>0.262029</td>\n",
       "      <td>0.311267</td>\n",
       "      <td>0.460127</td>\n",
       "      <td>0.121415</td>\n",
       "      <td>-0.198366</td>\n",
       "      <td>0.216695</td>\n",
       "      <td>0.073059</td>\n",
       "      <td>-0.413278</td>\n",
       "      <td>0.481467</td>\n",
       "      <td>0.398385</td>\n",
       "      <td>0.505608</td>\n",
       "      <td>1.000000</td>\n",
       "    </tr>\n",
       "  </tbody>\n",
       "</table>\n",
       "</div>"
      ],
      "text/plain": [
       "                          age       sex  chest_pain_type  resting_bp_s  \\\n",
       "age                  1.000000  0.015096         0.149055      0.257692   \n",
       "sex                  0.015096  1.000000         0.138405     -0.006443   \n",
       "chest_pain_type      0.149055  0.138405         1.000000      0.009466   \n",
       "resting_bp_s         0.257692 -0.006443         0.009466      1.000000   \n",
       "cholesterol         -0.046472 -0.208441        -0.109396      0.099037   \n",
       "fasting_blood_sugar  0.178923  0.110961         0.076492      0.088235   \n",
       "resting_ecg          0.194595 -0.022225         0.035705      0.095860   \n",
       "max_heart_rate      -0.368676 -0.181837        -0.337491     -0.101357   \n",
       "exercise_angina      0.188095  0.194380         0.403428      0.142435   \n",
       "oldpeak              0.245093  0.096390         0.224106      0.176111   \n",
       "st_slope             0.237749  0.127913         0.276949      0.089384   \n",
       "target               0.262029  0.311267         0.460127      0.121415   \n",
       "\n",
       "                     cholesterol  fasting_blood_sugar  resting_ecg  \\\n",
       "age                    -0.046472             0.178923     0.194595   \n",
       "sex                    -0.208441             0.110961    -0.022225   \n",
       "chest_pain_type        -0.109396             0.076492     0.035705   \n",
       "resting_bp_s            0.099037             0.088235     0.095860   \n",
       "cholesterol             1.000000            -0.239778     0.150879   \n",
       "fasting_blood_sugar    -0.239778             1.000000     0.032124   \n",
       "resting_ecg             0.150879             0.032124     1.000000   \n",
       "max_heart_rate          0.238028            -0.118689     0.058812   \n",
       "exercise_angina        -0.033261             0.053053     0.037821   \n",
       "oldpeak                 0.057451             0.031193     0.126023   \n",
       "st_slope               -0.100053             0.145902     0.093629   \n",
       "target                 -0.198366             0.216695     0.073059   \n",
       "\n",
       "                     max_heart_rate  exercise_angina   oldpeak  st_slope  \\\n",
       "age                       -0.368676         0.188095  0.245093  0.237749   \n",
       "sex                       -0.181837         0.194380  0.096390  0.127913   \n",
       "chest_pain_type           -0.337491         0.403428  0.224106  0.276949   \n",
       "resting_bp_s              -0.101357         0.142435  0.176111  0.089384   \n",
       "cholesterol                0.238028        -0.033261  0.057451 -0.100053   \n",
       "fasting_blood_sugar       -0.118689         0.053053  0.031193  0.145902   \n",
       "resting_ecg                0.058812         0.037821  0.126023  0.093629   \n",
       "max_heart_rate             1.000000        -0.377691 -0.183688 -0.350750   \n",
       "exercise_angina           -0.377691         1.000000  0.370772  0.393408   \n",
       "oldpeak                   -0.183688         0.370772  1.000000  0.524639   \n",
       "st_slope                  -0.350750         0.393408  0.524639  1.000000   \n",
       "target                    -0.413278         0.481467  0.398385  0.505608   \n",
       "\n",
       "                       target  \n",
       "age                  0.262029  \n",
       "sex                  0.311267  \n",
       "chest_pain_type      0.460127  \n",
       "resting_bp_s         0.121415  \n",
       "cholesterol         -0.198366  \n",
       "fasting_blood_sugar  0.216695  \n",
       "resting_ecg          0.073059  \n",
       "max_heart_rate      -0.413278  \n",
       "exercise_angina      0.481467  \n",
       "oldpeak              0.398385  \n",
       "st_slope             0.505608  \n",
       "target               1.000000  "
      ]
     },
     "execution_count": 16,
     "metadata": {},
     "output_type": "execute_result"
    }
   ],
   "source": [
    "corr_matrix = df.corr()\n",
    "corr_matrix"
   ]
  },
  {
   "cell_type": "code",
   "execution_count": 17,
   "id": "e28919fe",
   "metadata": {},
   "outputs": [
    {
     "data": {
      "text/plain": [
       "<AxesSubplot:>"
      ]
     },
     "execution_count": 17,
     "metadata": {},
     "output_type": "execute_result"
    },
    {
     "data": {
      "image/png": "[encoded data removed]",
      "text/plain": [
       "<Figure size 432x288 with 2 Axes>"
      ]
     },
     "metadata": {
      "needs_background": "light"
     },
     "output_type": "display_data"
    }
   ],
   "source": [
    "sns.heatmap(corr_matrix, cmap=\"YlGnBu\")"
   ]
  },
  {
   "cell_type": "code",
   "execution_count": 18,
   "id": "c12006ae",
   "metadata": {},
   "outputs": [
    {
     "data": {
      "text/plain": [
       "max_heart_rate    0.428670\n",
       "oldpeak           0.404741\n",
       "age               0.263758\n",
       "cholesterol       0.190729\n",
       "resting_bp_s      0.127691\n",
       "dtype: float64"
      ]
     },
     "execution_count": 18,
     "metadata": {},
     "output_type": "execute_result"
    }
   ],
   "source": [
    "df_full_train[numerical].corrwith(df_full_train.target).abs().sort_values(ascending=False)"
   ]
  },
  {
   "cell_type": "markdown",
   "id": "686c75d2",
   "metadata": {},
   "source": [
    "#### Mutual information"
   ]
  },
  {
   "cell_type": "code",
   "execution_count": 19,
   "id": "d0b6ba14",
   "metadata": {},
   "outputs": [],
   "source": [
    "from sklearn.metrics import mutual_info_score"
   ]
  },
  {
   "cell_type": "code",
   "execution_count": 20,
   "id": "1052dc74",
   "metadata": {},
   "outputs": [],
   "source": [
    "def mutual_info_target_score(series):\n",
    "    return mutual_info_score(series, df_full_train.target)"
   ]
  },
  {
   "cell_type": "code",
   "execution_count": 21,
   "id": "2a684197",
   "metadata": {},
   "outputs": [
    {
     "data": {
      "text/plain": [
       "st_slope               0.172835\n",
       "chest_pain_type        0.140710\n",
       "exercise_angina        0.121613\n",
       "sex                    0.049367\n",
       "fasting_blood_sugar    0.018334\n",
       "resting_ecg            0.007952\n",
       "dtype: float64"
      ]
     },
     "execution_count": 21,
     "metadata": {},
     "output_type": "execute_result"
    }
   ],
   "source": [
    "mi = df_full_train[categorical].apply(mutual_info_target_score)\n",
    "mi.sort_values(ascending=False)"
   ]
  },
  {
   "cell_type": "markdown",
   "id": "7ef04413",
   "metadata": {},
   "source": [
    "## Model training\n",
    "Trained multiple models (linear and tree-based)"
   ]
  },
  {
   "cell_type": "markdown",
   "id": "07a28637",
   "metadata": {},
   "source": [
    "#### Use Scikit-Learn to encode categorical features"
   ]
  },
  {
   "cell_type": "code",
   "execution_count": 22,
   "id": "97dd05da",
   "metadata": {},
   "outputs": [],
   "source": [
    "from sklearn.feature_extraction import DictVectorizer"
   ]
  },
  {
   "cell_type": "code",
   "execution_count": 23,
   "id": "5a808477",
   "metadata": {},
   "outputs": [],
   "source": [
    "dv = DictVectorizer(sparse=False)"
   ]
  },
  {
   "cell_type": "code",
   "execution_count": 24,
   "id": "b28e561f",
   "metadata": {},
   "outputs": [],
   "source": [
    "train_dicts = df_train.to_dict(orient='records')\n",
    "X_train = dv.fit_transform(train_dicts)"
   ]
  },
  {
   "cell_type": "code",
   "execution_count": 25,
   "id": "7d8d57de",
   "metadata": {},
   "outputs": [],
   "source": [
    "val_dicts = df_val.to_dict(orient='records')\n",
    "X_val = dv.fit_transform(val_dicts)"
   ]
  },
  {
   "cell_type": "markdown",
   "id": "fafca42b",
   "metadata": {},
   "source": [
    "### Training logistic regression with Scikit-Learn"
   ]
  },
  {
   "cell_type": "code",
   "execution_count": 26,
   "id": "ce21049e",
   "metadata": {},
   "outputs": [],
   "source": [
    "from sklearn.linear_model import LogisticRegression\n",
    "from sklearn.metrics import roc_auc_score"
   ]
  },
  {
   "cell_type": "code",
   "execution_count": 27,
   "id": "33a5a487",
   "metadata": {},
   "outputs": [
    {
     "data": {
      "text/plain": [
       "LogisticRegression(max_iter=1000, solver='liblinear')"
      ]
     },
     "execution_count": 27,
     "metadata": {},
     "output_type": "execute_result"
    }
   ],
   "source": [
    "model = LogisticRegression(solver='liblinear', C=1.0, max_iter=1000)\n",
    "model.fit(X_train, y_train)"
   ]
  },
  {
   "cell_type": "code",
   "execution_count": 28,
   "id": "1c268446",
   "metadata": {},
   "outputs": [
    {
     "data": {
      "text/plain": [
       "0.7811440677966102"
      ]
     },
     "execution_count": 28,
     "metadata": {},
     "output_type": "execute_result"
    }
   ],
   "source": [
    "y_pred_bin = model.predict(X_val)\n",
    "roc_auc_score(y_val, y_pred_bin)"
   ]
  },
  {
   "cell_type": "markdown",
   "id": "8df195dc",
   "metadata": {},
   "source": [
    "### Training XGBoost model"
   ]
  },
  {
   "cell_type": "code",
   "execution_count": 29,
   "id": "cca1a702",
   "metadata": {},
   "outputs": [],
   "source": [
    "import xgboost as xgb"
   ]
  },
  {
   "cell_type": "code",
   "execution_count": 30,
   "id": "a861df3e",
   "metadata": {},
   "outputs": [],
   "source": [
    "features = dv.get_feature_names() \n",
    "dtrain = xgb.DMatrix(X_train, label=y_train, feature_names=features)\n",
    "dval = xgb.DMatrix(X_val, label=y_val, feature_names=features)"
   ]
  },
  {
   "cell_type": "code",
   "execution_count": 140,
   "id": "a57336aa",
   "metadata": {},
   "outputs": [
    {
     "name": "stdout",
     "output_type": "stream",
     "text": [
      "[08:11:25] WARNING: C:/Users/Administrator/workspace/xgboost-win64_release_1.5.0/src/learner.cc:1115: Starting in XGBoost 1.3.0, the default evaluation metric used with the objective 'binary:logistic' was changed from 'error' to 'logloss'. Explicitly set eval_metric if you'd like to restore the old behavior.\n"
     ]
    }
   ],
   "source": [
    "xgb_params = {\n",
    "    'eta': 0.1, \n",
    "    'max_depth': 2,\n",
    "    'min_child_weight': 10,\n",
    "    \n",
    "    'objective': 'binary:logistic',\n",
    "    'nthread': 8,\n",
    "    \n",
    "    'seed': 1,\n",
    "    'verbosity': 1,\n",
    "}\n",
    "\n",
    "model = xgb.train(xgb_params, dtrain, num_boost_round=10)"
   ]
  },
  {
   "cell_type": "code",
   "execution_count": 141,
   "id": "4f06a6f8",
   "metadata": {},
   "outputs": [],
   "source": [
    "y_pred = model.predict(dval)"
   ]
  },
  {
   "cell_type": "code",
   "execution_count": 142,
   "id": "af8c3066",
   "metadata": {},
   "outputs": [
    {
     "data": {
      "text/plain": [
       "0.8754590395480226"
      ]
     },
     "execution_count": 142,
     "metadata": {},
     "output_type": "execute_result"
    }
   ],
   "source": [
    "roc_auc_score(y_val, y_pred)"
   ]
  },
  {
   "cell_type": "markdown",
   "id": "30f6ac33",
   "metadata": {},
   "source": [
    "### XGBoost parameter tuning\n",
    "Tuning the following parameters:\n",
    "\n",
    "   * eta\n",
    "   * max_depth\n",
    "   * min_child_weight"
   ]
  },
  {
   "cell_type": "code",
   "execution_count": 143,
   "id": "b8fdc36d",
   "metadata": {},
   "outputs": [],
   "source": [
    "def parse_xgb_output(output):\n",
    "    results = []\n",
    "\n",
    "    for line in output.stdout.strip().split('\\n'):\n",
    "        it_line, train_line, val_line = line.split('\\t')\n",
    "\n",
    "        it = int(it_line.strip('[]'))\n",
    "        train = float(train_line.split(':')[1])\n",
    "        val = float(val_line.split(':')[1])\n",
    "\n",
    "        results.append((it, train, val))\n",
    "    \n",
    "    columns = ['num_iter', 'train_auc', 'val_auc']\n",
    "    df_results = pd.DataFrame(results, columns=columns)\n",
    "    return df_results"
   ]
  },
  {
   "cell_type": "code",
   "execution_count": 144,
   "id": "b49fcdc6",
   "metadata": {},
   "outputs": [],
   "source": [
    "watchlist = [(dtrain, 'train'), (dval, 'val')]"
   ]
  },
  {
   "cell_type": "code",
   "execution_count": 145,
   "id": "2f5a1ae4",
   "metadata": {},
   "outputs": [],
   "source": [
    "scores = {}"
   ]
  },
  {
   "cell_type": "code",
   "execution_count": 158,
   "id": "b065a13d",
   "metadata": {},
   "outputs": [],
   "source": [
    "%%capture output\n",
    "\n",
    "xgb_params = {\n",
    "    'eta': 0.6, # 0.01, 0.1, 0.3, 0.4, 0.6\n",
    "    'max_depth': 6,\n",
    "    'min_child_weight': 1,\n",
    "    \n",
    "    'objective': 'binary:logistic',\n",
    "    'eval_metric': 'auc',\n",
    "\n",
    "    'nthread': 8,\n",
    "    'seed': 1,\n",
    "    'verbosity': 1,\n",
    "}\n",
    "\n",
    "model = xgb.train(xgb_params, dtrain, num_boost_round=200,\n",
    "                  verbose_eval=5,\n",
    "                  evals=watchlist)"
   ]
  },
  {
   "cell_type": "code",
   "execution_count": 159,
   "id": "514426d2",
   "metadata": {},
   "outputs": [
    {
     "data": {
      "text/plain": [
       "'eta=0.6'"
      ]
     },
     "execution_count": 159,
     "metadata": {},
     "output_type": "execute_result"
    }
   ],
   "source": [
    "key = 'eta=%s' % (xgb_params['eta'])\n",
    "scores[key] = parse_xgb_output(output)\n",
    "key"
   ]
  },
  {
   "cell_type": "code",
   "execution_count": 160,
   "id": "dd50eea7",
   "metadata": {
    "scrolled": true
   },
   "outputs": [
    {
     "data": {
      "text/plain": [
       "<matplotlib.legend.Legend at 0x1d7f6c9be20>"
      ]
     },
     "execution_count": 160,
     "metadata": {},
     "output_type": "execute_result"
    },
    {
     "data": {
      "image/png": "[encoded data removed]",
      "text/plain": [
       "<Figure size 432x288 with 1 Axes>"
      ]
     },
     "metadata": {
      "needs_background": "light"
     },
     "output_type": "display_data"
    }
   ],
   "source": [
    "for max_depth, df_score in scores.items():\n",
    "    plt.plot(df_score.num_iter, df_score.val_auc, label=max_depth)\n",
    "\n",
    "plt.ylim(0.87, 0.93)\n",
    "plt.legend()"
   ]
  },
  {
   "cell_type": "code",
   "execution_count": 161,
   "id": "c2440938",
   "metadata": {},
   "outputs": [],
   "source": [
    "scores = {}"
   ]
  },
  {
   "cell_type": "code",
   "execution_count": 200,
   "id": "92731963",
   "metadata": {},
   "outputs": [],
   "source": [
    "%%capture output\n",
    "\n",
    "xgb_params = {\n",
    "    'eta': 0.1, \n",
    "    'max_depth': 8, # 1,2,3,4,5,6,7,8\n",
    "    'min_child_weight': 1,\n",
    "    \n",
    "    'objective': 'binary:logistic',\n",
    "    'eval_metric': 'auc',\n",
    "\n",
    "    'nthread': 8,\n",
    "    'seed': 1,\n",
    "    'verbosity': 1,\n",
    "}\n",
    "\n",
    "model = xgb.train(xgb_params, dtrain, num_boost_round=200,\n",
    "                  verbose_eval=5,\n",
    "                  evals=watchlist)"
   ]
  },
  {
   "cell_type": "code",
   "execution_count": 201,
   "id": "3cb98810",
   "metadata": {},
   "outputs": [
    {
     "data": {
      "text/plain": [
       "'max_depth=8'"
      ]
     },
     "execution_count": 201,
     "metadata": {},
     "output_type": "execute_result"
    }
   ],
   "source": [
    "key = 'max_depth=%s' % (xgb_params['max_depth'])\n",
    "scores[key] = parse_xgb_output(output)\n",
    "key"
   ]
  },
  {
   "cell_type": "code",
   "execution_count": 202,
   "id": "28511362",
   "metadata": {},
   "outputs": [
    {
     "data": {
      "text/plain": [
       "<matplotlib.legend.Legend at 0x1d7f83e8fd0>"
      ]
     },
     "execution_count": 202,
     "metadata": {},
     "output_type": "execute_result"
    },
    {
     "data": {
      "image/png": "[encoded data removed]",
      "text/plain": [
       "<Figure size 432x288 with 1 Axes>"
      ]
     },
     "metadata": {
      "needs_background": "light"
     },
     "output_type": "display_data"
    }
   ],
   "source": [
    "for max_depth, df_score in scores.items():\n",
    "    plt.plot(df_score.num_iter, df_score.val_auc, label=max_depth)\n",
    "\n",
    "plt.ylim(0.88, 0.93)\n",
    "plt.legend()"
   ]
  },
  {
   "cell_type": "code",
   "execution_count": 203,
   "id": "ed9a59c2",
   "metadata": {},
   "outputs": [],
   "source": [
    "scores = {}"
   ]
  },
  {
   "cell_type": "code",
   "execution_count": 210,
   "id": "bcc6661f",
   "metadata": {},
   "outputs": [],
   "source": [
    "%%capture output\n",
    "\n",
    "xgb_params = {\n",
    "    'eta': 0.1, \n",
    "    'max_depth': 6,\n",
    "    'min_child_weight': 30,  # 1, 10, 30\n",
    "    \n",
    "    'objective': 'binary:logistic',\n",
    "    'eval_metric': 'auc',\n",
    "\n",
    "    'nthread': 8,\n",
    "    'seed': 1,\n",
    "    'verbosity': 1,\n",
    "}\n",
    "\n",
    "model = xgb.train(xgb_params, dtrain, num_boost_round=200,\n",
    "                  verbose_eval=5,\n",
    "                  evals=watchlist)"
   ]
  },
  {
   "cell_type": "code",
   "execution_count": 211,
   "id": "63c647c0",
   "metadata": {},
   "outputs": [
    {
     "data": {
      "text/plain": [
       "'min_child_weight=30'"
      ]
     },
     "execution_count": 211,
     "metadata": {},
     "output_type": "execute_result"
    }
   ],
   "source": [
    "key = 'min_child_weight=%s' % (xgb_params['min_child_weight'])\n",
    "scores[key] = parse_xgb_output(output)\n",
    "key"
   ]
  },
  {
   "cell_type": "code",
   "execution_count": 212,
   "id": "cdc2b61e",
   "metadata": {},
   "outputs": [
    {
     "data": {
      "text/plain": [
       "<matplotlib.legend.Legend at 0x1d7f849b2e0>"
      ]
     },
     "execution_count": 212,
     "metadata": {},
     "output_type": "execute_result"
    },
    {
     "data": {
      "image/png": "[encoded data removed]",
      "text/plain": [
       "<Figure size 432x288 with 1 Axes>"
      ]
     },
     "metadata": {
      "needs_background": "light"
     },
     "output_type": "display_data"
    }
   ],
   "source": [
    "for min_child_weight, df_score in scores.items():\n",
    "    plt.plot(df_score.num_iter, df_score.val_auc, label=min_child_weight)\n",
    "\n",
    "plt.ylim(0.86, 0.93)\n",
    "plt.legend()"
   ]
  },
  {
   "cell_type": "markdown",
   "id": "9ebf4097",
   "metadata": {},
   "source": [
    "#### Training the final model"
   ]
  },
  {
   "cell_type": "code",
   "execution_count": 213,
   "id": "b1fcea35",
   "metadata": {},
   "outputs": [],
   "source": [
    "xgb_params = {\n",
    "    'eta': 0.1, \n",
    "    'max_depth': 6,\n",
    "    'min_child_weight': 1,\n",
    "    \n",
    "    'objective': 'binary:logistic',\n",
    "    'eval_metric': 'auc',\n",
    "\n",
    "    'nthread': 8,\n",
    "    'seed': 1,\n",
    "    'verbosity': 1,\n",
    "}\n",
    "model = xgb.train(xgb_params, dtrain, num_boost_round=65)"
   ]
  },
  {
   "cell_type": "code",
   "execution_count": 214,
   "id": "94d3727e",
   "metadata": {},
   "outputs": [
    {
     "data": {
      "text/plain": [
       "0.917725988700565"
      ]
     },
     "execution_count": 214,
     "metadata": {},
     "output_type": "execute_result"
    }
   ],
   "source": [
    "y_pred = model.predict(dval)\n",
    "roc_auc_score(y_val, y_pred)"
   ]
  },
  {
   "cell_type": "code",
   "execution_count": 215,
   "id": "0718b0ac",
   "metadata": {},
   "outputs": [],
   "source": [
    "df_full_train = df_full_train.reset_index(drop=True)"
   ]
  },
  {
   "cell_type": "code",
   "execution_count": 217,
   "id": "5bf1a5f2",
   "metadata": {},
   "outputs": [],
   "source": [
    "y_full_train = df_full_train.target.values"
   ]
  },
  {
   "cell_type": "code",
   "execution_count": 218,
   "id": "a44c8e4e",
   "metadata": {},
   "outputs": [],
   "source": [
    "del df_full_train['target']"
   ]
  },
  {
   "cell_type": "code",
   "execution_count": 219,
   "id": "51225637",
   "metadata": {},
   "outputs": [],
   "source": [
    "dicts_full_train = df_full_train.to_dict(orient='records')\n",
    "\n",
    "# dv = DictVectorizer(sparse=False)\n",
    "X_full_train = dv.fit_transform(dicts_full_train)\n",
    "\n",
    "dicts_test = df_test.to_dict(orient='records')\n",
    "X_test = dv.transform(dicts_test)"
   ]
  },
  {
   "cell_type": "code",
   "execution_count": 220,
   "id": "183e4a35",
   "metadata": {},
   "outputs": [],
   "source": [
    "dfulltrain = xgb.DMatrix(X_full_train, label=y_full_train,\n",
    "                    feature_names=dv.get_feature_names())\n",
    "\n",
    "dtest = xgb.DMatrix(X_test, feature_names=dv.get_feature_names())"
   ]
  },
  {
   "cell_type": "code",
   "execution_count": 221,
   "id": "527b7a1f",
   "metadata": {},
   "outputs": [],
   "source": [
    "model = xgb.train(xgb_params, dfulltrain, num_boost_round=175)"
   ]
  },
  {
   "cell_type": "code",
   "execution_count": 222,
   "id": "70b46517",
   "metadata": {},
   "outputs": [],
   "source": [
    "y_pred = model.predict(dtest)"
   ]
  },
  {
   "cell_type": "code",
   "execution_count": 223,
   "id": "f972292f",
   "metadata": {},
   "outputs": [
    {
     "data": {
      "text/plain": [
       "0.9855288359225367"
      ]
     },
     "execution_count": 223,
     "metadata": {},
     "output_type": "execute_result"
    }
   ],
   "source": [
    "roc_auc_score(y_test, y_pred)"
   ]
  }
 ],
 "metadata": {
  "kernelspec": {
   "display_name": "Python 3 (ipykernel)",
   "language": "python",
   "name": "python3"
  },
  "language_info": {
   "codemirror_mode": {
    "name": "ipython",
    "version": 3
   },
   "file_extension": ".py",
   "mimetype": "text/x-python",
   "name": "python",
   "nbconvert_exporter": "python",
   "pygments_lexer": "ipython3",
   "version": "3.8.11"
  }
 },
 "nbformat": 4,
 "nbformat_minor": 5
}
