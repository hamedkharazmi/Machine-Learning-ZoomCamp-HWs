{
 "cells": [
  {
   "cell_type": "code",
   "execution_count": 6,
   "id": "fa9ef00b",
   "metadata": {},
   "outputs": [],
   "source": [
    "import numpy as np\n",
    "import matplotlib.pyplot as plt\n",
    "import tensorflow as tf\n",
    "from tensorflow.keras import datasets, layers, models\n",
    "from tensorflow.keras.preprocessing.image import ImageDataGenerator\n ",
    "\n",
    "%matplotlib inline"
   ]
  },
  {
   "cell_type": "code",
   "execution_count": 7,
   "id": "9439b563",
   "metadata": {},
   "outputs": [],
   "source": [
    "# Model\n",
    "model = models.Sequential()\n",
    "model.add(layers.Conv2D(32, (3, 3), activation=\"relu\", input_shape=(150, 150, 3)))\n",
    "model.add(layers.MaxPooling2D((2, 2)))\n",
    "model.add(layers.Flatten())\n",
    "model.add(layers.Dense(64, activation=\"relu\"))\n",
    "model.add(layers.Dense(1, activation=\"sigmoid\"))\n",
    "optimizer = tf.keras.optimizers.SGD(learning_rate=0.002, momentum=0.8)\n",
    "loss = tf.keras.losses.BinaryCrossentropy()\n",
    "model.compile(optimizer=optimizer, loss=loss, metrics=[\"accuracy\"])"
   ]
  },
  {
   "cell_type": "markdown",
   "id": "4dd4a705",
   "metadata": {},
   "source": [
    "## Question 1"
   ]
  },
  {
   "cell_type": "markdown",
   "id": "c5ff59b0",
   "metadata": {},
   "source": [
    "```BinaryCrossentropy``` is the best loss function for our problem"
   ]
  },
  {
   "cell_type": "markdown",
   "id": "45531121",
   "metadata": {},
   "source": [
    "## Question 2"
   ]
  },
  {
   "cell_type": "code",
   "execution_count": 8,
   "id": "0f83f968",
   "metadata": {},
   "outputs": [
    {
     "name": "stdout",
     "output_type": "stream",
     "text": [
      "Model: \"sequential_2\"\n",
      "_________________________________________________________________\n",
      "Layer (type)                 Output Shape              Param #   \n",
      "=================================================================\n",
      "conv2d_2 (Conv2D)            (None, 148, 148, 32)      896       \n",
      "_________________________________________________________________\n",
      "max_pooling2d_2 (MaxPooling2 (None, 74, 74, 32)        0         \n",
      "_________________________________________________________________\n",
      "flatten_2 (Flatten)          (None, 175232)            0         \n",
      "_________________________________________________________________\n",
      "dense_4 (Dense)              (None, 64)                11214912  \n",
      "_________________________________________________________________\n",
      "dense_5 (Dense)              (None, 1)                 65        \n",
      "=================================================================\n",
      "Total params: 11,215,873\n",
      "Trainable params: 11,215,873\n",
      "Non-trainable params: 0\n",
      "_________________________________________________________________\n"
     ]
    }
   ],
   "source": [
    "model.summary()"
   ]
  },
  {
   "cell_type": "code",
   "execution_count": 10,
   "id": "432b5f66",
   "metadata": {},
   "outputs": [
    {
     "name": "stdout",
     "output_type": "stream",
     "text": [
      "Found 20000 images belonging to 2 classes.\n"
     ]
    }
   ],
   "source": [
    "train_gen = ImageDataGenerator(rescale=1./255)\n",
    "\n",
    "train_ds = train_gen.flow_from_directory(\n",
    "    \"./data/train\",\n",
    "    target_size=(150, 150),\n",
    "    batch_size=20,\n",
    "    class_mode=\"binary\",\n",
    "    shuffle=True\n",
    ")"
   ]
  },
  {
   "cell_type": "code",
   "execution_count": 11,
   "id": "80ff43a2",
   "metadata": {},
   "outputs": [
    {
     "data": {
      "text/plain": [
       "{'cats': 0, 'dogs': 1}"
      ]
     },
     "execution_count": 11,
     "metadata": {},
     "output_type": "execute_result"
    }
   ],
   "source": [
    "train_ds.class_indices"
   ]
  },
  {
   "cell_type": "code",
   "execution_count": 12,
   "id": "4e521fbb",
   "metadata": {},
   "outputs": [
    {
     "name": "stdout",
     "output_type": "stream",
     "text": [
      "Found 5000 images belonging to 2 classes.\n"
     ]
    }
   ],
   "source": [
    "val_gen = ImageDataGenerator(rescale=1./255)\n",
    "\n",
    "val_ds = val_gen.flow_from_directory(\n",
    "    \"./data/validation\",\n",
    "    target_size=(150, 150),\n",
    "    batch_size=20,\n",
    "    class_mode=\"binary\",\n",
    "    shuffle=True\n",
    ")"
   ]
  },
  {
   "cell_type": "code",
   "execution_count": 13,
   "id": "b2b8fe26",
   "metadata": {},
   "outputs": [
    {
     "data": {
      "text/plain": [
       "{'cats': 0, 'dogs': 1}"
      ]
     },
     "execution_count": 13,
     "metadata": {},
     "output_type": "execute_result"
    }
   ],
   "source": [
    "val_ds.class_indices"
   ]
  },
  {
   "cell_type": "code",
   "execution_count": 14,
   "id": "d3bacf36",
   "metadata": {},
   "outputs": [
    {
     "name": "stdout",
     "output_type": "stream",
     "text": [
      "Epoch 1/10\n",
      "100/100 [==============================] - 64s 635ms/step - loss: 0.6982 - accuracy: 0.4980 - val_loss: 0.6868 - val_accuracy: 0.6000\n",
      "Epoch 2/10\n",
      "100/100 [==============================] - 34s 343ms/step - loss: 0.6873 - accuracy: 0.5390 - val_loss: 0.6794 - val_accuracy: 0.5500\n",
      "Epoch 3/10\n",
      "100/100 [==============================] - 32s 324ms/step - loss: 0.6832 - accuracy: 0.5610 - val_loss: 0.6728 - val_accuracy: 0.6060\n",
      "Epoch 4/10\n",
      "100/100 [==============================] - 29s 291ms/step - loss: 0.6734 - accuracy: 0.5860 - val_loss: 0.6674 - val_accuracy: 0.5760\n",
      "Epoch 5/10\n",
      "100/100 [==============================] - 29s 294ms/step - loss: 0.6672 - accuracy: 0.5940 - val_loss: 0.6560 - val_accuracy: 0.6150\n",
      "Epoch 6/10\n",
      "100/100 [==============================] - 33s 328ms/step - loss: 0.6640 - accuracy: 0.5800 - val_loss: 0.6537 - val_accuracy: 0.6170\n",
      "Epoch 7/10\n",
      "100/100 [==============================] - 30s 300ms/step - loss: 0.6614 - accuracy: 0.5900 - val_loss: 0.6535 - val_accuracy: 0.6090\n",
      "Epoch 8/10\n",
      "100/100 [==============================] - 29s 295ms/step - loss: 0.6524 - accuracy: 0.6080 - val_loss: 0.6744 - val_accuracy: 0.5640\n",
      "Epoch 9/10\n",
      "100/100 [==============================] - 59s 592ms/step - loss: 0.6463 - accuracy: 0.6090 - val_loss: 0.6420 - val_accuracy: 0.6180\n",
      "Epoch 10/10\n",
      "100/100 [==============================] - 32s 321ms/step - loss: 0.6425 - accuracy: 0.6240 - val_loss: 0.6341 - val_accuracy: 0.6160\n"
     ]
    }
   ],
   "source": [
    "history = model.fit(\n",
    "    train_ds,\n",
    "    steps_per_epoch=100,\n",
    "    epochs=10,\n",
    "    validation_data=val_ds,\n",
    "    validation_steps=50\n",
    ")"
   ]
  },
  {
   "cell_type": "code",
   "execution_count": 15,
   "id": "e85269b1",
   "metadata": {},
   "outputs": [
    {
     "data": {
      "image/png": "[encoded data removed]",
      "text/plain": [
       "<Figure size 432x288 with 1 Axes>"
      ]
     },
     "metadata": {
      "needs_background": "light"
     },
     "output_type": "display_data"
    }
   ],
   "source": [
    "plt.plot(history.history[\"accuracy\"], label=\"train\")\n",
    "plt.plot(history.history[\"val_accuracy\"], label=\"val\")\n",
    "plt.xticks(np.arange(10))\n",
    "plt.legend()\n",
    "plt.show()"
   ]
  },
  {
   "cell_type": "markdown",
   "id": "135a0d1e",
   "metadata": {},
   "source": [
    "## Question 3"
   ]
  },
  {
   "cell_type": "code",
   "execution_count": 16,
   "id": "57cea0ac",
   "metadata": {},
   "outputs": [
    {
     "data": {
      "text/plain": [
       "0.588"
      ]
     },
     "execution_count": 16,
     "metadata": {},
     "output_type": "execute_result"
    }
   ],
   "source": [
    "np.median(history.history[\"accuracy\"]).round(3)"
   ]
  },
  {
   "cell_type": "markdown",
   "id": "21a959db",
   "metadata": {},
   "source": [
    "## Question 4"
   ]
  },
  {
   "cell_type": "code",
   "execution_count": 17,
   "id": "af2d421f",
   "metadata": {},
   "outputs": [
    {
     "data": {
      "text/plain": [
       "0.017"
      ]
     },
     "execution_count": 17,
     "metadata": {},
     "output_type": "execute_result"
    }
   ],
   "source": [
    "np.std(history.history[\"loss\"]).round(3)"
   ]
  },
  {
   "cell_type": "code",
   "execution_count": 18,
   "id": "b0946a7f",
   "metadata": {},
   "outputs": [
    {
     "name": "stdout",
     "output_type": "stream",
     "text": [
      "Found 20000 images belonging to 2 classes.\n"
     ]
    }
   ],
   "source": [
    "train_gen_aug = ImageDataGenerator(\n",
    "    rescale=1./255,\n",
    "    rotation_range=40,\n",
    "    width_shift_range=0.2,\n",
    "    height_shift_range=0.2,\n",
    "    shear_range=0.2,\n",
    "    zoom_range=0.2,\n",
    "    horizontal_flip=True,\n",
    "    fill_mode=\"nearest\"\n",
    ")\n",
    "\n",
    "train_ds_aug = train_gen_aug.flow_from_directory(\n",
    "    \"./data/train\",\n",
    "    target_size=(150, 150),\n",
    "    batch_size=20,\n",
    "    class_mode=\"binary\",\n",
    "    shuffle=True\n",
    ")"
   ]
  },
  {
   "cell_type": "code",
   "execution_count": 19,
   "id": "59925305",
   "metadata": {},
   "outputs": [
    {
     "name": "stdout",
     "output_type": "stream",
     "text": [
      "Epoch 1/10\n",
      "100/100 [==============================] - 62s 619ms/step - loss: 0.6678 - accuracy: 0.5790 - val_loss: 0.6295 - val_accuracy: 0.6550\n",
      "Epoch 2/10\n",
      "100/100 [==============================] - 36s 361ms/step - loss: 0.6634 - accuracy: 0.5845 - val_loss: 0.6233 - val_accuracy: 0.6370\n",
      "Epoch 3/10\n",
      "100/100 [==============================] - 33s 333ms/step - loss: 0.6579 - accuracy: 0.5935 - val_loss: 0.6625 - val_accuracy: 0.5860\n",
      "Epoch 4/10\n",
      "100/100 [==============================] - 32s 323ms/step - loss: 0.6579 - accuracy: 0.5980 - val_loss: 0.6239 - val_accuracy: 0.6500\n",
      "Epoch 5/10\n",
      "100/100 [==============================] - 32s 316ms/step - loss: 0.6613 - accuracy: 0.5860 - val_loss: 0.6172 - val_accuracy: 0.6660\n",
      "Epoch 6/10\n",
      "100/100 [==============================] - 31s 314ms/step - loss: 0.6566 - accuracy: 0.5975 - val_loss: 0.6312 - val_accuracy: 0.6600\n",
      "Epoch 7/10\n",
      "100/100 [==============================] - 31s 307ms/step - loss: 0.6561 - accuracy: 0.6060 - val_loss: 0.6306 - val_accuracy: 0.6460\n",
      "Epoch 8/10\n",
      "100/100 [==============================] - 31s 311ms/step - loss: 0.6500 - accuracy: 0.6070 - val_loss: 0.6179 - val_accuracy: 0.6470\n",
      "Epoch 9/10\n",
      "100/100 [==============================] - 31s 312ms/step - loss: 0.6508 - accuracy: 0.6005 - val_loss: 0.6324 - val_accuracy: 0.6050\n",
      "Epoch 10/10\n",
      "100/100 [==============================] - 31s 304ms/step - loss: 0.6474 - accuracy: 0.6190 - val_loss: 0.6029 - val_accuracy: 0.6640\n"
     ]
    }
   ],
   "source": [
    "history_aug = model.fit(\n",
    "    train_ds_aug,\n",
    "    steps_per_epoch=100,\n",
    "    epochs=10,\n",
    "    validation_data=val_ds,\n",
    "    validation_steps=50\n",
    ")"
   ]
  },
  {
   "cell_type": "markdown",
   "id": "62ae8488",
   "metadata": {},
   "source": [
    "## Question 5"
   ]
  },
  {
   "cell_type": "code",
   "execution_count": 21,
   "id": "44958d0b",
   "metadata": {},
   "outputs": [
    {
     "data": {
      "text/plain": [
       "0.627"
      ]
     },
     "execution_count": 21,
     "metadata": {},
     "output_type": "execute_result"
    }
   ],
   "source": [
    "np.mean(history_aug.history[\"val_loss\"]).round(3)"
   ]
  },
  {
   "cell_type": "markdown",
   "id": "b0dc7d14",
   "metadata": {},
   "source": [
    "## Question 6"
   ]
  },
  {
   "cell_type": "code",
   "execution_count": 22,
   "id": "bec2d804",
   "metadata": {},
   "outputs": [
    {
     "data": {
      "text/plain": [
       "0.644"
      ]
     },
     "execution_count": 22,
     "metadata": {},
     "output_type": "execute_result"
    }
   ],
   "source": [
    "np.mean(history_aug.history[\"val_accuracy\"][5:]).round(3)"
   ]
  }
 ],
 "metadata": {
  "kernelspec": {
   "display_name": "Python 3 (ipykernel)",
   "language": "python",
   "name": "python3"
  },
  "language_info": {
   "codemirror_mode": {
    "name": "ipython",
    "version": 3
   },
   "file_extension": ".py",
   "mimetype": "text/x-python",
   "name": "python",
   "nbconvert_exporter": "python",
   "pygments_lexer": "ipython3",
   "version": "3.8.11"
  }
 },
 "nbformat": 4,
 "nbformat_minor": 5
}
